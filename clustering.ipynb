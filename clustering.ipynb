{
 "cells": [
  {
   "cell_type": "markdown",
   "metadata": {},
   "source": [
    "# Clustering\n",
    "## Ikjot Singh\n",
    "### 102116071\n",
    "### 3CS11"
   ]
  },
  {
   "cell_type": "markdown",
   "metadata": {},
   "source": [
    "### Imports\n",
    "*Importing libraries*"
   ]
  },
  {
   "cell_type": "code",
   "execution_count": 1,
   "metadata": {},
   "outputs": [],
   "source": [
    "from ucimlrepo import fetch_ucirepo \n",
    "import pandas as pd\n",
    "from pycaret.clustering import *"
   ]
  },
  {
   "cell_type": "markdown",
   "metadata": {},
   "source": [
    "*Importing Dataset*\n",
    "\n",
    "Estimation of obesity levels based on eating habits and physical condition . (2019). UCI Machine Learning Repository. https://doi.org/10.24432/C5H31Z."
   ]
  },
  {
   "cell_type": "code",
   "execution_count": 2,
   "metadata": {},
   "outputs": [],
   "source": [
    "estimation_of_obesity_levels_based_on_eating_habits_and_physical_condition = fetch_ucirepo(id=544) "
   ]
  },
  {
   "cell_type": "markdown",
   "metadata": {},
   "source": [
    "### Preprocessing"
   ]
  },
  {
   "cell_type": "markdown",
   "metadata": {},
   "source": [
    "*Splitting Dataset into x and y* "
   ]
  },
  {
   "cell_type": "code",
   "execution_count": 3,
   "metadata": {},
   "outputs": [],
   "source": [
    "X = estimation_of_obesity_levels_based_on_eating_habits_and_physical_condition.data.features \n",
    "y = estimation_of_obesity_levels_based_on_eating_habits_and_physical_condition.data.targets"
   ]
  },
  {
   "cell_type": "code",
   "execution_count": 4,
   "metadata": {},
   "outputs": [
    {
     "data": {
      "text/html": [
       "<div>\n",
       "<style scoped>\n",
       "    .dataframe tbody tr th:only-of-type {\n",
       "        vertical-align: middle;\n",
       "    }\n",
       "\n",
       "    .dataframe tbody tr th {\n",
       "        vertical-align: top;\n",
       "    }\n",
       "\n",
       "    .dataframe thead th {\n",
       "        text-align: right;\n",
       "    }\n",
       "</style>\n",
       "<table border=\"1\" class=\"dataframe\">\n",
       "  <thead>\n",
       "    <tr style=\"text-align: right;\">\n",
       "      <th></th>\n",
       "      <th>Gender</th>\n",
       "      <th>Age</th>\n",
       "      <th>Height</th>\n",
       "      <th>Weight</th>\n",
       "      <th>family_history_with_overweight</th>\n",
       "      <th>FAVC</th>\n",
       "      <th>FCVC</th>\n",
       "      <th>NCP</th>\n",
       "      <th>CAEC</th>\n",
       "      <th>SMOKE</th>\n",
       "      <th>CH2O</th>\n",
       "      <th>SCC</th>\n",
       "      <th>FAF</th>\n",
       "      <th>TUE</th>\n",
       "      <th>CALC</th>\n",
       "      <th>MTRANS</th>\n",
       "    </tr>\n",
       "  </thead>\n",
       "  <tbody>\n",
       "    <tr>\n",
       "      <th>0</th>\n",
       "      <td>Female</td>\n",
       "      <td>21.0</td>\n",
       "      <td>1.62</td>\n",
       "      <td>64.0</td>\n",
       "      <td>yes</td>\n",
       "      <td>no</td>\n",
       "      <td>2.0</td>\n",
       "      <td>3.0</td>\n",
       "      <td>Sometimes</td>\n",
       "      <td>no</td>\n",
       "      <td>2.0</td>\n",
       "      <td>no</td>\n",
       "      <td>0.0</td>\n",
       "      <td>1.0</td>\n",
       "      <td>no</td>\n",
       "      <td>Public_Transportation</td>\n",
       "    </tr>\n",
       "    <tr>\n",
       "      <th>1</th>\n",
       "      <td>Female</td>\n",
       "      <td>21.0</td>\n",
       "      <td>1.52</td>\n",
       "      <td>56.0</td>\n",
       "      <td>yes</td>\n",
       "      <td>no</td>\n",
       "      <td>3.0</td>\n",
       "      <td>3.0</td>\n",
       "      <td>Sometimes</td>\n",
       "      <td>yes</td>\n",
       "      <td>3.0</td>\n",
       "      <td>yes</td>\n",
       "      <td>3.0</td>\n",
       "      <td>0.0</td>\n",
       "      <td>Sometimes</td>\n",
       "      <td>Public_Transportation</td>\n",
       "    </tr>\n",
       "    <tr>\n",
       "      <th>2</th>\n",
       "      <td>Male</td>\n",
       "      <td>23.0</td>\n",
       "      <td>1.80</td>\n",
       "      <td>77.0</td>\n",
       "      <td>yes</td>\n",
       "      <td>no</td>\n",
       "      <td>2.0</td>\n",
       "      <td>3.0</td>\n",
       "      <td>Sometimes</td>\n",
       "      <td>no</td>\n",
       "      <td>2.0</td>\n",
       "      <td>no</td>\n",
       "      <td>2.0</td>\n",
       "      <td>1.0</td>\n",
       "      <td>Frequently</td>\n",
       "      <td>Public_Transportation</td>\n",
       "    </tr>\n",
       "    <tr>\n",
       "      <th>3</th>\n",
       "      <td>Male</td>\n",
       "      <td>27.0</td>\n",
       "      <td>1.80</td>\n",
       "      <td>87.0</td>\n",
       "      <td>no</td>\n",
       "      <td>no</td>\n",
       "      <td>3.0</td>\n",
       "      <td>3.0</td>\n",
       "      <td>Sometimes</td>\n",
       "      <td>no</td>\n",
       "      <td>2.0</td>\n",
       "      <td>no</td>\n",
       "      <td>2.0</td>\n",
       "      <td>0.0</td>\n",
       "      <td>Frequently</td>\n",
       "      <td>Walking</td>\n",
       "    </tr>\n",
       "    <tr>\n",
       "      <th>4</th>\n",
       "      <td>Male</td>\n",
       "      <td>22.0</td>\n",
       "      <td>1.78</td>\n",
       "      <td>89.8</td>\n",
       "      <td>no</td>\n",
       "      <td>no</td>\n",
       "      <td>2.0</td>\n",
       "      <td>1.0</td>\n",
       "      <td>Sometimes</td>\n",
       "      <td>no</td>\n",
       "      <td>2.0</td>\n",
       "      <td>no</td>\n",
       "      <td>0.0</td>\n",
       "      <td>0.0</td>\n",
       "      <td>Sometimes</td>\n",
       "      <td>Public_Transportation</td>\n",
       "    </tr>\n",
       "  </tbody>\n",
       "</table>\n",
       "</div>"
      ],
      "text/plain": [
       "   Gender   Age  Height  Weight family_history_with_overweight FAVC  FCVC  \\\n",
       "0  Female  21.0    1.62    64.0                            yes   no   2.0   \n",
       "1  Female  21.0    1.52    56.0                            yes   no   3.0   \n",
       "2    Male  23.0    1.80    77.0                            yes   no   2.0   \n",
       "3    Male  27.0    1.80    87.0                             no   no   3.0   \n",
       "4    Male  22.0    1.78    89.8                             no   no   2.0   \n",
       "\n",
       "   NCP       CAEC SMOKE  CH2O  SCC  FAF  TUE        CALC  \\\n",
       "0  3.0  Sometimes    no   2.0   no  0.0  1.0          no   \n",
       "1  3.0  Sometimes   yes   3.0  yes  3.0  0.0   Sometimes   \n",
       "2  3.0  Sometimes    no   2.0   no  2.0  1.0  Frequently   \n",
       "3  3.0  Sometimes    no   2.0   no  2.0  0.0  Frequently   \n",
       "4  1.0  Sometimes    no   2.0   no  0.0  0.0   Sometimes   \n",
       "\n",
       "                  MTRANS  \n",
       "0  Public_Transportation  \n",
       "1  Public_Transportation  \n",
       "2  Public_Transportation  \n",
       "3                Walking  \n",
       "4  Public_Transportation  "
      ]
     },
     "execution_count": 4,
     "metadata": {},
     "output_type": "execute_result"
    }
   ],
   "source": [
    "X.head()"
   ]
  },
  {
   "cell_type": "code",
   "execution_count": 5,
   "metadata": {},
   "outputs": [
    {
     "data": {
      "text/html": [
       "<div>\n",
       "<style scoped>\n",
       "    .dataframe tbody tr th:only-of-type {\n",
       "        vertical-align: middle;\n",
       "    }\n",
       "\n",
       "    .dataframe tbody tr th {\n",
       "        vertical-align: top;\n",
       "    }\n",
       "\n",
       "    .dataframe thead th {\n",
       "        text-align: right;\n",
       "    }\n",
       "</style>\n",
       "<table border=\"1\" class=\"dataframe\">\n",
       "  <thead>\n",
       "    <tr style=\"text-align: right;\">\n",
       "      <th></th>\n",
       "      <th>NObeyesdad</th>\n",
       "    </tr>\n",
       "  </thead>\n",
       "  <tbody>\n",
       "    <tr>\n",
       "      <th>0</th>\n",
       "      <td>Normal_Weight</td>\n",
       "    </tr>\n",
       "    <tr>\n",
       "      <th>1</th>\n",
       "      <td>Normal_Weight</td>\n",
       "    </tr>\n",
       "    <tr>\n",
       "      <th>2</th>\n",
       "      <td>Normal_Weight</td>\n",
       "    </tr>\n",
       "    <tr>\n",
       "      <th>3</th>\n",
       "      <td>Overweight_Level_I</td>\n",
       "    </tr>\n",
       "    <tr>\n",
       "      <th>4</th>\n",
       "      <td>Overweight_Level_II</td>\n",
       "    </tr>\n",
       "  </tbody>\n",
       "</table>\n",
       "</div>"
      ],
      "text/plain": [
       "            NObeyesdad\n",
       "0        Normal_Weight\n",
       "1        Normal_Weight\n",
       "2        Normal_Weight\n",
       "3   Overweight_Level_I\n",
       "4  Overweight_Level_II"
      ]
     },
     "execution_count": 5,
     "metadata": {},
     "output_type": "execute_result"
    }
   ],
   "source": [
    "y.head()\n"
   ]
  },
  {
   "cell_type": "markdown",
   "metadata": {},
   "source": [
    "*Preprocessing Data*"
   ]
  },
  {
   "cell_type": "code",
   "execution_count": 6,
   "metadata": {},
   "outputs": [],
   "source": [
    "X[\"Gender\"]=X[\"Gender\"].apply(lambda x: {True: 1, False:0}[x==\"Male\"])\n",
    "X[\"FAVC\"]=X[\"FAVC\"].apply(lambda x: {True: 1, False:0}[x==\"yes\"])\n",
    "X[\"family_history_with_overweight\"]=X[\"family_history_with_overweight\"].apply(lambda x: {True: 1, False:0}[x==\"yes\"])\n",
    "X[\"SMOKE\"]=X[\"SMOKE\"].apply(lambda x: {True: 1, False:0}[x==\"yes\"])\n",
    "X[\"SCC\"]=X[\"SCC\"].apply(lambda x: {True: 1, False:0}[x==\"yes\"])"
   ]
  },
  {
   "cell_type": "code",
   "execution_count": 7,
   "metadata": {},
   "outputs": [],
   "source": [
    "X['CAEC']=X['CAEC'].apply(lambda x: {'no':0,'Sometimes':1,'Frequently':2,'Always':3}[x])\n",
    "X['CALC']=X['CALC'].apply(lambda x: {'no':0,'Sometimes':1,'Frequently':2,'Always':3}[x])\n",
    "X=pd.get_dummies(X,columns=['MTRANS'],drop_first=True)"
   ]
  },
  {
   "cell_type": "markdown",
   "metadata": {},
   "source": [
    "### Metrics"
   ]
  },
  {
   "cell_type": "markdown",
   "metadata": {},
   "source": [
    "*Creating dataframes for storing metrics*"
   ]
  },
  {
   "cell_type": "code",
   "execution_count": 8,
   "metadata": {},
   "outputs": [],
   "source": [
    "rows = [ 'Silhouette', 'Calinski-Harabasz', 'Davies-Bouldin']\n",
    "kmeans_metrics = pd.DataFrame(index = rows)\n",
    "hier_metrics = pd.DataFrame(index = rows)\n",
    "kmeans_shift_metrics = pd.DataFrame(index = rows)"
   ]
  },
  {
   "cell_type": "markdown",
   "metadata": {},
   "source": [
    "*Defining a function to get the metrics*"
   ]
  },
  {
   "cell_type": "code",
   "execution_count": 9,
   "metadata": {},
   "outputs": [],
   "source": [
    "def get_scores(Model, metrics):\n",
    "    silhouette_score_function = metrics.loc['silhouette', 'Score Function']\n",
    "    silhouette_score = silhouette_score_function(X, Model.labels_)\n",
    "\n",
    "    chs_score_function = metrics.loc['chs', 'Score Function']\n",
    "    Calinski_Harabasz_score = chs_score_function(X, Model.labels_)\n",
    "\n",
    "    db_score_function = metrics.loc['db', 'Score Function']\n",
    "    Davies_Bouldin_score = db_score_function(X, Model.labels_)\n",
    "\n",
    "    return (silhouette_score, Calinski_Harabasz_score, Davies_Bouldin_score)"
   ]
  },
  {
   "cell_type": "markdown",
   "metadata": {},
   "source": [
    "### Running Models"
   ]
  },
  {
   "cell_type": "markdown",
   "metadata": {},
   "source": [
    "*Defining a function to run models*"
   ]
  },
  {
   "cell_type": "code",
   "execution_count": 10,
   "metadata": {},
   "outputs": [],
   "source": [
    "def run_clustering_model(model_name, setup_args, num_clusters_range, data):\n",
    "    metrics_dict = {}\n",
    "\n",
    "    for setup_arg in setup_args:\n",
    "        for num_clusters in num_clusters_range:\n",
    "            print(model_name, setup_arg['Type'], num_clusters)\n",
    "            model_params = setup(data=X, **setup_arg['setup_kwargs'])\n",
    "            model = create_model(model_name, num_clusters=num_clusters)\n",
    "            metrics = get_metrics()\n",
    "\n",
    "            a,b,c = get_scores(model, metrics)\n",
    "\n",
    "            metrics_dict[(setup_arg['Type'], f'c={num_clusters}')] = [a,b,c]\n",
    "\n",
    "    return pd.DataFrame(data=metrics_dict, index=rows)\n"
   ]
  },
  {
   "cell_type": "markdown",
   "metadata": {},
   "source": [
    "*Defining rows for metrics and number of clusters*"
   ]
  },
  {
   "cell_type": "code",
   "execution_count": 11,
   "metadata": {},
   "outputs": [],
   "source": [
    "rows = ['Silhouette', 'Calinski-Harabasz', 'Davies-Bouldin']\n",
    "num_clusters_range = range(3, 6) "
   ]
  },
  {
   "cell_type": "markdown",
   "metadata": {},
   "source": [
    "*Defining setup args for all scenarios*"
   ]
  },
  {
   "cell_type": "code",
   "execution_count": 12,
   "metadata": {},
   "outputs": [],
   "source": [
    "setup_args = [\n",
    "    {'Type': 'No Data Preprocessing', 'setup_kwargs': {'verbose': False}},\n",
    "    {'Type': 'Using Normalization', 'setup_kwargs': {'normalize': True, 'normalize_method': 'zscore', 'verbose': False}},\n",
    "    {'Type': 'Using Transform', 'setup_kwargs': {'transformation': True, 'transformation_method': 'yeo-johnson', 'verbose': False}},\n",
    "    {'Type': 'Using PCA', 'setup_kwargs': {'pca': True, 'pca_method': 'linear', 'verbose': False}},\n",
    "    {'Type': 'Using T+N', 'setup_kwargs': {'transformation': True, 'transformation_method': 'yeo-johnson', 'normalize': True, 'normalize_method': 'zscore', 'verbose': False}},\n",
    "    {'Type': 'Using T+N+PCA', 'setup_kwargs': {'pca': True, 'pca_method': 'linear', 'normalize': True, 'normalize_method': 'zscore', 'transformation': True, 'transformation_method': 'yeo-johnson', 'verbose': False}}\n",
    "]\n",
    "\n"
   ]
  },
  {
   "cell_type": "markdown",
   "metadata": {},
   "source": [
    "*Creating a dictionary to store results*"
   ]
  },
  {
   "cell_type": "code",
   "execution_count": 13,
   "metadata": {},
   "outputs": [],
   "source": [
    "result_dict={}"
   ]
  },
  {
   "cell_type": "markdown",
   "metadata": {},
   "source": [
    "*Running Models*\n",
    "- Kmeans Clustering\n",
    "- Hierarchical Clustering\n",
    "- Mean Shift Clustering"
   ]
  },
  {
   "cell_type": "code",
   "execution_count": 14,
   "metadata": {},
   "outputs": [
    {
     "name": "stdout",
     "output_type": "stream",
     "text": [
      "kmeans No Data Preprocessing 3\n"
     ]
    },
    {
     "data": {
      "text/html": [],
      "text/plain": [
       "<IPython.core.display.HTML object>"
      ]
     },
     "metadata": {},
     "output_type": "display_data"
    },
    {
     "data": {
      "text/html": [
       "<style type=\"text/css\">\n",
       "</style>\n",
       "<table id=\"T_d3ee8\">\n",
       "  <thead>\n",
       "    <tr>\n",
       "      <th class=\"blank level0\" >&nbsp;</th>\n",
       "      <th id=\"T_d3ee8_level0_col0\" class=\"col_heading level0 col0\" >Silhouette</th>\n",
       "      <th id=\"T_d3ee8_level0_col1\" class=\"col_heading level0 col1\" >Calinski-Harabasz</th>\n",
       "      <th id=\"T_d3ee8_level0_col2\" class=\"col_heading level0 col2\" >Davies-Bouldin</th>\n",
       "      <th id=\"T_d3ee8_level0_col3\" class=\"col_heading level0 col3\" >Homogeneity</th>\n",
       "      <th id=\"T_d3ee8_level0_col4\" class=\"col_heading level0 col4\" >Rand Index</th>\n",
       "      <th id=\"T_d3ee8_level0_col5\" class=\"col_heading level0 col5\" >Completeness</th>\n",
       "    </tr>\n",
       "  </thead>\n",
       "  <tbody>\n",
       "    <tr>\n",
       "      <th id=\"T_d3ee8_level0_row0\" class=\"row_heading level0 row0\" >0</th>\n",
       "      <td id=\"T_d3ee8_row0_col0\" class=\"data row0 col0\" >0.5031</td>\n",
       "      <td id=\"T_d3ee8_row0_col1\" class=\"data row0 col1\" >4729.2488</td>\n",
       "      <td id=\"T_d3ee8_row0_col2\" class=\"data row0 col2\" >0.6675</td>\n",
       "      <td id=\"T_d3ee8_row0_col3\" class=\"data row0 col3\" >0</td>\n",
       "      <td id=\"T_d3ee8_row0_col4\" class=\"data row0 col4\" >0</td>\n",
       "      <td id=\"T_d3ee8_row0_col5\" class=\"data row0 col5\" >0</td>\n",
       "    </tr>\n",
       "  </tbody>\n",
       "</table>\n"
      ],
      "text/plain": [
       "<pandas.io.formats.style.Styler at 0x1f8acafcd90>"
      ]
     },
     "metadata": {},
     "output_type": "display_data"
    },
    {
     "data": {
      "text/html": [],
      "text/plain": [
       "<IPython.core.display.HTML object>"
      ]
     },
     "metadata": {},
     "output_type": "display_data"
    },
    {
     "name": "stdout",
     "output_type": "stream",
     "text": [
      "kmeans No Data Preprocessing 4\n"
     ]
    },
    {
     "data": {
      "text/html": [
       "<div>\n",
       "<style scoped>\n",
       "    .dataframe tbody tr th:only-of-type {\n",
       "        vertical-align: middle;\n",
       "    }\n",
       "\n",
       "    .dataframe tbody tr th {\n",
       "        vertical-align: top;\n",
       "    }\n",
       "\n",
       "    .dataframe thead th {\n",
       "        text-align: right;\n",
       "    }\n",
       "</style>\n",
       "<table border=\"1\" class=\"dataframe\">\n",
       "  <thead>\n",
       "    <tr style=\"text-align: right;\">\n",
       "      <th></th>\n",
       "      <th></th>\n",
       "      <th></th>\n",
       "    </tr>\n",
       "    <tr>\n",
       "      <th></th>\n",
       "      <th></th>\n",
       "      <th></th>\n",
       "    </tr>\n",
       "  </thead>\n",
       "  <tbody>\n",
       "    <tr>\n",
       "      <th>Initiated</th>\n",
       "      <td>. . . . . . . . . . . . . . . . . .</td>\n",
       "      <td>02:54:33</td>\n",
       "    </tr>\n",
       "    <tr>\n",
       "      <th>Status</th>\n",
       "      <td>. . . . . . . . . . . . . . . . . .</td>\n",
       "      <td>Fitting 4 Clusters</td>\n",
       "    </tr>\n",
       "    <tr>\n",
       "      <th>Estimator</th>\n",
       "      <td>. . . . . . . . . . . . . . . . . .</td>\n",
       "      <td>K-Means Clustering</td>\n",
       "    </tr>\n",
       "  </tbody>\n",
       "</table>\n",
       "</div>"
      ],
      "text/plain": [
       "                                                                  \n",
       "                                                                  \n",
       "Initiated  . . . . . . . . . . . . . . . . . .            02:54:33\n",
       "Status     . . . . . . . . . . . . . . . . . .  Fitting 4 Clusters\n",
       "Estimator  . . . . . . . . . . . . . . . . . .  K-Means Clustering"
      ]
     },
     "metadata": {},
     "output_type": "display_data"
    },
    {
     "data": {
      "text/html": [
       "<style type=\"text/css\">\n",
       "</style>\n",
       "<table id=\"T_e077f\">\n",
       "  <thead>\n",
       "    <tr>\n",
       "      <th class=\"blank level0\" >&nbsp;</th>\n",
       "      <th id=\"T_e077f_level0_col0\" class=\"col_heading level0 col0\" >Silhouette</th>\n",
       "      <th id=\"T_e077f_level0_col1\" class=\"col_heading level0 col1\" >Calinski-Harabasz</th>\n",
       "      <th id=\"T_e077f_level0_col2\" class=\"col_heading level0 col2\" >Davies-Bouldin</th>\n",
       "      <th id=\"T_e077f_level0_col3\" class=\"col_heading level0 col3\" >Homogeneity</th>\n",
       "      <th id=\"T_e077f_level0_col4\" class=\"col_heading level0 col4\" >Rand Index</th>\n",
       "      <th id=\"T_e077f_level0_col5\" class=\"col_heading level0 col5\" >Completeness</th>\n",
       "    </tr>\n",
       "  </thead>\n",
       "  <tbody>\n",
       "    <tr>\n",
       "      <th id=\"T_e077f_level0_row0\" class=\"row_heading level0 row0\" >0</th>\n",
       "      <td id=\"T_e077f_row0_col0\" class=\"data row0 col0\" >0.4784</td>\n",
       "      <td id=\"T_e077f_row0_col1\" class=\"data row0 col1\" >4817.9545</td>\n",
       "      <td id=\"T_e077f_row0_col2\" class=\"data row0 col2\" >0.6844</td>\n",
       "      <td id=\"T_e077f_row0_col3\" class=\"data row0 col3\" >0</td>\n",
       "      <td id=\"T_e077f_row0_col4\" class=\"data row0 col4\" >0</td>\n",
       "      <td id=\"T_e077f_row0_col5\" class=\"data row0 col5\" >0</td>\n",
       "    </tr>\n",
       "  </tbody>\n",
       "</table>\n"
      ],
      "text/plain": [
       "<pandas.io.formats.style.Styler at 0x1f8acaaaf10>"
      ]
     },
     "metadata": {},
     "output_type": "display_data"
    },
    {
     "data": {
      "text/html": [],
      "text/plain": [
       "<IPython.core.display.HTML object>"
      ]
     },
     "metadata": {},
     "output_type": "display_data"
    },
    {
     "name": "stdout",
     "output_type": "stream",
     "text": [
      "kmeans No Data Preprocessing 5\n"
     ]
    },
    {
     "data": {
      "text/html": [],
      "text/plain": [
       "<IPython.core.display.HTML object>"
      ]
     },
     "metadata": {},
     "output_type": "display_data"
    },
    {
     "data": {
      "text/html": [
       "<style type=\"text/css\">\n",
       "</style>\n",
       "<table id=\"T_c7313\">\n",
       "  <thead>\n",
       "    <tr>\n",
       "      <th class=\"blank level0\" >&nbsp;</th>\n",
       "      <th id=\"T_c7313_level0_col0\" class=\"col_heading level0 col0\" >Silhouette</th>\n",
       "      <th id=\"T_c7313_level0_col1\" class=\"col_heading level0 col1\" >Calinski-Harabasz</th>\n",
       "      <th id=\"T_c7313_level0_col2\" class=\"col_heading level0 col2\" >Davies-Bouldin</th>\n",
       "      <th id=\"T_c7313_level0_col3\" class=\"col_heading level0 col3\" >Homogeneity</th>\n",
       "      <th id=\"T_c7313_level0_col4\" class=\"col_heading level0 col4\" >Rand Index</th>\n",
       "      <th id=\"T_c7313_level0_col5\" class=\"col_heading level0 col5\" >Completeness</th>\n",
       "    </tr>\n",
       "  </thead>\n",
       "  <tbody>\n",
       "    <tr>\n",
       "      <th id=\"T_c7313_level0_row0\" class=\"row_heading level0 row0\" >0</th>\n",
       "      <td id=\"T_c7313_row0_col0\" class=\"data row0 col0\" >0.4317</td>\n",
       "      <td id=\"T_c7313_row0_col1\" class=\"data row0 col1\" >4599.8858</td>\n",
       "      <td id=\"T_c7313_row0_col2\" class=\"data row0 col2\" >0.7520</td>\n",
       "      <td id=\"T_c7313_row0_col3\" class=\"data row0 col3\" >0</td>\n",
       "      <td id=\"T_c7313_row0_col4\" class=\"data row0 col4\" >0</td>\n",
       "      <td id=\"T_c7313_row0_col5\" class=\"data row0 col5\" >0</td>\n",
       "    </tr>\n",
       "  </tbody>\n",
       "</table>\n"
      ],
      "text/plain": [
       "<pandas.io.formats.style.Styler at 0x1f8aca75bd0>"
      ]
     },
     "metadata": {},
     "output_type": "display_data"
    },
    {
     "data": {
      "text/html": [],
      "text/plain": [
       "<IPython.core.display.HTML object>"
      ]
     },
     "metadata": {},
     "output_type": "display_data"
    },
    {
     "name": "stdout",
     "output_type": "stream",
     "text": [
      "kmeans Using Normalization 3\n"
     ]
    },
    {
     "data": {
      "text/html": [],
      "text/plain": [
       "<IPython.core.display.HTML object>"
      ]
     },
     "metadata": {},
     "output_type": "display_data"
    },
    {
     "data": {
      "text/html": [
       "<style type=\"text/css\">\n",
       "</style>\n",
       "<table id=\"T_ebf7f\">\n",
       "  <thead>\n",
       "    <tr>\n",
       "      <th class=\"blank level0\" >&nbsp;</th>\n",
       "      <th id=\"T_ebf7f_level0_col0\" class=\"col_heading level0 col0\" >Silhouette</th>\n",
       "      <th id=\"T_ebf7f_level0_col1\" class=\"col_heading level0 col1\" >Calinski-Harabasz</th>\n",
       "      <th id=\"T_ebf7f_level0_col2\" class=\"col_heading level0 col2\" >Davies-Bouldin</th>\n",
       "      <th id=\"T_ebf7f_level0_col3\" class=\"col_heading level0 col3\" >Homogeneity</th>\n",
       "      <th id=\"T_ebf7f_level0_col4\" class=\"col_heading level0 col4\" >Rand Index</th>\n",
       "      <th id=\"T_ebf7f_level0_col5\" class=\"col_heading level0 col5\" >Completeness</th>\n",
       "    </tr>\n",
       "  </thead>\n",
       "  <tbody>\n",
       "    <tr>\n",
       "      <th id=\"T_ebf7f_level0_row0\" class=\"row_heading level0 row0\" >0</th>\n",
       "      <td id=\"T_ebf7f_row0_col0\" class=\"data row0 col0\" >0.1488</td>\n",
       "      <td id=\"T_ebf7f_row0_col1\" class=\"data row0 col1\" >199.3682</td>\n",
       "      <td id=\"T_ebf7f_row0_col2\" class=\"data row0 col2\" >2.4448</td>\n",
       "      <td id=\"T_ebf7f_row0_col3\" class=\"data row0 col3\" >0</td>\n",
       "      <td id=\"T_ebf7f_row0_col4\" class=\"data row0 col4\" >0</td>\n",
       "      <td id=\"T_ebf7f_row0_col5\" class=\"data row0 col5\" >0</td>\n",
       "    </tr>\n",
       "  </tbody>\n",
       "</table>\n"
      ],
      "text/plain": [
       "<pandas.io.formats.style.Styler at 0x1f8ac622f50>"
      ]
     },
     "metadata": {},
     "output_type": "display_data"
    },
    {
     "data": {
      "text/html": [],
      "text/plain": [
       "<IPython.core.display.HTML object>"
      ]
     },
     "metadata": {},
     "output_type": "display_data"
    },
    {
     "name": "stdout",
     "output_type": "stream",
     "text": [
      "kmeans Using Normalization 4\n"
     ]
    },
    {
     "data": {
      "text/html": [],
      "text/plain": [
       "<IPython.core.display.HTML object>"
      ]
     },
     "metadata": {},
     "output_type": "display_data"
    },
    {
     "data": {
      "text/html": [
       "<style type=\"text/css\">\n",
       "</style>\n",
       "<table id=\"T_603aa\">\n",
       "  <thead>\n",
       "    <tr>\n",
       "      <th class=\"blank level0\" >&nbsp;</th>\n",
       "      <th id=\"T_603aa_level0_col0\" class=\"col_heading level0 col0\" >Silhouette</th>\n",
       "      <th id=\"T_603aa_level0_col1\" class=\"col_heading level0 col1\" >Calinski-Harabasz</th>\n",
       "      <th id=\"T_603aa_level0_col2\" class=\"col_heading level0 col2\" >Davies-Bouldin</th>\n",
       "      <th id=\"T_603aa_level0_col3\" class=\"col_heading level0 col3\" >Homogeneity</th>\n",
       "      <th id=\"T_603aa_level0_col4\" class=\"col_heading level0 col4\" >Rand Index</th>\n",
       "      <th id=\"T_603aa_level0_col5\" class=\"col_heading level0 col5\" >Completeness</th>\n",
       "    </tr>\n",
       "  </thead>\n",
       "  <tbody>\n",
       "    <tr>\n",
       "      <th id=\"T_603aa_level0_row0\" class=\"row_heading level0 row0\" >0</th>\n",
       "      <td id=\"T_603aa_row0_col0\" class=\"data row0 col0\" >0.1034</td>\n",
       "      <td id=\"T_603aa_row0_col1\" class=\"data row0 col1\" >184.2594</td>\n",
       "      <td id=\"T_603aa_row0_col2\" class=\"data row0 col2\" >2.1646</td>\n",
       "      <td id=\"T_603aa_row0_col3\" class=\"data row0 col3\" >0</td>\n",
       "      <td id=\"T_603aa_row0_col4\" class=\"data row0 col4\" >0</td>\n",
       "      <td id=\"T_603aa_row0_col5\" class=\"data row0 col5\" >0</td>\n",
       "    </tr>\n",
       "  </tbody>\n",
       "</table>\n"
      ],
      "text/plain": [
       "<pandas.io.formats.style.Styler at 0x1f8aeb3a550>"
      ]
     },
     "metadata": {},
     "output_type": "display_data"
    },
    {
     "data": {
      "text/html": [],
      "text/plain": [
       "<IPython.core.display.HTML object>"
      ]
     },
     "metadata": {},
     "output_type": "display_data"
    },
    {
     "name": "stdout",
     "output_type": "stream",
     "text": [
      "kmeans Using Normalization 5\n"
     ]
    },
    {
     "data": {
      "text/html": [],
      "text/plain": [
       "<IPython.core.display.HTML object>"
      ]
     },
     "metadata": {},
     "output_type": "display_data"
    },
    {
     "data": {
      "text/html": [
       "<style type=\"text/css\">\n",
       "</style>\n",
       "<table id=\"T_b11e1\">\n",
       "  <thead>\n",
       "    <tr>\n",
       "      <th class=\"blank level0\" >&nbsp;</th>\n",
       "      <th id=\"T_b11e1_level0_col0\" class=\"col_heading level0 col0\" >Silhouette</th>\n",
       "      <th id=\"T_b11e1_level0_col1\" class=\"col_heading level0 col1\" >Calinski-Harabasz</th>\n",
       "      <th id=\"T_b11e1_level0_col2\" class=\"col_heading level0 col2\" >Davies-Bouldin</th>\n",
       "      <th id=\"T_b11e1_level0_col3\" class=\"col_heading level0 col3\" >Homogeneity</th>\n",
       "      <th id=\"T_b11e1_level0_col4\" class=\"col_heading level0 col4\" >Rand Index</th>\n",
       "      <th id=\"T_b11e1_level0_col5\" class=\"col_heading level0 col5\" >Completeness</th>\n",
       "    </tr>\n",
       "  </thead>\n",
       "  <tbody>\n",
       "    <tr>\n",
       "      <th id=\"T_b11e1_level0_row0\" class=\"row_heading level0 row0\" >0</th>\n",
       "      <td id=\"T_b11e1_row0_col0\" class=\"data row0 col0\" >0.1089</td>\n",
       "      <td id=\"T_b11e1_row0_col1\" class=\"data row0 col1\" >187.3860</td>\n",
       "      <td id=\"T_b11e1_row0_col2\" class=\"data row0 col2\" >1.8318</td>\n",
       "      <td id=\"T_b11e1_row0_col3\" class=\"data row0 col3\" >0</td>\n",
       "      <td id=\"T_b11e1_row0_col4\" class=\"data row0 col4\" >0</td>\n",
       "      <td id=\"T_b11e1_row0_col5\" class=\"data row0 col5\" >0</td>\n",
       "    </tr>\n",
       "  </tbody>\n",
       "</table>\n"
      ],
      "text/plain": [
       "<pandas.io.formats.style.Styler at 0x1f8aca74a90>"
      ]
     },
     "metadata": {},
     "output_type": "display_data"
    },
    {
     "data": {
      "text/html": [],
      "text/plain": [
       "<IPython.core.display.HTML object>"
      ]
     },
     "metadata": {},
     "output_type": "display_data"
    },
    {
     "name": "stdout",
     "output_type": "stream",
     "text": [
      "kmeans Using Transform 3\n"
     ]
    },
    {
     "data": {
      "text/html": [],
      "text/plain": [
       "<IPython.core.display.HTML object>"
      ]
     },
     "metadata": {},
     "output_type": "display_data"
    },
    {
     "data": {
      "text/html": [
       "<style type=\"text/css\">\n",
       "</style>\n",
       "<table id=\"T_64dea\">\n",
       "  <thead>\n",
       "    <tr>\n",
       "      <th class=\"blank level0\" >&nbsp;</th>\n",
       "      <th id=\"T_64dea_level0_col0\" class=\"col_heading level0 col0\" >Silhouette</th>\n",
       "      <th id=\"T_64dea_level0_col1\" class=\"col_heading level0 col1\" >Calinski-Harabasz</th>\n",
       "      <th id=\"T_64dea_level0_col2\" class=\"col_heading level0 col2\" >Davies-Bouldin</th>\n",
       "      <th id=\"T_64dea_level0_col3\" class=\"col_heading level0 col3\" >Homogeneity</th>\n",
       "      <th id=\"T_64dea_level0_col4\" class=\"col_heading level0 col4\" >Rand Index</th>\n",
       "      <th id=\"T_64dea_level0_col5\" class=\"col_heading level0 col5\" >Completeness</th>\n",
       "    </tr>\n",
       "  </thead>\n",
       "  <tbody>\n",
       "    <tr>\n",
       "      <th id=\"T_64dea_level0_row0\" class=\"row_heading level0 row0\" >0</th>\n",
       "      <td id=\"T_64dea_row0_col0\" class=\"data row0 col0\" >0.6937</td>\n",
       "      <td id=\"T_64dea_row0_col1\" class=\"data row0 col1\" >219757.5847</td>\n",
       "      <td id=\"T_64dea_row0_col2\" class=\"data row0 col2\" >0.4166</td>\n",
       "      <td id=\"T_64dea_row0_col3\" class=\"data row0 col3\" >0</td>\n",
       "      <td id=\"T_64dea_row0_col4\" class=\"data row0 col4\" >0</td>\n",
       "      <td id=\"T_64dea_row0_col5\" class=\"data row0 col5\" >0</td>\n",
       "    </tr>\n",
       "  </tbody>\n",
       "</table>\n"
      ],
      "text/plain": [
       "<pandas.io.formats.style.Styler at 0x1f8aeb39a50>"
      ]
     },
     "metadata": {},
     "output_type": "display_data"
    },
    {
     "data": {
      "text/html": [],
      "text/plain": [
       "<IPython.core.display.HTML object>"
      ]
     },
     "metadata": {},
     "output_type": "display_data"
    },
    {
     "name": "stdout",
     "output_type": "stream",
     "text": [
      "kmeans Using Transform 4\n"
     ]
    },
    {
     "data": {
      "text/html": [],
      "text/plain": [
       "<IPython.core.display.HTML object>"
      ]
     },
     "metadata": {},
     "output_type": "display_data"
    },
    {
     "data": {
      "text/html": [
       "<style type=\"text/css\">\n",
       "</style>\n",
       "<table id=\"T_152db\">\n",
       "  <thead>\n",
       "    <tr>\n",
       "      <th class=\"blank level0\" >&nbsp;</th>\n",
       "      <th id=\"T_152db_level0_col0\" class=\"col_heading level0 col0\" >Silhouette</th>\n",
       "      <th id=\"T_152db_level0_col1\" class=\"col_heading level0 col1\" >Calinski-Harabasz</th>\n",
       "      <th id=\"T_152db_level0_col2\" class=\"col_heading level0 col2\" >Davies-Bouldin</th>\n",
       "      <th id=\"T_152db_level0_col3\" class=\"col_heading level0 col3\" >Homogeneity</th>\n",
       "      <th id=\"T_152db_level0_col4\" class=\"col_heading level0 col4\" >Rand Index</th>\n",
       "      <th id=\"T_152db_level0_col5\" class=\"col_heading level0 col5\" >Completeness</th>\n",
       "    </tr>\n",
       "  </thead>\n",
       "  <tbody>\n",
       "    <tr>\n",
       "      <th id=\"T_152db_level0_row0\" class=\"row_heading level0 row0\" >0</th>\n",
       "      <td id=\"T_152db_row0_col0\" class=\"data row0 col0\" >0.5892</td>\n",
       "      <td id=\"T_152db_row0_col1\" class=\"data row0 col1\" >199768.9289</td>\n",
       "      <td id=\"T_152db_row0_col2\" class=\"data row0 col2\" >0.4992</td>\n",
       "      <td id=\"T_152db_row0_col3\" class=\"data row0 col3\" >0</td>\n",
       "      <td id=\"T_152db_row0_col4\" class=\"data row0 col4\" >0</td>\n",
       "      <td id=\"T_152db_row0_col5\" class=\"data row0 col5\" >0</td>\n",
       "    </tr>\n",
       "  </tbody>\n",
       "</table>\n"
      ],
      "text/plain": [
       "<pandas.io.formats.style.Styler at 0x1f8aeb58850>"
      ]
     },
     "metadata": {},
     "output_type": "display_data"
    },
    {
     "data": {
      "text/html": [],
      "text/plain": [
       "<IPython.core.display.HTML object>"
      ]
     },
     "metadata": {},
     "output_type": "display_data"
    },
    {
     "name": "stdout",
     "output_type": "stream",
     "text": [
      "kmeans Using Transform 5\n"
     ]
    },
    {
     "data": {
      "text/html": [],
      "text/plain": [
       "<IPython.core.display.HTML object>"
      ]
     },
     "metadata": {},
     "output_type": "display_data"
    },
    {
     "data": {
      "text/html": [
       "<style type=\"text/css\">\n",
       "</style>\n",
       "<table id=\"T_c5f39\">\n",
       "  <thead>\n",
       "    <tr>\n",
       "      <th class=\"blank level0\" >&nbsp;</th>\n",
       "      <th id=\"T_c5f39_level0_col0\" class=\"col_heading level0 col0\" >Silhouette</th>\n",
       "      <th id=\"T_c5f39_level0_col1\" class=\"col_heading level0 col1\" >Calinski-Harabasz</th>\n",
       "      <th id=\"T_c5f39_level0_col2\" class=\"col_heading level0 col2\" >Davies-Bouldin</th>\n",
       "      <th id=\"T_c5f39_level0_col3\" class=\"col_heading level0 col3\" >Homogeneity</th>\n",
       "      <th id=\"T_c5f39_level0_col4\" class=\"col_heading level0 col4\" >Rand Index</th>\n",
       "      <th id=\"T_c5f39_level0_col5\" class=\"col_heading level0 col5\" >Completeness</th>\n",
       "    </tr>\n",
       "  </thead>\n",
       "  <tbody>\n",
       "    <tr>\n",
       "      <th id=\"T_c5f39_level0_row0\" class=\"row_heading level0 row0\" >0</th>\n",
       "      <td id=\"T_c5f39_row0_col0\" class=\"data row0 col0\" >0.5517</td>\n",
       "      <td id=\"T_c5f39_row0_col1\" class=\"data row0 col1\" >211877.6767</td>\n",
       "      <td id=\"T_c5f39_row0_col2\" class=\"data row0 col2\" >0.6193</td>\n",
       "      <td id=\"T_c5f39_row0_col3\" class=\"data row0 col3\" >0</td>\n",
       "      <td id=\"T_c5f39_row0_col4\" class=\"data row0 col4\" >0</td>\n",
       "      <td id=\"T_c5f39_row0_col5\" class=\"data row0 col5\" >0</td>\n",
       "    </tr>\n",
       "  </tbody>\n",
       "</table>\n"
      ],
      "text/plain": [
       "<pandas.io.formats.style.Styler at 0x1f8abdc2810>"
      ]
     },
     "metadata": {},
     "output_type": "display_data"
    },
    {
     "data": {
      "text/html": [],
      "text/plain": [
       "<IPython.core.display.HTML object>"
      ]
     },
     "metadata": {},
     "output_type": "display_data"
    },
    {
     "name": "stdout",
     "output_type": "stream",
     "text": [
      "kmeans Using PCA 3\n"
     ]
    },
    {
     "data": {
      "text/html": [],
      "text/plain": [
       "<IPython.core.display.HTML object>"
      ]
     },
     "metadata": {},
     "output_type": "display_data"
    },
    {
     "data": {
      "text/html": [
       "<style type=\"text/css\">\n",
       "</style>\n",
       "<table id=\"T_8ed02\">\n",
       "  <thead>\n",
       "    <tr>\n",
       "      <th class=\"blank level0\" >&nbsp;</th>\n",
       "      <th id=\"T_8ed02_level0_col0\" class=\"col_heading level0 col0\" >Silhouette</th>\n",
       "      <th id=\"T_8ed02_level0_col1\" class=\"col_heading level0 col1\" >Calinski-Harabasz</th>\n",
       "      <th id=\"T_8ed02_level0_col2\" class=\"col_heading level0 col2\" >Davies-Bouldin</th>\n",
       "      <th id=\"T_8ed02_level0_col3\" class=\"col_heading level0 col3\" >Homogeneity</th>\n",
       "      <th id=\"T_8ed02_level0_col4\" class=\"col_heading level0 col4\" >Rand Index</th>\n",
       "      <th id=\"T_8ed02_level0_col5\" class=\"col_heading level0 col5\" >Completeness</th>\n",
       "    </tr>\n",
       "  </thead>\n",
       "  <tbody>\n",
       "    <tr>\n",
       "      <th id=\"T_8ed02_level0_row0\" class=\"row_heading level0 row0\" >0</th>\n",
       "      <td id=\"T_8ed02_row0_col0\" class=\"data row0 col0\" >0.5031</td>\n",
       "      <td id=\"T_8ed02_row0_col1\" class=\"data row0 col1\" >4729.2478</td>\n",
       "      <td id=\"T_8ed02_row0_col2\" class=\"data row0 col2\" >0.6675</td>\n",
       "      <td id=\"T_8ed02_row0_col3\" class=\"data row0 col3\" >0</td>\n",
       "      <td id=\"T_8ed02_row0_col4\" class=\"data row0 col4\" >0</td>\n",
       "      <td id=\"T_8ed02_row0_col5\" class=\"data row0 col5\" >0</td>\n",
       "    </tr>\n",
       "  </tbody>\n",
       "</table>\n"
      ],
      "text/plain": [
       "<pandas.io.formats.style.Styler at 0x1f8aca9a9d0>"
      ]
     },
     "metadata": {},
     "output_type": "display_data"
    },
    {
     "data": {
      "text/html": [],
      "text/plain": [
       "<IPython.core.display.HTML object>"
      ]
     },
     "metadata": {},
     "output_type": "display_data"
    },
    {
     "name": "stdout",
     "output_type": "stream",
     "text": [
      "kmeans Using PCA 4\n"
     ]
    },
    {
     "data": {
      "text/html": [],
      "text/plain": [
       "<IPython.core.display.HTML object>"
      ]
     },
     "metadata": {},
     "output_type": "display_data"
    },
    {
     "data": {
      "text/html": [
       "<style type=\"text/css\">\n",
       "</style>\n",
       "<table id=\"T_806b4\">\n",
       "  <thead>\n",
       "    <tr>\n",
       "      <th class=\"blank level0\" >&nbsp;</th>\n",
       "      <th id=\"T_806b4_level0_col0\" class=\"col_heading level0 col0\" >Silhouette</th>\n",
       "      <th id=\"T_806b4_level0_col1\" class=\"col_heading level0 col1\" >Calinski-Harabasz</th>\n",
       "      <th id=\"T_806b4_level0_col2\" class=\"col_heading level0 col2\" >Davies-Bouldin</th>\n",
       "      <th id=\"T_806b4_level0_col3\" class=\"col_heading level0 col3\" >Homogeneity</th>\n",
       "      <th id=\"T_806b4_level0_col4\" class=\"col_heading level0 col4\" >Rand Index</th>\n",
       "      <th id=\"T_806b4_level0_col5\" class=\"col_heading level0 col5\" >Completeness</th>\n",
       "    </tr>\n",
       "  </thead>\n",
       "  <tbody>\n",
       "    <tr>\n",
       "      <th id=\"T_806b4_level0_row0\" class=\"row_heading level0 row0\" >0</th>\n",
       "      <td id=\"T_806b4_row0_col0\" class=\"data row0 col0\" >0.4748</td>\n",
       "      <td id=\"T_806b4_row0_col1\" class=\"data row0 col1\" >4817.8761</td>\n",
       "      <td id=\"T_806b4_row0_col2\" class=\"data row0 col2\" >0.6987</td>\n",
       "      <td id=\"T_806b4_row0_col3\" class=\"data row0 col3\" >0</td>\n",
       "      <td id=\"T_806b4_row0_col4\" class=\"data row0 col4\" >0</td>\n",
       "      <td id=\"T_806b4_row0_col5\" class=\"data row0 col5\" >0</td>\n",
       "    </tr>\n",
       "  </tbody>\n",
       "</table>\n"
      ],
      "text/plain": [
       "<pandas.io.formats.style.Styler at 0x1f8aeb46790>"
      ]
     },
     "metadata": {},
     "output_type": "display_data"
    },
    {
     "data": {
      "text/html": [],
      "text/plain": [
       "<IPython.core.display.HTML object>"
      ]
     },
     "metadata": {},
     "output_type": "display_data"
    },
    {
     "name": "stdout",
     "output_type": "stream",
     "text": [
      "kmeans Using PCA 5\n"
     ]
    },
    {
     "data": {
      "text/html": [],
      "text/plain": [
       "<IPython.core.display.HTML object>"
      ]
     },
     "metadata": {},
     "output_type": "display_data"
    },
    {
     "data": {
      "text/html": [
       "<style type=\"text/css\">\n",
       "</style>\n",
       "<table id=\"T_14f8d\">\n",
       "  <thead>\n",
       "    <tr>\n",
       "      <th class=\"blank level0\" >&nbsp;</th>\n",
       "      <th id=\"T_14f8d_level0_col0\" class=\"col_heading level0 col0\" >Silhouette</th>\n",
       "      <th id=\"T_14f8d_level0_col1\" class=\"col_heading level0 col1\" >Calinski-Harabasz</th>\n",
       "      <th id=\"T_14f8d_level0_col2\" class=\"col_heading level0 col2\" >Davies-Bouldin</th>\n",
       "      <th id=\"T_14f8d_level0_col3\" class=\"col_heading level0 col3\" >Homogeneity</th>\n",
       "      <th id=\"T_14f8d_level0_col4\" class=\"col_heading level0 col4\" >Rand Index</th>\n",
       "      <th id=\"T_14f8d_level0_col5\" class=\"col_heading level0 col5\" >Completeness</th>\n",
       "    </tr>\n",
       "  </thead>\n",
       "  <tbody>\n",
       "    <tr>\n",
       "      <th id=\"T_14f8d_level0_row0\" class=\"row_heading level0 row0\" >0</th>\n",
       "      <td id=\"T_14f8d_row0_col0\" class=\"data row0 col0\" >0.4324</td>\n",
       "      <td id=\"T_14f8d_row0_col1\" class=\"data row0 col1\" >4599.9982</td>\n",
       "      <td id=\"T_14f8d_row0_col2\" class=\"data row0 col2\" >0.7490</td>\n",
       "      <td id=\"T_14f8d_row0_col3\" class=\"data row0 col3\" >0</td>\n",
       "      <td id=\"T_14f8d_row0_col4\" class=\"data row0 col4\" >0</td>\n",
       "      <td id=\"T_14f8d_row0_col5\" class=\"data row0 col5\" >0</td>\n",
       "    </tr>\n",
       "  </tbody>\n",
       "</table>\n"
      ],
      "text/plain": [
       "<pandas.io.formats.style.Styler at 0x1f8880d8190>"
      ]
     },
     "metadata": {},
     "output_type": "display_data"
    },
    {
     "data": {
      "text/html": [],
      "text/plain": [
       "<IPython.core.display.HTML object>"
      ]
     },
     "metadata": {},
     "output_type": "display_data"
    },
    {
     "name": "stdout",
     "output_type": "stream",
     "text": [
      "kmeans Using T+N 3\n"
     ]
    },
    {
     "data": {
      "text/html": [],
      "text/plain": [
       "<IPython.core.display.HTML object>"
      ]
     },
     "metadata": {},
     "output_type": "display_data"
    },
    {
     "data": {
      "text/html": [
       "<style type=\"text/css\">\n",
       "</style>\n",
       "<table id=\"T_c0886\">\n",
       "  <thead>\n",
       "    <tr>\n",
       "      <th class=\"blank level0\" >&nbsp;</th>\n",
       "      <th id=\"T_c0886_level0_col0\" class=\"col_heading level0 col0\" >Silhouette</th>\n",
       "      <th id=\"T_c0886_level0_col1\" class=\"col_heading level0 col1\" >Calinski-Harabasz</th>\n",
       "      <th id=\"T_c0886_level0_col2\" class=\"col_heading level0 col2\" >Davies-Bouldin</th>\n",
       "      <th id=\"T_c0886_level0_col3\" class=\"col_heading level0 col3\" >Homogeneity</th>\n",
       "      <th id=\"T_c0886_level0_col4\" class=\"col_heading level0 col4\" >Rand Index</th>\n",
       "      <th id=\"T_c0886_level0_col5\" class=\"col_heading level0 col5\" >Completeness</th>\n",
       "    </tr>\n",
       "  </thead>\n",
       "  <tbody>\n",
       "    <tr>\n",
       "      <th id=\"T_c0886_level0_row0\" class=\"row_heading level0 row0\" >0</th>\n",
       "      <td id=\"T_c0886_row0_col0\" class=\"data row0 col0\" >0.1431</td>\n",
       "      <td id=\"T_c0886_row0_col1\" class=\"data row0 col1\" >195.1210</td>\n",
       "      <td id=\"T_c0886_row0_col2\" class=\"data row0 col2\" >2.5347</td>\n",
       "      <td id=\"T_c0886_row0_col3\" class=\"data row0 col3\" >0</td>\n",
       "      <td id=\"T_c0886_row0_col4\" class=\"data row0 col4\" >0</td>\n",
       "      <td id=\"T_c0886_row0_col5\" class=\"data row0 col5\" >0</td>\n",
       "    </tr>\n",
       "  </tbody>\n",
       "</table>\n"
      ],
      "text/plain": [
       "<pandas.io.formats.style.Styler at 0x1f8aeb7b450>"
      ]
     },
     "metadata": {},
     "output_type": "display_data"
    },
    {
     "data": {
      "text/html": [],
      "text/plain": [
       "<IPython.core.display.HTML object>"
      ]
     },
     "metadata": {},
     "output_type": "display_data"
    },
    {
     "name": "stdout",
     "output_type": "stream",
     "text": [
      "kmeans Using T+N 4\n"
     ]
    },
    {
     "data": {
      "text/html": [],
      "text/plain": [
       "<IPython.core.display.HTML object>"
      ]
     },
     "metadata": {},
     "output_type": "display_data"
    },
    {
     "data": {
      "text/html": [
       "<style type=\"text/css\">\n",
       "</style>\n",
       "<table id=\"T_ecc87\">\n",
       "  <thead>\n",
       "    <tr>\n",
       "      <th class=\"blank level0\" >&nbsp;</th>\n",
       "      <th id=\"T_ecc87_level0_col0\" class=\"col_heading level0 col0\" >Silhouette</th>\n",
       "      <th id=\"T_ecc87_level0_col1\" class=\"col_heading level0 col1\" >Calinski-Harabasz</th>\n",
       "      <th id=\"T_ecc87_level0_col2\" class=\"col_heading level0 col2\" >Davies-Bouldin</th>\n",
       "      <th id=\"T_ecc87_level0_col3\" class=\"col_heading level0 col3\" >Homogeneity</th>\n",
       "      <th id=\"T_ecc87_level0_col4\" class=\"col_heading level0 col4\" >Rand Index</th>\n",
       "      <th id=\"T_ecc87_level0_col5\" class=\"col_heading level0 col5\" >Completeness</th>\n",
       "    </tr>\n",
       "  </thead>\n",
       "  <tbody>\n",
       "    <tr>\n",
       "      <th id=\"T_ecc87_level0_row0\" class=\"row_heading level0 row0\" >0</th>\n",
       "      <td id=\"T_ecc87_row0_col0\" class=\"data row0 col0\" >0.1053</td>\n",
       "      <td id=\"T_ecc87_row0_col1\" class=\"data row0 col1\" >189.0776</td>\n",
       "      <td id=\"T_ecc87_row0_col2\" class=\"data row0 col2\" >2.2774</td>\n",
       "      <td id=\"T_ecc87_row0_col3\" class=\"data row0 col3\" >0</td>\n",
       "      <td id=\"T_ecc87_row0_col4\" class=\"data row0 col4\" >0</td>\n",
       "      <td id=\"T_ecc87_row0_col5\" class=\"data row0 col5\" >0</td>\n",
       "    </tr>\n",
       "  </tbody>\n",
       "</table>\n"
      ],
      "text/plain": [
       "<pandas.io.formats.style.Styler at 0x1f8aeb5fe10>"
      ]
     },
     "metadata": {},
     "output_type": "display_data"
    },
    {
     "data": {
      "text/html": [],
      "text/plain": [
       "<IPython.core.display.HTML object>"
      ]
     },
     "metadata": {},
     "output_type": "display_data"
    },
    {
     "name": "stdout",
     "output_type": "stream",
     "text": [
      "kmeans Using T+N 5\n"
     ]
    },
    {
     "data": {
      "text/html": [],
      "text/plain": [
       "<IPython.core.display.HTML object>"
      ]
     },
     "metadata": {},
     "output_type": "display_data"
    },
    {
     "data": {
      "text/html": [
       "<style type=\"text/css\">\n",
       "</style>\n",
       "<table id=\"T_8ebad\">\n",
       "  <thead>\n",
       "    <tr>\n",
       "      <th class=\"blank level0\" >&nbsp;</th>\n",
       "      <th id=\"T_8ebad_level0_col0\" class=\"col_heading level0 col0\" >Silhouette</th>\n",
       "      <th id=\"T_8ebad_level0_col1\" class=\"col_heading level0 col1\" >Calinski-Harabasz</th>\n",
       "      <th id=\"T_8ebad_level0_col2\" class=\"col_heading level0 col2\" >Davies-Bouldin</th>\n",
       "      <th id=\"T_8ebad_level0_col3\" class=\"col_heading level0 col3\" >Homogeneity</th>\n",
       "      <th id=\"T_8ebad_level0_col4\" class=\"col_heading level0 col4\" >Rand Index</th>\n",
       "      <th id=\"T_8ebad_level0_col5\" class=\"col_heading level0 col5\" >Completeness</th>\n",
       "    </tr>\n",
       "  </thead>\n",
       "  <tbody>\n",
       "    <tr>\n",
       "      <th id=\"T_8ebad_level0_row0\" class=\"row_heading level0 row0\" >0</th>\n",
       "      <td id=\"T_8ebad_row0_col0\" class=\"data row0 col0\" >0.1016</td>\n",
       "      <td id=\"T_8ebad_row0_col1\" class=\"data row0 col1\" >181.9662</td>\n",
       "      <td id=\"T_8ebad_row0_col2\" class=\"data row0 col2\" >2.0372</td>\n",
       "      <td id=\"T_8ebad_row0_col3\" class=\"data row0 col3\" >0</td>\n",
       "      <td id=\"T_8ebad_row0_col4\" class=\"data row0 col4\" >0</td>\n",
       "      <td id=\"T_8ebad_row0_col5\" class=\"data row0 col5\" >0</td>\n",
       "    </tr>\n",
       "  </tbody>\n",
       "</table>\n"
      ],
      "text/plain": [
       "<pandas.io.formats.style.Styler at 0x1f8aeb41a50>"
      ]
     },
     "metadata": {},
     "output_type": "display_data"
    },
    {
     "data": {
      "text/html": [],
      "text/plain": [
       "<IPython.core.display.HTML object>"
      ]
     },
     "metadata": {},
     "output_type": "display_data"
    },
    {
     "name": "stdout",
     "output_type": "stream",
     "text": [
      "kmeans Using T+N+PCA 3\n"
     ]
    },
    {
     "data": {
      "text/html": [],
      "text/plain": [
       "<IPython.core.display.HTML object>"
      ]
     },
     "metadata": {},
     "output_type": "display_data"
    },
    {
     "data": {
      "text/html": [
       "<style type=\"text/css\">\n",
       "</style>\n",
       "<table id=\"T_30c22\">\n",
       "  <thead>\n",
       "    <tr>\n",
       "      <th class=\"blank level0\" >&nbsp;</th>\n",
       "      <th id=\"T_30c22_level0_col0\" class=\"col_heading level0 col0\" >Silhouette</th>\n",
       "      <th id=\"T_30c22_level0_col1\" class=\"col_heading level0 col1\" >Calinski-Harabasz</th>\n",
       "      <th id=\"T_30c22_level0_col2\" class=\"col_heading level0 col2\" >Davies-Bouldin</th>\n",
       "      <th id=\"T_30c22_level0_col3\" class=\"col_heading level0 col3\" >Homogeneity</th>\n",
       "      <th id=\"T_30c22_level0_col4\" class=\"col_heading level0 col4\" >Rand Index</th>\n",
       "      <th id=\"T_30c22_level0_col5\" class=\"col_heading level0 col5\" >Completeness</th>\n",
       "    </tr>\n",
       "  </thead>\n",
       "  <tbody>\n",
       "    <tr>\n",
       "      <th id=\"T_30c22_level0_row0\" class=\"row_heading level0 row0\" >0</th>\n",
       "      <td id=\"T_30c22_row0_col0\" class=\"data row0 col0\" >0.1431</td>\n",
       "      <td id=\"T_30c22_row0_col1\" class=\"data row0 col1\" >195.1210</td>\n",
       "      <td id=\"T_30c22_row0_col2\" class=\"data row0 col2\" >2.5347</td>\n",
       "      <td id=\"T_30c22_row0_col3\" class=\"data row0 col3\" >0</td>\n",
       "      <td id=\"T_30c22_row0_col4\" class=\"data row0 col4\" >0</td>\n",
       "      <td id=\"T_30c22_row0_col5\" class=\"data row0 col5\" >0</td>\n",
       "    </tr>\n",
       "  </tbody>\n",
       "</table>\n"
      ],
      "text/plain": [
       "<pandas.io.formats.style.Styler at 0x1f8acaa8190>"
      ]
     },
     "metadata": {},
     "output_type": "display_data"
    },
    {
     "data": {
      "text/html": [],
      "text/plain": [
       "<IPython.core.display.HTML object>"
      ]
     },
     "metadata": {},
     "output_type": "display_data"
    },
    {
     "name": "stdout",
     "output_type": "stream",
     "text": [
      "kmeans Using T+N+PCA 4\n"
     ]
    },
    {
     "data": {
      "text/html": [],
      "text/plain": [
       "<IPython.core.display.HTML object>"
      ]
     },
     "metadata": {},
     "output_type": "display_data"
    },
    {
     "data": {
      "text/html": [
       "<style type=\"text/css\">\n",
       "</style>\n",
       "<table id=\"T_70fb3\">\n",
       "  <thead>\n",
       "    <tr>\n",
       "      <th class=\"blank level0\" >&nbsp;</th>\n",
       "      <th id=\"T_70fb3_level0_col0\" class=\"col_heading level0 col0\" >Silhouette</th>\n",
       "      <th id=\"T_70fb3_level0_col1\" class=\"col_heading level0 col1\" >Calinski-Harabasz</th>\n",
       "      <th id=\"T_70fb3_level0_col2\" class=\"col_heading level0 col2\" >Davies-Bouldin</th>\n",
       "      <th id=\"T_70fb3_level0_col3\" class=\"col_heading level0 col3\" >Homogeneity</th>\n",
       "      <th id=\"T_70fb3_level0_col4\" class=\"col_heading level0 col4\" >Rand Index</th>\n",
       "      <th id=\"T_70fb3_level0_col5\" class=\"col_heading level0 col5\" >Completeness</th>\n",
       "    </tr>\n",
       "  </thead>\n",
       "  <tbody>\n",
       "    <tr>\n",
       "      <th id=\"T_70fb3_level0_row0\" class=\"row_heading level0 row0\" >0</th>\n",
       "      <td id=\"T_70fb3_row0_col0\" class=\"data row0 col0\" >0.1074</td>\n",
       "      <td id=\"T_70fb3_row0_col1\" class=\"data row0 col1\" >188.6004</td>\n",
       "      <td id=\"T_70fb3_row0_col2\" class=\"data row0 col2\" >2.1608</td>\n",
       "      <td id=\"T_70fb3_row0_col3\" class=\"data row0 col3\" >0</td>\n",
       "      <td id=\"T_70fb3_row0_col4\" class=\"data row0 col4\" >0</td>\n",
       "      <td id=\"T_70fb3_row0_col5\" class=\"data row0 col5\" >0</td>\n",
       "    </tr>\n",
       "  </tbody>\n",
       "</table>\n"
      ],
      "text/plain": [
       "<pandas.io.formats.style.Styler at 0x1f8aeb5df10>"
      ]
     },
     "metadata": {},
     "output_type": "display_data"
    },
    {
     "data": {
      "text/html": [],
      "text/plain": [
       "<IPython.core.display.HTML object>"
      ]
     },
     "metadata": {},
     "output_type": "display_data"
    },
    {
     "name": "stdout",
     "output_type": "stream",
     "text": [
      "kmeans Using T+N+PCA 5\n"
     ]
    },
    {
     "data": {
      "text/html": [],
      "text/plain": [
       "<IPython.core.display.HTML object>"
      ]
     },
     "metadata": {},
     "output_type": "display_data"
    },
    {
     "data": {
      "text/html": [
       "<style type=\"text/css\">\n",
       "</style>\n",
       "<table id=\"T_8f10d\">\n",
       "  <thead>\n",
       "    <tr>\n",
       "      <th class=\"blank level0\" >&nbsp;</th>\n",
       "      <th id=\"T_8f10d_level0_col0\" class=\"col_heading level0 col0\" >Silhouette</th>\n",
       "      <th id=\"T_8f10d_level0_col1\" class=\"col_heading level0 col1\" >Calinski-Harabasz</th>\n",
       "      <th id=\"T_8f10d_level0_col2\" class=\"col_heading level0 col2\" >Davies-Bouldin</th>\n",
       "      <th id=\"T_8f10d_level0_col3\" class=\"col_heading level0 col3\" >Homogeneity</th>\n",
       "      <th id=\"T_8f10d_level0_col4\" class=\"col_heading level0 col4\" >Rand Index</th>\n",
       "      <th id=\"T_8f10d_level0_col5\" class=\"col_heading level0 col5\" >Completeness</th>\n",
       "    </tr>\n",
       "  </thead>\n",
       "  <tbody>\n",
       "    <tr>\n",
       "      <th id=\"T_8f10d_level0_row0\" class=\"row_heading level0 row0\" >0</th>\n",
       "      <td id=\"T_8f10d_row0_col0\" class=\"data row0 col0\" >0.1543</td>\n",
       "      <td id=\"T_8f10d_row0_col1\" class=\"data row0 col1\" >179.9479</td>\n",
       "      <td id=\"T_8f10d_row0_col2\" class=\"data row0 col2\" >2.0194</td>\n",
       "      <td id=\"T_8f10d_row0_col3\" class=\"data row0 col3\" >0</td>\n",
       "      <td id=\"T_8f10d_row0_col4\" class=\"data row0 col4\" >0</td>\n",
       "      <td id=\"T_8f10d_row0_col5\" class=\"data row0 col5\" >0</td>\n",
       "    </tr>\n",
       "  </tbody>\n",
       "</table>\n"
      ],
      "text/plain": [
       "<pandas.io.formats.style.Styler at 0x1f8aca7cdd0>"
      ]
     },
     "metadata": {},
     "output_type": "display_data"
    },
    {
     "data": {
      "text/html": [],
      "text/plain": [
       "<IPython.core.display.HTML object>"
      ]
     },
     "metadata": {},
     "output_type": "display_data"
    },
    {
     "name": "stdout",
     "output_type": "stream",
     "text": [
      "hclust No Data Preprocessing 3\n"
     ]
    },
    {
     "data": {
      "text/html": [],
      "text/plain": [
       "<IPython.core.display.HTML object>"
      ]
     },
     "metadata": {},
     "output_type": "display_data"
    },
    {
     "data": {
      "text/html": [
       "<style type=\"text/css\">\n",
       "</style>\n",
       "<table id=\"T_82069\">\n",
       "  <thead>\n",
       "    <tr>\n",
       "      <th class=\"blank level0\" >&nbsp;</th>\n",
       "      <th id=\"T_82069_level0_col0\" class=\"col_heading level0 col0\" >Silhouette</th>\n",
       "      <th id=\"T_82069_level0_col1\" class=\"col_heading level0 col1\" >Calinski-Harabasz</th>\n",
       "      <th id=\"T_82069_level0_col2\" class=\"col_heading level0 col2\" >Davies-Bouldin</th>\n",
       "      <th id=\"T_82069_level0_col3\" class=\"col_heading level0 col3\" >Homogeneity</th>\n",
       "      <th id=\"T_82069_level0_col4\" class=\"col_heading level0 col4\" >Rand Index</th>\n",
       "      <th id=\"T_82069_level0_col5\" class=\"col_heading level0 col5\" >Completeness</th>\n",
       "    </tr>\n",
       "  </thead>\n",
       "  <tbody>\n",
       "    <tr>\n",
       "      <th id=\"T_82069_level0_row0\" class=\"row_heading level0 row0\" >0</th>\n",
       "      <td id=\"T_82069_row0_col0\" class=\"data row0 col0\" >0.4757</td>\n",
       "      <td id=\"T_82069_row0_col1\" class=\"data row0 col1\" >4302.4911</td>\n",
       "      <td id=\"T_82069_row0_col2\" class=\"data row0 col2\" >0.7001</td>\n",
       "      <td id=\"T_82069_row0_col3\" class=\"data row0 col3\" >0</td>\n",
       "      <td id=\"T_82069_row0_col4\" class=\"data row0 col4\" >0</td>\n",
       "      <td id=\"T_82069_row0_col5\" class=\"data row0 col5\" >0</td>\n",
       "    </tr>\n",
       "  </tbody>\n",
       "</table>\n"
      ],
      "text/plain": [
       "<pandas.io.formats.style.Styler at 0x1f8aeb80c90>"
      ]
     },
     "metadata": {},
     "output_type": "display_data"
    },
    {
     "data": {
      "text/html": [],
      "text/plain": [
       "<IPython.core.display.HTML object>"
      ]
     },
     "metadata": {},
     "output_type": "display_data"
    },
    {
     "name": "stdout",
     "output_type": "stream",
     "text": [
      "hclust No Data Preprocessing 4\n"
     ]
    },
    {
     "data": {
      "text/html": [],
      "text/plain": [
       "<IPython.core.display.HTML object>"
      ]
     },
     "metadata": {},
     "output_type": "display_data"
    },
    {
     "data": {
      "text/html": [
       "<style type=\"text/css\">\n",
       "</style>\n",
       "<table id=\"T_66d97\">\n",
       "  <thead>\n",
       "    <tr>\n",
       "      <th class=\"blank level0\" >&nbsp;</th>\n",
       "      <th id=\"T_66d97_level0_col0\" class=\"col_heading level0 col0\" >Silhouette</th>\n",
       "      <th id=\"T_66d97_level0_col1\" class=\"col_heading level0 col1\" >Calinski-Harabasz</th>\n",
       "      <th id=\"T_66d97_level0_col2\" class=\"col_heading level0 col2\" >Davies-Bouldin</th>\n",
       "      <th id=\"T_66d97_level0_col3\" class=\"col_heading level0 col3\" >Homogeneity</th>\n",
       "      <th id=\"T_66d97_level0_col4\" class=\"col_heading level0 col4\" >Rand Index</th>\n",
       "      <th id=\"T_66d97_level0_col5\" class=\"col_heading level0 col5\" >Completeness</th>\n",
       "    </tr>\n",
       "  </thead>\n",
       "  <tbody>\n",
       "    <tr>\n",
       "      <th id=\"T_66d97_level0_row0\" class=\"row_heading level0 row0\" >0</th>\n",
       "      <td id=\"T_66d97_row0_col0\" class=\"data row0 col0\" >0.4675</td>\n",
       "      <td id=\"T_66d97_row0_col1\" class=\"data row0 col1\" >4346.0394</td>\n",
       "      <td id=\"T_66d97_row0_col2\" class=\"data row0 col2\" >0.6670</td>\n",
       "      <td id=\"T_66d97_row0_col3\" class=\"data row0 col3\" >0</td>\n",
       "      <td id=\"T_66d97_row0_col4\" class=\"data row0 col4\" >0</td>\n",
       "      <td id=\"T_66d97_row0_col5\" class=\"data row0 col5\" >0</td>\n",
       "    </tr>\n",
       "  </tbody>\n",
       "</table>\n"
      ],
      "text/plain": [
       "<pandas.io.formats.style.Styler at 0x1f8aca7e810>"
      ]
     },
     "metadata": {},
     "output_type": "display_data"
    },
    {
     "data": {
      "text/html": [],
      "text/plain": [
       "<IPython.core.display.HTML object>"
      ]
     },
     "metadata": {},
     "output_type": "display_data"
    },
    {
     "name": "stdout",
     "output_type": "stream",
     "text": [
      "hclust No Data Preprocessing 5\n"
     ]
    },
    {
     "data": {
      "text/html": [],
      "text/plain": [
       "<IPython.core.display.HTML object>"
      ]
     },
     "metadata": {},
     "output_type": "display_data"
    },
    {
     "data": {
      "text/html": [
       "<style type=\"text/css\">\n",
       "</style>\n",
       "<table id=\"T_32904\">\n",
       "  <thead>\n",
       "    <tr>\n",
       "      <th class=\"blank level0\" >&nbsp;</th>\n",
       "      <th id=\"T_32904_level0_col0\" class=\"col_heading level0 col0\" >Silhouette</th>\n",
       "      <th id=\"T_32904_level0_col1\" class=\"col_heading level0 col1\" >Calinski-Harabasz</th>\n",
       "      <th id=\"T_32904_level0_col2\" class=\"col_heading level0 col2\" >Davies-Bouldin</th>\n",
       "      <th id=\"T_32904_level0_col3\" class=\"col_heading level0 col3\" >Homogeneity</th>\n",
       "      <th id=\"T_32904_level0_col4\" class=\"col_heading level0 col4\" >Rand Index</th>\n",
       "      <th id=\"T_32904_level0_col5\" class=\"col_heading level0 col5\" >Completeness</th>\n",
       "    </tr>\n",
       "  </thead>\n",
       "  <tbody>\n",
       "    <tr>\n",
       "      <th id=\"T_32904_level0_row0\" class=\"row_heading level0 row0\" >0</th>\n",
       "      <td id=\"T_32904_row0_col0\" class=\"data row0 col0\" >0.4151</td>\n",
       "      <td id=\"T_32904_row0_col1\" class=\"data row0 col1\" >4114.6325</td>\n",
       "      <td id=\"T_32904_row0_col2\" class=\"data row0 col2\" >0.7314</td>\n",
       "      <td id=\"T_32904_row0_col3\" class=\"data row0 col3\" >0</td>\n",
       "      <td id=\"T_32904_row0_col4\" class=\"data row0 col4\" >0</td>\n",
       "      <td id=\"T_32904_row0_col5\" class=\"data row0 col5\" >0</td>\n",
       "    </tr>\n",
       "  </tbody>\n",
       "</table>\n"
      ],
      "text/plain": [
       "<pandas.io.formats.style.Styler at 0x1f8aeb95d10>"
      ]
     },
     "metadata": {},
     "output_type": "display_data"
    },
    {
     "data": {
      "text/html": [],
      "text/plain": [
       "<IPython.core.display.HTML object>"
      ]
     },
     "metadata": {},
     "output_type": "display_data"
    },
    {
     "name": "stdout",
     "output_type": "stream",
     "text": [
      "hclust Using Normalization 3\n"
     ]
    },
    {
     "data": {
      "text/html": [],
      "text/plain": [
       "<IPython.core.display.HTML object>"
      ]
     },
     "metadata": {},
     "output_type": "display_data"
    },
    {
     "data": {
      "text/html": [
       "<style type=\"text/css\">\n",
       "</style>\n",
       "<table id=\"T_dea23\">\n",
       "  <thead>\n",
       "    <tr>\n",
       "      <th class=\"blank level0\" >&nbsp;</th>\n",
       "      <th id=\"T_dea23_level0_col0\" class=\"col_heading level0 col0\" >Silhouette</th>\n",
       "      <th id=\"T_dea23_level0_col1\" class=\"col_heading level0 col1\" >Calinski-Harabasz</th>\n",
       "      <th id=\"T_dea23_level0_col2\" class=\"col_heading level0 col2\" >Davies-Bouldin</th>\n",
       "      <th id=\"T_dea23_level0_col3\" class=\"col_heading level0 col3\" >Homogeneity</th>\n",
       "      <th id=\"T_dea23_level0_col4\" class=\"col_heading level0 col4\" >Rand Index</th>\n",
       "      <th id=\"T_dea23_level0_col5\" class=\"col_heading level0 col5\" >Completeness</th>\n",
       "    </tr>\n",
       "  </thead>\n",
       "  <tbody>\n",
       "    <tr>\n",
       "      <th id=\"T_dea23_level0_row0\" class=\"row_heading level0 row0\" >0</th>\n",
       "      <td id=\"T_dea23_row0_col0\" class=\"data row0 col0\" >0.1477</td>\n",
       "      <td id=\"T_dea23_row0_col1\" class=\"data row0 col1\" >172.5966</td>\n",
       "      <td id=\"T_dea23_row0_col2\" class=\"data row0 col2\" >2.6492</td>\n",
       "      <td id=\"T_dea23_row0_col3\" class=\"data row0 col3\" >0</td>\n",
       "      <td id=\"T_dea23_row0_col4\" class=\"data row0 col4\" >0</td>\n",
       "      <td id=\"T_dea23_row0_col5\" class=\"data row0 col5\" >0</td>\n",
       "    </tr>\n",
       "  </tbody>\n",
       "</table>\n"
      ],
      "text/plain": [
       "<pandas.io.formats.style.Styler at 0x1f8aeb5b6d0>"
      ]
     },
     "metadata": {},
     "output_type": "display_data"
    },
    {
     "data": {
      "text/html": [],
      "text/plain": [
       "<IPython.core.display.HTML object>"
      ]
     },
     "metadata": {},
     "output_type": "display_data"
    },
    {
     "name": "stdout",
     "output_type": "stream",
     "text": [
      "hclust Using Normalization 4\n"
     ]
    },
    {
     "data": {
      "text/html": [],
      "text/plain": [
       "<IPython.core.display.HTML object>"
      ]
     },
     "metadata": {},
     "output_type": "display_data"
    },
    {
     "data": {
      "text/html": [
       "<style type=\"text/css\">\n",
       "</style>\n",
       "<table id=\"T_ad8cd\">\n",
       "  <thead>\n",
       "    <tr>\n",
       "      <th class=\"blank level0\" >&nbsp;</th>\n",
       "      <th id=\"T_ad8cd_level0_col0\" class=\"col_heading level0 col0\" >Silhouette</th>\n",
       "      <th id=\"T_ad8cd_level0_col1\" class=\"col_heading level0 col1\" >Calinski-Harabasz</th>\n",
       "      <th id=\"T_ad8cd_level0_col2\" class=\"col_heading level0 col2\" >Davies-Bouldin</th>\n",
       "      <th id=\"T_ad8cd_level0_col3\" class=\"col_heading level0 col3\" >Homogeneity</th>\n",
       "      <th id=\"T_ad8cd_level0_col4\" class=\"col_heading level0 col4\" >Rand Index</th>\n",
       "      <th id=\"T_ad8cd_level0_col5\" class=\"col_heading level0 col5\" >Completeness</th>\n",
       "    </tr>\n",
       "  </thead>\n",
       "  <tbody>\n",
       "    <tr>\n",
       "      <th id=\"T_ad8cd_level0_row0\" class=\"row_heading level0 row0\" >0</th>\n",
       "      <td id=\"T_ad8cd_row0_col0\" class=\"data row0 col0\" >0.1529</td>\n",
       "      <td id=\"T_ad8cd_row0_col1\" class=\"data row0 col1\" >170.9690</td>\n",
       "      <td id=\"T_ad8cd_row0_col2\" class=\"data row0 col2\" >2.2802</td>\n",
       "      <td id=\"T_ad8cd_row0_col3\" class=\"data row0 col3\" >0</td>\n",
       "      <td id=\"T_ad8cd_row0_col4\" class=\"data row0 col4\" >0</td>\n",
       "      <td id=\"T_ad8cd_row0_col5\" class=\"data row0 col5\" >0</td>\n",
       "    </tr>\n",
       "  </tbody>\n",
       "</table>\n"
      ],
      "text/plain": [
       "<pandas.io.formats.style.Styler at 0x1f8aeb26bd0>"
      ]
     },
     "metadata": {},
     "output_type": "display_data"
    },
    {
     "data": {
      "text/html": [],
      "text/plain": [
       "<IPython.core.display.HTML object>"
      ]
     },
     "metadata": {},
     "output_type": "display_data"
    },
    {
     "name": "stdout",
     "output_type": "stream",
     "text": [
      "hclust Using Normalization 5\n"
     ]
    },
    {
     "data": {
      "text/html": [],
      "text/plain": [
       "<IPython.core.display.HTML object>"
      ]
     },
     "metadata": {},
     "output_type": "display_data"
    },
    {
     "data": {
      "text/html": [
       "<style type=\"text/css\">\n",
       "</style>\n",
       "<table id=\"T_40ff4\">\n",
       "  <thead>\n",
       "    <tr>\n",
       "      <th class=\"blank level0\" >&nbsp;</th>\n",
       "      <th id=\"T_40ff4_level0_col0\" class=\"col_heading level0 col0\" >Silhouette</th>\n",
       "      <th id=\"T_40ff4_level0_col1\" class=\"col_heading level0 col1\" >Calinski-Harabasz</th>\n",
       "      <th id=\"T_40ff4_level0_col2\" class=\"col_heading level0 col2\" >Davies-Bouldin</th>\n",
       "      <th id=\"T_40ff4_level0_col3\" class=\"col_heading level0 col3\" >Homogeneity</th>\n",
       "      <th id=\"T_40ff4_level0_col4\" class=\"col_heading level0 col4\" >Rand Index</th>\n",
       "      <th id=\"T_40ff4_level0_col5\" class=\"col_heading level0 col5\" >Completeness</th>\n",
       "    </tr>\n",
       "  </thead>\n",
       "  <tbody>\n",
       "    <tr>\n",
       "      <th id=\"T_40ff4_level0_row0\" class=\"row_heading level0 row0\" >0</th>\n",
       "      <td id=\"T_40ff4_row0_col0\" class=\"data row0 col0\" >0.1596</td>\n",
       "      <td id=\"T_40ff4_row0_col1\" class=\"data row0 col1\" >174.4808</td>\n",
       "      <td id=\"T_40ff4_row0_col2\" class=\"data row0 col2\" >1.8468</td>\n",
       "      <td id=\"T_40ff4_row0_col3\" class=\"data row0 col3\" >0</td>\n",
       "      <td id=\"T_40ff4_row0_col4\" class=\"data row0 col4\" >0</td>\n",
       "      <td id=\"T_40ff4_row0_col5\" class=\"data row0 col5\" >0</td>\n",
       "    </tr>\n",
       "  </tbody>\n",
       "</table>\n"
      ],
      "text/plain": [
       "<pandas.io.formats.style.Styler at 0x1f8aeb9e090>"
      ]
     },
     "metadata": {},
     "output_type": "display_data"
    },
    {
     "data": {
      "text/html": [],
      "text/plain": [
       "<IPython.core.display.HTML object>"
      ]
     },
     "metadata": {},
     "output_type": "display_data"
    },
    {
     "name": "stdout",
     "output_type": "stream",
     "text": [
      "hclust Using Transform 3\n"
     ]
    },
    {
     "data": {
      "text/html": [],
      "text/plain": [
       "<IPython.core.display.HTML object>"
      ]
     },
     "metadata": {},
     "output_type": "display_data"
    },
    {
     "data": {
      "text/html": [
       "<style type=\"text/css\">\n",
       "</style>\n",
       "<table id=\"T_99691\">\n",
       "  <thead>\n",
       "    <tr>\n",
       "      <th class=\"blank level0\" >&nbsp;</th>\n",
       "      <th id=\"T_99691_level0_col0\" class=\"col_heading level0 col0\" >Silhouette</th>\n",
       "      <th id=\"T_99691_level0_col1\" class=\"col_heading level0 col1\" >Calinski-Harabasz</th>\n",
       "      <th id=\"T_99691_level0_col2\" class=\"col_heading level0 col2\" >Davies-Bouldin</th>\n",
       "      <th id=\"T_99691_level0_col3\" class=\"col_heading level0 col3\" >Homogeneity</th>\n",
       "      <th id=\"T_99691_level0_col4\" class=\"col_heading level0 col4\" >Rand Index</th>\n",
       "      <th id=\"T_99691_level0_col5\" class=\"col_heading level0 col5\" >Completeness</th>\n",
       "    </tr>\n",
       "  </thead>\n",
       "  <tbody>\n",
       "    <tr>\n",
       "      <th id=\"T_99691_level0_row0\" class=\"row_heading level0 row0\" >0</th>\n",
       "      <td id=\"T_99691_row0_col0\" class=\"data row0 col0\" >0.6937</td>\n",
       "      <td id=\"T_99691_row0_col1\" class=\"data row0 col1\" >219757.5847</td>\n",
       "      <td id=\"T_99691_row0_col2\" class=\"data row0 col2\" >0.4166</td>\n",
       "      <td id=\"T_99691_row0_col3\" class=\"data row0 col3\" >0</td>\n",
       "      <td id=\"T_99691_row0_col4\" class=\"data row0 col4\" >0</td>\n",
       "      <td id=\"T_99691_row0_col5\" class=\"data row0 col5\" >0</td>\n",
       "    </tr>\n",
       "  </tbody>\n",
       "</table>\n"
      ],
      "text/plain": [
       "<pandas.io.formats.style.Styler at 0x1f8aeb26bd0>"
      ]
     },
     "metadata": {},
     "output_type": "display_data"
    },
    {
     "data": {
      "text/html": [],
      "text/plain": [
       "<IPython.core.display.HTML object>"
      ]
     },
     "metadata": {},
     "output_type": "display_data"
    },
    {
     "name": "stdout",
     "output_type": "stream",
     "text": [
      "hclust Using Transform 4\n"
     ]
    },
    {
     "data": {
      "text/html": [],
      "text/plain": [
       "<IPython.core.display.HTML object>"
      ]
     },
     "metadata": {},
     "output_type": "display_data"
    },
    {
     "data": {
      "text/html": [
       "<style type=\"text/css\">\n",
       "</style>\n",
       "<table id=\"T_03dbd\">\n",
       "  <thead>\n",
       "    <tr>\n",
       "      <th class=\"blank level0\" >&nbsp;</th>\n",
       "      <th id=\"T_03dbd_level0_col0\" class=\"col_heading level0 col0\" >Silhouette</th>\n",
       "      <th id=\"T_03dbd_level0_col1\" class=\"col_heading level0 col1\" >Calinski-Harabasz</th>\n",
       "      <th id=\"T_03dbd_level0_col2\" class=\"col_heading level0 col2\" >Davies-Bouldin</th>\n",
       "      <th id=\"T_03dbd_level0_col3\" class=\"col_heading level0 col3\" >Homogeneity</th>\n",
       "      <th id=\"T_03dbd_level0_col4\" class=\"col_heading level0 col4\" >Rand Index</th>\n",
       "      <th id=\"T_03dbd_level0_col5\" class=\"col_heading level0 col5\" >Completeness</th>\n",
       "    </tr>\n",
       "  </thead>\n",
       "  <tbody>\n",
       "    <tr>\n",
       "      <th id=\"T_03dbd_level0_row0\" class=\"row_heading level0 row0\" >0</th>\n",
       "      <td id=\"T_03dbd_row0_col0\" class=\"data row0 col0\" >0.5923</td>\n",
       "      <td id=\"T_03dbd_row0_col1\" class=\"data row0 col1\" >199358.3515</td>\n",
       "      <td id=\"T_03dbd_row0_col2\" class=\"data row0 col2\" >0.4885</td>\n",
       "      <td id=\"T_03dbd_row0_col3\" class=\"data row0 col3\" >0</td>\n",
       "      <td id=\"T_03dbd_row0_col4\" class=\"data row0 col4\" >0</td>\n",
       "      <td id=\"T_03dbd_row0_col5\" class=\"data row0 col5\" >0</td>\n",
       "    </tr>\n",
       "  </tbody>\n",
       "</table>\n"
      ],
      "text/plain": [
       "<pandas.io.formats.style.Styler at 0x1f8aeb5d450>"
      ]
     },
     "metadata": {},
     "output_type": "display_data"
    },
    {
     "data": {
      "text/html": [],
      "text/plain": [
       "<IPython.core.display.HTML object>"
      ]
     },
     "metadata": {},
     "output_type": "display_data"
    },
    {
     "name": "stdout",
     "output_type": "stream",
     "text": [
      "hclust Using Transform 5\n"
     ]
    },
    {
     "data": {
      "text/html": [],
      "text/plain": [
       "<IPython.core.display.HTML object>"
      ]
     },
     "metadata": {},
     "output_type": "display_data"
    },
    {
     "data": {
      "text/html": [
       "<style type=\"text/css\">\n",
       "</style>\n",
       "<table id=\"T_d8437\">\n",
       "  <thead>\n",
       "    <tr>\n",
       "      <th class=\"blank level0\" >&nbsp;</th>\n",
       "      <th id=\"T_d8437_level0_col0\" class=\"col_heading level0 col0\" >Silhouette</th>\n",
       "      <th id=\"T_d8437_level0_col1\" class=\"col_heading level0 col1\" >Calinski-Harabasz</th>\n",
       "      <th id=\"T_d8437_level0_col2\" class=\"col_heading level0 col2\" >Davies-Bouldin</th>\n",
       "      <th id=\"T_d8437_level0_col3\" class=\"col_heading level0 col3\" >Homogeneity</th>\n",
       "      <th id=\"T_d8437_level0_col4\" class=\"col_heading level0 col4\" >Rand Index</th>\n",
       "      <th id=\"T_d8437_level0_col5\" class=\"col_heading level0 col5\" >Completeness</th>\n",
       "    </tr>\n",
       "  </thead>\n",
       "  <tbody>\n",
       "    <tr>\n",
       "      <th id=\"T_d8437_level0_row0\" class=\"row_heading level0 row0\" >0</th>\n",
       "      <td id=\"T_d8437_row0_col0\" class=\"data row0 col0\" >0.5548</td>\n",
       "      <td id=\"T_d8437_row0_col1\" class=\"data row0 col1\" >211263.2927</td>\n",
       "      <td id=\"T_d8437_row0_col2\" class=\"data row0 col2\" >0.6107</td>\n",
       "      <td id=\"T_d8437_row0_col3\" class=\"data row0 col3\" >0</td>\n",
       "      <td id=\"T_d8437_row0_col4\" class=\"data row0 col4\" >0</td>\n",
       "      <td id=\"T_d8437_row0_col5\" class=\"data row0 col5\" >0</td>\n",
       "    </tr>\n",
       "  </tbody>\n",
       "</table>\n"
      ],
      "text/plain": [
       "<pandas.io.formats.style.Styler at 0x1f8aeb96990>"
      ]
     },
     "metadata": {},
     "output_type": "display_data"
    },
    {
     "data": {
      "text/html": [],
      "text/plain": [
       "<IPython.core.display.HTML object>"
      ]
     },
     "metadata": {},
     "output_type": "display_data"
    },
    {
     "name": "stdout",
     "output_type": "stream",
     "text": [
      "hclust Using PCA 3\n"
     ]
    },
    {
     "data": {
      "text/html": [],
      "text/plain": [
       "<IPython.core.display.HTML object>"
      ]
     },
     "metadata": {},
     "output_type": "display_data"
    },
    {
     "data": {
      "text/html": [
       "<style type=\"text/css\">\n",
       "</style>\n",
       "<table id=\"T_8cdb5\">\n",
       "  <thead>\n",
       "    <tr>\n",
       "      <th class=\"blank level0\" >&nbsp;</th>\n",
       "      <th id=\"T_8cdb5_level0_col0\" class=\"col_heading level0 col0\" >Silhouette</th>\n",
       "      <th id=\"T_8cdb5_level0_col1\" class=\"col_heading level0 col1\" >Calinski-Harabasz</th>\n",
       "      <th id=\"T_8cdb5_level0_col2\" class=\"col_heading level0 col2\" >Davies-Bouldin</th>\n",
       "      <th id=\"T_8cdb5_level0_col3\" class=\"col_heading level0 col3\" >Homogeneity</th>\n",
       "      <th id=\"T_8cdb5_level0_col4\" class=\"col_heading level0 col4\" >Rand Index</th>\n",
       "      <th id=\"T_8cdb5_level0_col5\" class=\"col_heading level0 col5\" >Completeness</th>\n",
       "    </tr>\n",
       "  </thead>\n",
       "  <tbody>\n",
       "    <tr>\n",
       "      <th id=\"T_8cdb5_level0_row0\" class=\"row_heading level0 row0\" >0</th>\n",
       "      <td id=\"T_8cdb5_row0_col0\" class=\"data row0 col0\" >0.4757</td>\n",
       "      <td id=\"T_8cdb5_row0_col1\" class=\"data row0 col1\" >4302.4942</td>\n",
       "      <td id=\"T_8cdb5_row0_col2\" class=\"data row0 col2\" >0.7001</td>\n",
       "      <td id=\"T_8cdb5_row0_col3\" class=\"data row0 col3\" >0</td>\n",
       "      <td id=\"T_8cdb5_row0_col4\" class=\"data row0 col4\" >0</td>\n",
       "      <td id=\"T_8cdb5_row0_col5\" class=\"data row0 col5\" >0</td>\n",
       "    </tr>\n",
       "  </tbody>\n",
       "</table>\n"
      ],
      "text/plain": [
       "<pandas.io.formats.style.Styler at 0x1f8aeb90410>"
      ]
     },
     "metadata": {},
     "output_type": "display_data"
    },
    {
     "data": {
      "text/html": [],
      "text/plain": [
       "<IPython.core.display.HTML object>"
      ]
     },
     "metadata": {},
     "output_type": "display_data"
    },
    {
     "name": "stdout",
     "output_type": "stream",
     "text": [
      "hclust Using PCA 4\n"
     ]
    },
    {
     "data": {
      "text/html": [],
      "text/plain": [
       "<IPython.core.display.HTML object>"
      ]
     },
     "metadata": {},
     "output_type": "display_data"
    },
    {
     "data": {
      "text/html": [
       "<style type=\"text/css\">\n",
       "</style>\n",
       "<table id=\"T_f1846\">\n",
       "  <thead>\n",
       "    <tr>\n",
       "      <th class=\"blank level0\" >&nbsp;</th>\n",
       "      <th id=\"T_f1846_level0_col0\" class=\"col_heading level0 col0\" >Silhouette</th>\n",
       "      <th id=\"T_f1846_level0_col1\" class=\"col_heading level0 col1\" >Calinski-Harabasz</th>\n",
       "      <th id=\"T_f1846_level0_col2\" class=\"col_heading level0 col2\" >Davies-Bouldin</th>\n",
       "      <th id=\"T_f1846_level0_col3\" class=\"col_heading level0 col3\" >Homogeneity</th>\n",
       "      <th id=\"T_f1846_level0_col4\" class=\"col_heading level0 col4\" >Rand Index</th>\n",
       "      <th id=\"T_f1846_level0_col5\" class=\"col_heading level0 col5\" >Completeness</th>\n",
       "    </tr>\n",
       "  </thead>\n",
       "  <tbody>\n",
       "    <tr>\n",
       "      <th id=\"T_f1846_level0_row0\" class=\"row_heading level0 row0\" >0</th>\n",
       "      <td id=\"T_f1846_row0_col0\" class=\"data row0 col0\" >0.4675</td>\n",
       "      <td id=\"T_f1846_row0_col1\" class=\"data row0 col1\" >4346.0409</td>\n",
       "      <td id=\"T_f1846_row0_col2\" class=\"data row0 col2\" >0.6670</td>\n",
       "      <td id=\"T_f1846_row0_col3\" class=\"data row0 col3\" >0</td>\n",
       "      <td id=\"T_f1846_row0_col4\" class=\"data row0 col4\" >0</td>\n",
       "      <td id=\"T_f1846_row0_col5\" class=\"data row0 col5\" >0</td>\n",
       "    </tr>\n",
       "  </tbody>\n",
       "</table>\n"
      ],
      "text/plain": [
       "<pandas.io.formats.style.Styler at 0x1f8aeb45090>"
      ]
     },
     "metadata": {},
     "output_type": "display_data"
    },
    {
     "data": {
      "text/html": [],
      "text/plain": [
       "<IPython.core.display.HTML object>"
      ]
     },
     "metadata": {},
     "output_type": "display_data"
    },
    {
     "name": "stdout",
     "output_type": "stream",
     "text": [
      "hclust Using PCA 5\n"
     ]
    },
    {
     "data": {
      "text/html": [],
      "text/plain": [
       "<IPython.core.display.HTML object>"
      ]
     },
     "metadata": {},
     "output_type": "display_data"
    },
    {
     "data": {
      "text/html": [
       "<style type=\"text/css\">\n",
       "</style>\n",
       "<table id=\"T_310de\">\n",
       "  <thead>\n",
       "    <tr>\n",
       "      <th class=\"blank level0\" >&nbsp;</th>\n",
       "      <th id=\"T_310de_level0_col0\" class=\"col_heading level0 col0\" >Silhouette</th>\n",
       "      <th id=\"T_310de_level0_col1\" class=\"col_heading level0 col1\" >Calinski-Harabasz</th>\n",
       "      <th id=\"T_310de_level0_col2\" class=\"col_heading level0 col2\" >Davies-Bouldin</th>\n",
       "      <th id=\"T_310de_level0_col3\" class=\"col_heading level0 col3\" >Homogeneity</th>\n",
       "      <th id=\"T_310de_level0_col4\" class=\"col_heading level0 col4\" >Rand Index</th>\n",
       "      <th id=\"T_310de_level0_col5\" class=\"col_heading level0 col5\" >Completeness</th>\n",
       "    </tr>\n",
       "  </thead>\n",
       "  <tbody>\n",
       "    <tr>\n",
       "      <th id=\"T_310de_level0_row0\" class=\"row_heading level0 row0\" >0</th>\n",
       "      <td id=\"T_310de_row0_col0\" class=\"data row0 col0\" >0.4151</td>\n",
       "      <td id=\"T_310de_row0_col1\" class=\"data row0 col1\" >4114.6364</td>\n",
       "      <td id=\"T_310de_row0_col2\" class=\"data row0 col2\" >0.7314</td>\n",
       "      <td id=\"T_310de_row0_col3\" class=\"data row0 col3\" >0</td>\n",
       "      <td id=\"T_310de_row0_col4\" class=\"data row0 col4\" >0</td>\n",
       "      <td id=\"T_310de_row0_col5\" class=\"data row0 col5\" >0</td>\n",
       "    </tr>\n",
       "  </tbody>\n",
       "</table>\n"
      ],
      "text/plain": [
       "<pandas.io.formats.style.Styler at 0x1f8acaace90>"
      ]
     },
     "metadata": {},
     "output_type": "display_data"
    },
    {
     "data": {
      "text/html": [],
      "text/plain": [
       "<IPython.core.display.HTML object>"
      ]
     },
     "metadata": {},
     "output_type": "display_data"
    },
    {
     "name": "stdout",
     "output_type": "stream",
     "text": [
      "hclust Using T+N 3\n"
     ]
    },
    {
     "data": {
      "text/html": [],
      "text/plain": [
       "<IPython.core.display.HTML object>"
      ]
     },
     "metadata": {},
     "output_type": "display_data"
    },
    {
     "data": {
      "text/html": [
       "<style type=\"text/css\">\n",
       "</style>\n",
       "<table id=\"T_6097c\">\n",
       "  <thead>\n",
       "    <tr>\n",
       "      <th class=\"blank level0\" >&nbsp;</th>\n",
       "      <th id=\"T_6097c_level0_col0\" class=\"col_heading level0 col0\" >Silhouette</th>\n",
       "      <th id=\"T_6097c_level0_col1\" class=\"col_heading level0 col1\" >Calinski-Harabasz</th>\n",
       "      <th id=\"T_6097c_level0_col2\" class=\"col_heading level0 col2\" >Davies-Bouldin</th>\n",
       "      <th id=\"T_6097c_level0_col3\" class=\"col_heading level0 col3\" >Homogeneity</th>\n",
       "      <th id=\"T_6097c_level0_col4\" class=\"col_heading level0 col4\" >Rand Index</th>\n",
       "      <th id=\"T_6097c_level0_col5\" class=\"col_heading level0 col5\" >Completeness</th>\n",
       "    </tr>\n",
       "  </thead>\n",
       "  <tbody>\n",
       "    <tr>\n",
       "      <th id=\"T_6097c_level0_row0\" class=\"row_heading level0 row0\" >0</th>\n",
       "      <td id=\"T_6097c_row0_col0\" class=\"data row0 col0\" >0.2153</td>\n",
       "      <td id=\"T_6097c_row0_col1\" class=\"data row0 col1\" >168.9287</td>\n",
       "      <td id=\"T_6097c_row0_col2\" class=\"data row0 col2\" >2.4209</td>\n",
       "      <td id=\"T_6097c_row0_col3\" class=\"data row0 col3\" >0</td>\n",
       "      <td id=\"T_6097c_row0_col4\" class=\"data row0 col4\" >0</td>\n",
       "      <td id=\"T_6097c_row0_col5\" class=\"data row0 col5\" >0</td>\n",
       "    </tr>\n",
       "  </tbody>\n",
       "</table>\n"
      ],
      "text/plain": [
       "<pandas.io.formats.style.Styler at 0x1f8aeb40c10>"
      ]
     },
     "metadata": {},
     "output_type": "display_data"
    },
    {
     "data": {
      "text/html": [],
      "text/plain": [
       "<IPython.core.display.HTML object>"
      ]
     },
     "metadata": {},
     "output_type": "display_data"
    },
    {
     "name": "stdout",
     "output_type": "stream",
     "text": [
      "hclust Using T+N 4\n"
     ]
    },
    {
     "data": {
      "text/html": [],
      "text/plain": [
       "<IPython.core.display.HTML object>"
      ]
     },
     "metadata": {},
     "output_type": "display_data"
    },
    {
     "data": {
      "text/html": [
       "<style type=\"text/css\">\n",
       "</style>\n",
       "<table id=\"T_d458a\">\n",
       "  <thead>\n",
       "    <tr>\n",
       "      <th class=\"blank level0\" >&nbsp;</th>\n",
       "      <th id=\"T_d458a_level0_col0\" class=\"col_heading level0 col0\" >Silhouette</th>\n",
       "      <th id=\"T_d458a_level0_col1\" class=\"col_heading level0 col1\" >Calinski-Harabasz</th>\n",
       "      <th id=\"T_d458a_level0_col2\" class=\"col_heading level0 col2\" >Davies-Bouldin</th>\n",
       "      <th id=\"T_d458a_level0_col3\" class=\"col_heading level0 col3\" >Homogeneity</th>\n",
       "      <th id=\"T_d458a_level0_col4\" class=\"col_heading level0 col4\" >Rand Index</th>\n",
       "      <th id=\"T_d458a_level0_col5\" class=\"col_heading level0 col5\" >Completeness</th>\n",
       "    </tr>\n",
       "  </thead>\n",
       "  <tbody>\n",
       "    <tr>\n",
       "      <th id=\"T_d458a_level0_row0\" class=\"row_heading level0 row0\" >0</th>\n",
       "      <td id=\"T_d458a_row0_col0\" class=\"data row0 col0\" >0.1980</td>\n",
       "      <td id=\"T_d458a_row0_col1\" class=\"data row0 col1\" >168.1136</td>\n",
       "      <td id=\"T_d458a_row0_col2\" class=\"data row0 col2\" >2.0814</td>\n",
       "      <td id=\"T_d458a_row0_col3\" class=\"data row0 col3\" >0</td>\n",
       "      <td id=\"T_d458a_row0_col4\" class=\"data row0 col4\" >0</td>\n",
       "      <td id=\"T_d458a_row0_col5\" class=\"data row0 col5\" >0</td>\n",
       "    </tr>\n",
       "  </tbody>\n",
       "</table>\n"
      ],
      "text/plain": [
       "<pandas.io.formats.style.Styler at 0x1f8aebdf610>"
      ]
     },
     "metadata": {},
     "output_type": "display_data"
    },
    {
     "data": {
      "text/html": [],
      "text/plain": [
       "<IPython.core.display.HTML object>"
      ]
     },
     "metadata": {},
     "output_type": "display_data"
    },
    {
     "name": "stdout",
     "output_type": "stream",
     "text": [
      "hclust Using T+N 5\n"
     ]
    },
    {
     "data": {
      "text/html": [],
      "text/plain": [
       "<IPython.core.display.HTML object>"
      ]
     },
     "metadata": {},
     "output_type": "display_data"
    },
    {
     "data": {
      "text/html": [
       "<style type=\"text/css\">\n",
       "</style>\n",
       "<table id=\"T_104c4\">\n",
       "  <thead>\n",
       "    <tr>\n",
       "      <th class=\"blank level0\" >&nbsp;</th>\n",
       "      <th id=\"T_104c4_level0_col0\" class=\"col_heading level0 col0\" >Silhouette</th>\n",
       "      <th id=\"T_104c4_level0_col1\" class=\"col_heading level0 col1\" >Calinski-Harabasz</th>\n",
       "      <th id=\"T_104c4_level0_col2\" class=\"col_heading level0 col2\" >Davies-Bouldin</th>\n",
       "      <th id=\"T_104c4_level0_col3\" class=\"col_heading level0 col3\" >Homogeneity</th>\n",
       "      <th id=\"T_104c4_level0_col4\" class=\"col_heading level0 col4\" >Rand Index</th>\n",
       "      <th id=\"T_104c4_level0_col5\" class=\"col_heading level0 col5\" >Completeness</th>\n",
       "    </tr>\n",
       "  </thead>\n",
       "  <tbody>\n",
       "    <tr>\n",
       "      <th id=\"T_104c4_level0_row0\" class=\"row_heading level0 row0\" >0</th>\n",
       "      <td id=\"T_104c4_row0_col0\" class=\"data row0 col0\" >0.2046</td>\n",
       "      <td id=\"T_104c4_row0_col1\" class=\"data row0 col1\" >172.0094</td>\n",
       "      <td id=\"T_104c4_row0_col2\" class=\"data row0 col2\" >1.7095</td>\n",
       "      <td id=\"T_104c4_row0_col3\" class=\"data row0 col3\" >0</td>\n",
       "      <td id=\"T_104c4_row0_col4\" class=\"data row0 col4\" >0</td>\n",
       "      <td id=\"T_104c4_row0_col5\" class=\"data row0 col5\" >0</td>\n",
       "    </tr>\n",
       "  </tbody>\n",
       "</table>\n"
      ],
      "text/plain": [
       "<pandas.io.formats.style.Styler at 0x1f8aeb73f50>"
      ]
     },
     "metadata": {},
     "output_type": "display_data"
    },
    {
     "data": {
      "text/html": [],
      "text/plain": [
       "<IPython.core.display.HTML object>"
      ]
     },
     "metadata": {},
     "output_type": "display_data"
    },
    {
     "name": "stdout",
     "output_type": "stream",
     "text": [
      "hclust Using T+N+PCA 3\n"
     ]
    },
    {
     "data": {
      "text/html": [],
      "text/plain": [
       "<IPython.core.display.HTML object>"
      ]
     },
     "metadata": {},
     "output_type": "display_data"
    },
    {
     "data": {
      "text/html": [
       "<style type=\"text/css\">\n",
       "</style>\n",
       "<table id=\"T_d5137\">\n",
       "  <thead>\n",
       "    <tr>\n",
       "      <th class=\"blank level0\" >&nbsp;</th>\n",
       "      <th id=\"T_d5137_level0_col0\" class=\"col_heading level0 col0\" >Silhouette</th>\n",
       "      <th id=\"T_d5137_level0_col1\" class=\"col_heading level0 col1\" >Calinski-Harabasz</th>\n",
       "      <th id=\"T_d5137_level0_col2\" class=\"col_heading level0 col2\" >Davies-Bouldin</th>\n",
       "      <th id=\"T_d5137_level0_col3\" class=\"col_heading level0 col3\" >Homogeneity</th>\n",
       "      <th id=\"T_d5137_level0_col4\" class=\"col_heading level0 col4\" >Rand Index</th>\n",
       "      <th id=\"T_d5137_level0_col5\" class=\"col_heading level0 col5\" >Completeness</th>\n",
       "    </tr>\n",
       "  </thead>\n",
       "  <tbody>\n",
       "    <tr>\n",
       "      <th id=\"T_d5137_level0_row0\" class=\"row_heading level0 row0\" >0</th>\n",
       "      <td id=\"T_d5137_row0_col0\" class=\"data row0 col0\" >0.2153</td>\n",
       "      <td id=\"T_d5137_row0_col1\" class=\"data row0 col1\" >168.9288</td>\n",
       "      <td id=\"T_d5137_row0_col2\" class=\"data row0 col2\" >2.4209</td>\n",
       "      <td id=\"T_d5137_row0_col3\" class=\"data row0 col3\" >0</td>\n",
       "      <td id=\"T_d5137_row0_col4\" class=\"data row0 col4\" >0</td>\n",
       "      <td id=\"T_d5137_row0_col5\" class=\"data row0 col5\" >0</td>\n",
       "    </tr>\n",
       "  </tbody>\n",
       "</table>\n"
      ],
      "text/plain": [
       "<pandas.io.formats.style.Styler at 0x1f8aca77690>"
      ]
     },
     "metadata": {},
     "output_type": "display_data"
    },
    {
     "data": {
      "text/html": [],
      "text/plain": [
       "<IPython.core.display.HTML object>"
      ]
     },
     "metadata": {},
     "output_type": "display_data"
    },
    {
     "name": "stdout",
     "output_type": "stream",
     "text": [
      "hclust Using T+N+PCA 4\n"
     ]
    },
    {
     "data": {
      "text/html": [],
      "text/plain": [
       "<IPython.core.display.HTML object>"
      ]
     },
     "metadata": {},
     "output_type": "display_data"
    },
    {
     "data": {
      "text/html": [
       "<style type=\"text/css\">\n",
       "</style>\n",
       "<table id=\"T_097de\">\n",
       "  <thead>\n",
       "    <tr>\n",
       "      <th class=\"blank level0\" >&nbsp;</th>\n",
       "      <th id=\"T_097de_level0_col0\" class=\"col_heading level0 col0\" >Silhouette</th>\n",
       "      <th id=\"T_097de_level0_col1\" class=\"col_heading level0 col1\" >Calinski-Harabasz</th>\n",
       "      <th id=\"T_097de_level0_col2\" class=\"col_heading level0 col2\" >Davies-Bouldin</th>\n",
       "      <th id=\"T_097de_level0_col3\" class=\"col_heading level0 col3\" >Homogeneity</th>\n",
       "      <th id=\"T_097de_level0_col4\" class=\"col_heading level0 col4\" >Rand Index</th>\n",
       "      <th id=\"T_097de_level0_col5\" class=\"col_heading level0 col5\" >Completeness</th>\n",
       "    </tr>\n",
       "  </thead>\n",
       "  <tbody>\n",
       "    <tr>\n",
       "      <th id=\"T_097de_level0_row0\" class=\"row_heading level0 row0\" >0</th>\n",
       "      <td id=\"T_097de_row0_col0\" class=\"data row0 col0\" >0.1980</td>\n",
       "      <td id=\"T_097de_row0_col1\" class=\"data row0 col1\" >168.1137</td>\n",
       "      <td id=\"T_097de_row0_col2\" class=\"data row0 col2\" >2.0814</td>\n",
       "      <td id=\"T_097de_row0_col3\" class=\"data row0 col3\" >0</td>\n",
       "      <td id=\"T_097de_row0_col4\" class=\"data row0 col4\" >0</td>\n",
       "      <td id=\"T_097de_row0_col5\" class=\"data row0 col5\" >0</td>\n",
       "    </tr>\n",
       "  </tbody>\n",
       "</table>\n"
      ],
      "text/plain": [
       "<pandas.io.formats.style.Styler at 0x1f8aebfcd50>"
      ]
     },
     "metadata": {},
     "output_type": "display_data"
    },
    {
     "data": {
      "text/html": [],
      "text/plain": [
       "<IPython.core.display.HTML object>"
      ]
     },
     "metadata": {},
     "output_type": "display_data"
    },
    {
     "name": "stdout",
     "output_type": "stream",
     "text": [
      "hclust Using T+N+PCA 5\n"
     ]
    },
    {
     "data": {
      "text/html": [],
      "text/plain": [
       "<IPython.core.display.HTML object>"
      ]
     },
     "metadata": {},
     "output_type": "display_data"
    },
    {
     "data": {
      "text/html": [
       "<style type=\"text/css\">\n",
       "</style>\n",
       "<table id=\"T_fe90f\">\n",
       "  <thead>\n",
       "    <tr>\n",
       "      <th class=\"blank level0\" >&nbsp;</th>\n",
       "      <th id=\"T_fe90f_level0_col0\" class=\"col_heading level0 col0\" >Silhouette</th>\n",
       "      <th id=\"T_fe90f_level0_col1\" class=\"col_heading level0 col1\" >Calinski-Harabasz</th>\n",
       "      <th id=\"T_fe90f_level0_col2\" class=\"col_heading level0 col2\" >Davies-Bouldin</th>\n",
       "      <th id=\"T_fe90f_level0_col3\" class=\"col_heading level0 col3\" >Homogeneity</th>\n",
       "      <th id=\"T_fe90f_level0_col4\" class=\"col_heading level0 col4\" >Rand Index</th>\n",
       "      <th id=\"T_fe90f_level0_col5\" class=\"col_heading level0 col5\" >Completeness</th>\n",
       "    </tr>\n",
       "  </thead>\n",
       "  <tbody>\n",
       "    <tr>\n",
       "      <th id=\"T_fe90f_level0_row0\" class=\"row_heading level0 row0\" >0</th>\n",
       "      <td id=\"T_fe90f_row0_col0\" class=\"data row0 col0\" >0.2046</td>\n",
       "      <td id=\"T_fe90f_row0_col1\" class=\"data row0 col1\" >172.0095</td>\n",
       "      <td id=\"T_fe90f_row0_col2\" class=\"data row0 col2\" >1.7095</td>\n",
       "      <td id=\"T_fe90f_row0_col3\" class=\"data row0 col3\" >0</td>\n",
       "      <td id=\"T_fe90f_row0_col4\" class=\"data row0 col4\" >0</td>\n",
       "      <td id=\"T_fe90f_row0_col5\" class=\"data row0 col5\" >0</td>\n",
       "    </tr>\n",
       "  </tbody>\n",
       "</table>\n"
      ],
      "text/plain": [
       "<pandas.io.formats.style.Styler at 0x1f8aeb91610>"
      ]
     },
     "metadata": {},
     "output_type": "display_data"
    },
    {
     "data": {
      "text/html": [],
      "text/plain": [
       "<IPython.core.display.HTML object>"
      ]
     },
     "metadata": {},
     "output_type": "display_data"
    },
    {
     "name": "stdout",
     "output_type": "stream",
     "text": [
      "meanshift No Data Preprocessing 3\n"
     ]
    },
    {
     "data": {
      "text/html": [],
      "text/plain": [
       "<IPython.core.display.HTML object>"
      ]
     },
     "metadata": {},
     "output_type": "display_data"
    },
    {
     "data": {
      "text/html": [
       "<style type=\"text/css\">\n",
       "</style>\n",
       "<table id=\"T_74b43\">\n",
       "  <thead>\n",
       "    <tr>\n",
       "      <th class=\"blank level0\" >&nbsp;</th>\n",
       "      <th id=\"T_74b43_level0_col0\" class=\"col_heading level0 col0\" >Silhouette</th>\n",
       "      <th id=\"T_74b43_level0_col1\" class=\"col_heading level0 col1\" >Calinski-Harabasz</th>\n",
       "      <th id=\"T_74b43_level0_col2\" class=\"col_heading level0 col2\" >Davies-Bouldin</th>\n",
       "      <th id=\"T_74b43_level0_col3\" class=\"col_heading level0 col3\" >Homogeneity</th>\n",
       "      <th id=\"T_74b43_level0_col4\" class=\"col_heading level0 col4\" >Rand Index</th>\n",
       "      <th id=\"T_74b43_level0_col5\" class=\"col_heading level0 col5\" >Completeness</th>\n",
       "    </tr>\n",
       "  </thead>\n",
       "  <tbody>\n",
       "    <tr>\n",
       "      <th id=\"T_74b43_level0_row0\" class=\"row_heading level0 row0\" >0</th>\n",
       "      <td id=\"T_74b43_row0_col0\" class=\"data row0 col0\" >0.5592</td>\n",
       "      <td id=\"T_74b43_row0_col1\" class=\"data row0 col1\" >4309.4903</td>\n",
       "      <td id=\"T_74b43_row0_col2\" class=\"data row0 col2\" >0.5983</td>\n",
       "      <td id=\"T_74b43_row0_col3\" class=\"data row0 col3\" >0</td>\n",
       "      <td id=\"T_74b43_row0_col4\" class=\"data row0 col4\" >0</td>\n",
       "      <td id=\"T_74b43_row0_col5\" class=\"data row0 col5\" >0</td>\n",
       "    </tr>\n",
       "  </tbody>\n",
       "</table>\n"
      ],
      "text/plain": [
       "<pandas.io.formats.style.Styler at 0x1f8aeb690d0>"
      ]
     },
     "metadata": {},
     "output_type": "display_data"
    },
    {
     "data": {
      "text/html": [],
      "text/plain": [
       "<IPython.core.display.HTML object>"
      ]
     },
     "metadata": {},
     "output_type": "display_data"
    },
    {
     "name": "stdout",
     "output_type": "stream",
     "text": [
      "meanshift No Data Preprocessing 4\n"
     ]
    },
    {
     "data": {
      "text/html": [],
      "text/plain": [
       "<IPython.core.display.HTML object>"
      ]
     },
     "metadata": {},
     "output_type": "display_data"
    },
    {
     "data": {
      "text/html": [
       "<style type=\"text/css\">\n",
       "</style>\n",
       "<table id=\"T_f22da\">\n",
       "  <thead>\n",
       "    <tr>\n",
       "      <th class=\"blank level0\" >&nbsp;</th>\n",
       "      <th id=\"T_f22da_level0_col0\" class=\"col_heading level0 col0\" >Silhouette</th>\n",
       "      <th id=\"T_f22da_level0_col1\" class=\"col_heading level0 col1\" >Calinski-Harabasz</th>\n",
       "      <th id=\"T_f22da_level0_col2\" class=\"col_heading level0 col2\" >Davies-Bouldin</th>\n",
       "      <th id=\"T_f22da_level0_col3\" class=\"col_heading level0 col3\" >Homogeneity</th>\n",
       "      <th id=\"T_f22da_level0_col4\" class=\"col_heading level0 col4\" >Rand Index</th>\n",
       "      <th id=\"T_f22da_level0_col5\" class=\"col_heading level0 col5\" >Completeness</th>\n",
       "    </tr>\n",
       "  </thead>\n",
       "  <tbody>\n",
       "    <tr>\n",
       "      <th id=\"T_f22da_level0_row0\" class=\"row_heading level0 row0\" >0</th>\n",
       "      <td id=\"T_f22da_row0_col0\" class=\"data row0 col0\" >0.5592</td>\n",
       "      <td id=\"T_f22da_row0_col1\" class=\"data row0 col1\" >4309.4903</td>\n",
       "      <td id=\"T_f22da_row0_col2\" class=\"data row0 col2\" >0.5983</td>\n",
       "      <td id=\"T_f22da_row0_col3\" class=\"data row0 col3\" >0</td>\n",
       "      <td id=\"T_f22da_row0_col4\" class=\"data row0 col4\" >0</td>\n",
       "      <td id=\"T_f22da_row0_col5\" class=\"data row0 col5\" >0</td>\n",
       "    </tr>\n",
       "  </tbody>\n",
       "</table>\n"
      ],
      "text/plain": [
       "<pandas.io.formats.style.Styler at 0x1f8aebcd790>"
      ]
     },
     "metadata": {},
     "output_type": "display_data"
    },
    {
     "data": {
      "text/html": [],
      "text/plain": [
       "<IPython.core.display.HTML object>"
      ]
     },
     "metadata": {},
     "output_type": "display_data"
    },
    {
     "name": "stdout",
     "output_type": "stream",
     "text": [
      "meanshift No Data Preprocessing 5\n"
     ]
    },
    {
     "data": {
      "text/html": [],
      "text/plain": [
       "<IPython.core.display.HTML object>"
      ]
     },
     "metadata": {},
     "output_type": "display_data"
    },
    {
     "data": {
      "text/html": [
       "<style type=\"text/css\">\n",
       "</style>\n",
       "<table id=\"T_c6bf8\">\n",
       "  <thead>\n",
       "    <tr>\n",
       "      <th class=\"blank level0\" >&nbsp;</th>\n",
       "      <th id=\"T_c6bf8_level0_col0\" class=\"col_heading level0 col0\" >Silhouette</th>\n",
       "      <th id=\"T_c6bf8_level0_col1\" class=\"col_heading level0 col1\" >Calinski-Harabasz</th>\n",
       "      <th id=\"T_c6bf8_level0_col2\" class=\"col_heading level0 col2\" >Davies-Bouldin</th>\n",
       "      <th id=\"T_c6bf8_level0_col3\" class=\"col_heading level0 col3\" >Homogeneity</th>\n",
       "      <th id=\"T_c6bf8_level0_col4\" class=\"col_heading level0 col4\" >Rand Index</th>\n",
       "      <th id=\"T_c6bf8_level0_col5\" class=\"col_heading level0 col5\" >Completeness</th>\n",
       "    </tr>\n",
       "  </thead>\n",
       "  <tbody>\n",
       "    <tr>\n",
       "      <th id=\"T_c6bf8_level0_row0\" class=\"row_heading level0 row0\" >0</th>\n",
       "      <td id=\"T_c6bf8_row0_col0\" class=\"data row0 col0\" >0.5592</td>\n",
       "      <td id=\"T_c6bf8_row0_col1\" class=\"data row0 col1\" >4309.4903</td>\n",
       "      <td id=\"T_c6bf8_row0_col2\" class=\"data row0 col2\" >0.5983</td>\n",
       "      <td id=\"T_c6bf8_row0_col3\" class=\"data row0 col3\" >0</td>\n",
       "      <td id=\"T_c6bf8_row0_col4\" class=\"data row0 col4\" >0</td>\n",
       "      <td id=\"T_c6bf8_row0_col5\" class=\"data row0 col5\" >0</td>\n",
       "    </tr>\n",
       "  </tbody>\n",
       "</table>\n"
      ],
      "text/plain": [
       "<pandas.io.formats.style.Styler at 0x1f8bcc47b50>"
      ]
     },
     "metadata": {},
     "output_type": "display_data"
    },
    {
     "data": {
      "text/html": [],
      "text/plain": [
       "<IPython.core.display.HTML object>"
      ]
     },
     "metadata": {},
     "output_type": "display_data"
    },
    {
     "name": "stdout",
     "output_type": "stream",
     "text": [
      "meanshift Using Normalization 3\n"
     ]
    },
    {
     "data": {
      "text/html": [],
      "text/plain": [
       "<IPython.core.display.HTML object>"
      ]
     },
     "metadata": {},
     "output_type": "display_data"
    },
    {
     "data": {
      "text/html": [
       "<style type=\"text/css\">\n",
       "</style>\n",
       "<table id=\"T_f33cf\">\n",
       "  <thead>\n",
       "    <tr>\n",
       "      <th class=\"blank level0\" >&nbsp;</th>\n",
       "      <th id=\"T_f33cf_level0_col0\" class=\"col_heading level0 col0\" >Silhouette</th>\n",
       "      <th id=\"T_f33cf_level0_col1\" class=\"col_heading level0 col1\" >Calinski-Harabasz</th>\n",
       "      <th id=\"T_f33cf_level0_col2\" class=\"col_heading level0 col2\" >Davies-Bouldin</th>\n",
       "      <th id=\"T_f33cf_level0_col3\" class=\"col_heading level0 col3\" >Homogeneity</th>\n",
       "      <th id=\"T_f33cf_level0_col4\" class=\"col_heading level0 col4\" >Rand Index</th>\n",
       "      <th id=\"T_f33cf_level0_col5\" class=\"col_heading level0 col5\" >Completeness</th>\n",
       "    </tr>\n",
       "  </thead>\n",
       "  <tbody>\n",
       "    <tr>\n",
       "      <th id=\"T_f33cf_level0_row0\" class=\"row_heading level0 row0\" >0</th>\n",
       "      <td id=\"T_f33cf_row0_col0\" class=\"data row0 col0\" >0.3003</td>\n",
       "      <td id=\"T_f33cf_row0_col1\" class=\"data row0 col1\" >30.6594</td>\n",
       "      <td id=\"T_f33cf_row0_col2\" class=\"data row0 col2\" >0.7760</td>\n",
       "      <td id=\"T_f33cf_row0_col3\" class=\"data row0 col3\" >0</td>\n",
       "      <td id=\"T_f33cf_row0_col4\" class=\"data row0 col4\" >0</td>\n",
       "      <td id=\"T_f33cf_row0_col5\" class=\"data row0 col5\" >0</td>\n",
       "    </tr>\n",
       "  </tbody>\n",
       "</table>\n"
      ],
      "text/plain": [
       "<pandas.io.formats.style.Styler at 0x1f8bcc29610>"
      ]
     },
     "metadata": {},
     "output_type": "display_data"
    },
    {
     "data": {
      "text/html": [],
      "text/plain": [
       "<IPython.core.display.HTML object>"
      ]
     },
     "metadata": {},
     "output_type": "display_data"
    },
    {
     "name": "stdout",
     "output_type": "stream",
     "text": [
      "meanshift Using Normalization 4\n"
     ]
    },
    {
     "data": {
      "text/html": [],
      "text/plain": [
       "<IPython.core.display.HTML object>"
      ]
     },
     "metadata": {},
     "output_type": "display_data"
    },
    {
     "data": {
      "text/html": [
       "<style type=\"text/css\">\n",
       "</style>\n",
       "<table id=\"T_1cd40\">\n",
       "  <thead>\n",
       "    <tr>\n",
       "      <th class=\"blank level0\" >&nbsp;</th>\n",
       "      <th id=\"T_1cd40_level0_col0\" class=\"col_heading level0 col0\" >Silhouette</th>\n",
       "      <th id=\"T_1cd40_level0_col1\" class=\"col_heading level0 col1\" >Calinski-Harabasz</th>\n",
       "      <th id=\"T_1cd40_level0_col2\" class=\"col_heading level0 col2\" >Davies-Bouldin</th>\n",
       "      <th id=\"T_1cd40_level0_col3\" class=\"col_heading level0 col3\" >Homogeneity</th>\n",
       "      <th id=\"T_1cd40_level0_col4\" class=\"col_heading level0 col4\" >Rand Index</th>\n",
       "      <th id=\"T_1cd40_level0_col5\" class=\"col_heading level0 col5\" >Completeness</th>\n",
       "    </tr>\n",
       "  </thead>\n",
       "  <tbody>\n",
       "    <tr>\n",
       "      <th id=\"T_1cd40_level0_row0\" class=\"row_heading level0 row0\" >0</th>\n",
       "      <td id=\"T_1cd40_row0_col0\" class=\"data row0 col0\" >0.3003</td>\n",
       "      <td id=\"T_1cd40_row0_col1\" class=\"data row0 col1\" >30.6594</td>\n",
       "      <td id=\"T_1cd40_row0_col2\" class=\"data row0 col2\" >0.7760</td>\n",
       "      <td id=\"T_1cd40_row0_col3\" class=\"data row0 col3\" >0</td>\n",
       "      <td id=\"T_1cd40_row0_col4\" class=\"data row0 col4\" >0</td>\n",
       "      <td id=\"T_1cd40_row0_col5\" class=\"data row0 col5\" >0</td>\n",
       "    </tr>\n",
       "  </tbody>\n",
       "</table>\n"
      ],
      "text/plain": [
       "<pandas.io.formats.style.Styler at 0x1f8aebb04d0>"
      ]
     },
     "metadata": {},
     "output_type": "display_data"
    },
    {
     "data": {
      "text/html": [],
      "text/plain": [
       "<IPython.core.display.HTML object>"
      ]
     },
     "metadata": {},
     "output_type": "display_data"
    },
    {
     "name": "stdout",
     "output_type": "stream",
     "text": [
      "meanshift Using Normalization 5\n"
     ]
    },
    {
     "data": {
      "text/html": [],
      "text/plain": [
       "<IPython.core.display.HTML object>"
      ]
     },
     "metadata": {},
     "output_type": "display_data"
    },
    {
     "data": {
      "text/html": [
       "<style type=\"text/css\">\n",
       "</style>\n",
       "<table id=\"T_4cf2b\">\n",
       "  <thead>\n",
       "    <tr>\n",
       "      <th class=\"blank level0\" >&nbsp;</th>\n",
       "      <th id=\"T_4cf2b_level0_col0\" class=\"col_heading level0 col0\" >Silhouette</th>\n",
       "      <th id=\"T_4cf2b_level0_col1\" class=\"col_heading level0 col1\" >Calinski-Harabasz</th>\n",
       "      <th id=\"T_4cf2b_level0_col2\" class=\"col_heading level0 col2\" >Davies-Bouldin</th>\n",
       "      <th id=\"T_4cf2b_level0_col3\" class=\"col_heading level0 col3\" >Homogeneity</th>\n",
       "      <th id=\"T_4cf2b_level0_col4\" class=\"col_heading level0 col4\" >Rand Index</th>\n",
       "      <th id=\"T_4cf2b_level0_col5\" class=\"col_heading level0 col5\" >Completeness</th>\n",
       "    </tr>\n",
       "  </thead>\n",
       "  <tbody>\n",
       "    <tr>\n",
       "      <th id=\"T_4cf2b_level0_row0\" class=\"row_heading level0 row0\" >0</th>\n",
       "      <td id=\"T_4cf2b_row0_col0\" class=\"data row0 col0\" >0.3003</td>\n",
       "      <td id=\"T_4cf2b_row0_col1\" class=\"data row0 col1\" >30.6594</td>\n",
       "      <td id=\"T_4cf2b_row0_col2\" class=\"data row0 col2\" >0.7760</td>\n",
       "      <td id=\"T_4cf2b_row0_col3\" class=\"data row0 col3\" >0</td>\n",
       "      <td id=\"T_4cf2b_row0_col4\" class=\"data row0 col4\" >0</td>\n",
       "      <td id=\"T_4cf2b_row0_col5\" class=\"data row0 col5\" >0</td>\n",
       "    </tr>\n",
       "  </tbody>\n",
       "</table>\n"
      ],
      "text/plain": [
       "<pandas.io.formats.style.Styler at 0x1f8bcda8950>"
      ]
     },
     "metadata": {},
     "output_type": "display_data"
    },
    {
     "data": {
      "text/html": [],
      "text/plain": [
       "<IPython.core.display.HTML object>"
      ]
     },
     "metadata": {},
     "output_type": "display_data"
    },
    {
     "name": "stdout",
     "output_type": "stream",
     "text": [
      "meanshift Using Transform 3\n"
     ]
    },
    {
     "data": {
      "text/html": [],
      "text/plain": [
       "<IPython.core.display.HTML object>"
      ]
     },
     "metadata": {},
     "output_type": "display_data"
    },
    {
     "data": {
      "text/html": [
       "<style type=\"text/css\">\n",
       "</style>\n",
       "<table id=\"T_6df84\">\n",
       "  <thead>\n",
       "    <tr>\n",
       "      <th class=\"blank level0\" >&nbsp;</th>\n",
       "      <th id=\"T_6df84_level0_col0\" class=\"col_heading level0 col0\" >Silhouette</th>\n",
       "      <th id=\"T_6df84_level0_col1\" class=\"col_heading level0 col1\" >Calinski-Harabasz</th>\n",
       "      <th id=\"T_6df84_level0_col2\" class=\"col_heading level0 col2\" >Davies-Bouldin</th>\n",
       "      <th id=\"T_6df84_level0_col3\" class=\"col_heading level0 col3\" >Homogeneity</th>\n",
       "      <th id=\"T_6df84_level0_col4\" class=\"col_heading level0 col4\" >Rand Index</th>\n",
       "      <th id=\"T_6df84_level0_col5\" class=\"col_heading level0 col5\" >Completeness</th>\n",
       "    </tr>\n",
       "  </thead>\n",
       "  <tbody>\n",
       "    <tr>\n",
       "      <th id=\"T_6df84_level0_row0\" class=\"row_heading level0 row0\" >0</th>\n",
       "      <td id=\"T_6df84_row0_col0\" class=\"data row0 col0\" >0.9640</td>\n",
       "      <td id=\"T_6df84_row0_col1\" class=\"data row0 col1\" >231576.6177</td>\n",
       "      <td id=\"T_6df84_row0_col2\" class=\"data row0 col2\" >0.0608</td>\n",
       "      <td id=\"T_6df84_row0_col3\" class=\"data row0 col3\" >0</td>\n",
       "      <td id=\"T_6df84_row0_col4\" class=\"data row0 col4\" >0</td>\n",
       "      <td id=\"T_6df84_row0_col5\" class=\"data row0 col5\" >0</td>\n",
       "    </tr>\n",
       "  </tbody>\n",
       "</table>\n"
      ],
      "text/plain": [
       "<pandas.io.formats.style.Styler at 0x1f8bcda90d0>"
      ]
     },
     "metadata": {},
     "output_type": "display_data"
    },
    {
     "data": {
      "text/html": [],
      "text/plain": [
       "<IPython.core.display.HTML object>"
      ]
     },
     "metadata": {},
     "output_type": "display_data"
    },
    {
     "name": "stdout",
     "output_type": "stream",
     "text": [
      "meanshift Using Transform 4\n"
     ]
    },
    {
     "data": {
      "text/html": [],
      "text/plain": [
       "<IPython.core.display.HTML object>"
      ]
     },
     "metadata": {},
     "output_type": "display_data"
    },
    {
     "data": {
      "text/html": [
       "<style type=\"text/css\">\n",
       "</style>\n",
       "<table id=\"T_e2749\">\n",
       "  <thead>\n",
       "    <tr>\n",
       "      <th class=\"blank level0\" >&nbsp;</th>\n",
       "      <th id=\"T_e2749_level0_col0\" class=\"col_heading level0 col0\" >Silhouette</th>\n",
       "      <th id=\"T_e2749_level0_col1\" class=\"col_heading level0 col1\" >Calinski-Harabasz</th>\n",
       "      <th id=\"T_e2749_level0_col2\" class=\"col_heading level0 col2\" >Davies-Bouldin</th>\n",
       "      <th id=\"T_e2749_level0_col3\" class=\"col_heading level0 col3\" >Homogeneity</th>\n",
       "      <th id=\"T_e2749_level0_col4\" class=\"col_heading level0 col4\" >Rand Index</th>\n",
       "      <th id=\"T_e2749_level0_col5\" class=\"col_heading level0 col5\" >Completeness</th>\n",
       "    </tr>\n",
       "  </thead>\n",
       "  <tbody>\n",
       "    <tr>\n",
       "      <th id=\"T_e2749_level0_row0\" class=\"row_heading level0 row0\" >0</th>\n",
       "      <td id=\"T_e2749_row0_col0\" class=\"data row0 col0\" >0.9640</td>\n",
       "      <td id=\"T_e2749_row0_col1\" class=\"data row0 col1\" >231576.6177</td>\n",
       "      <td id=\"T_e2749_row0_col2\" class=\"data row0 col2\" >0.0608</td>\n",
       "      <td id=\"T_e2749_row0_col3\" class=\"data row0 col3\" >0</td>\n",
       "      <td id=\"T_e2749_row0_col4\" class=\"data row0 col4\" >0</td>\n",
       "      <td id=\"T_e2749_row0_col5\" class=\"data row0 col5\" >0</td>\n",
       "    </tr>\n",
       "  </tbody>\n",
       "</table>\n"
      ],
      "text/plain": [
       "<pandas.io.formats.style.Styler at 0x1f8bcc22010>"
      ]
     },
     "metadata": {},
     "output_type": "display_data"
    },
    {
     "data": {
      "text/html": [],
      "text/plain": [
       "<IPython.core.display.HTML object>"
      ]
     },
     "metadata": {},
     "output_type": "display_data"
    },
    {
     "name": "stdout",
     "output_type": "stream",
     "text": [
      "meanshift Using Transform 5\n"
     ]
    },
    {
     "data": {
      "text/html": [],
      "text/plain": [
       "<IPython.core.display.HTML object>"
      ]
     },
     "metadata": {},
     "output_type": "display_data"
    },
    {
     "data": {
      "text/html": [
       "<style type=\"text/css\">\n",
       "</style>\n",
       "<table id=\"T_bee74\">\n",
       "  <thead>\n",
       "    <tr>\n",
       "      <th class=\"blank level0\" >&nbsp;</th>\n",
       "      <th id=\"T_bee74_level0_col0\" class=\"col_heading level0 col0\" >Silhouette</th>\n",
       "      <th id=\"T_bee74_level0_col1\" class=\"col_heading level0 col1\" >Calinski-Harabasz</th>\n",
       "      <th id=\"T_bee74_level0_col2\" class=\"col_heading level0 col2\" >Davies-Bouldin</th>\n",
       "      <th id=\"T_bee74_level0_col3\" class=\"col_heading level0 col3\" >Homogeneity</th>\n",
       "      <th id=\"T_bee74_level0_col4\" class=\"col_heading level0 col4\" >Rand Index</th>\n",
       "      <th id=\"T_bee74_level0_col5\" class=\"col_heading level0 col5\" >Completeness</th>\n",
       "    </tr>\n",
       "  </thead>\n",
       "  <tbody>\n",
       "    <tr>\n",
       "      <th id=\"T_bee74_level0_row0\" class=\"row_heading level0 row0\" >0</th>\n",
       "      <td id=\"T_bee74_row0_col0\" class=\"data row0 col0\" >0.9640</td>\n",
       "      <td id=\"T_bee74_row0_col1\" class=\"data row0 col1\" >231576.6177</td>\n",
       "      <td id=\"T_bee74_row0_col2\" class=\"data row0 col2\" >0.0608</td>\n",
       "      <td id=\"T_bee74_row0_col3\" class=\"data row0 col3\" >0</td>\n",
       "      <td id=\"T_bee74_row0_col4\" class=\"data row0 col4\" >0</td>\n",
       "      <td id=\"T_bee74_row0_col5\" class=\"data row0 col5\" >0</td>\n",
       "    </tr>\n",
       "  </tbody>\n",
       "</table>\n"
      ],
      "text/plain": [
       "<pandas.io.formats.style.Styler at 0x1f8bcdaa0d0>"
      ]
     },
     "metadata": {},
     "output_type": "display_data"
    },
    {
     "data": {
      "text/html": [],
      "text/plain": [
       "<IPython.core.display.HTML object>"
      ]
     },
     "metadata": {},
     "output_type": "display_data"
    },
    {
     "name": "stdout",
     "output_type": "stream",
     "text": [
      "meanshift Using PCA 3\n"
     ]
    },
    {
     "data": {
      "text/html": [],
      "text/plain": [
       "<IPython.core.display.HTML object>"
      ]
     },
     "metadata": {},
     "output_type": "display_data"
    },
    {
     "data": {
      "text/html": [
       "<style type=\"text/css\">\n",
       "</style>\n",
       "<table id=\"T_7a817\">\n",
       "  <thead>\n",
       "    <tr>\n",
       "      <th class=\"blank level0\" >&nbsp;</th>\n",
       "      <th id=\"T_7a817_level0_col0\" class=\"col_heading level0 col0\" >Silhouette</th>\n",
       "      <th id=\"T_7a817_level0_col1\" class=\"col_heading level0 col1\" >Calinski-Harabasz</th>\n",
       "      <th id=\"T_7a817_level0_col2\" class=\"col_heading level0 col2\" >Davies-Bouldin</th>\n",
       "      <th id=\"T_7a817_level0_col3\" class=\"col_heading level0 col3\" >Homogeneity</th>\n",
       "      <th id=\"T_7a817_level0_col4\" class=\"col_heading level0 col4\" >Rand Index</th>\n",
       "      <th id=\"T_7a817_level0_col5\" class=\"col_heading level0 col5\" >Completeness</th>\n",
       "    </tr>\n",
       "  </thead>\n",
       "  <tbody>\n",
       "    <tr>\n",
       "      <th id=\"T_7a817_level0_row0\" class=\"row_heading level0 row0\" >0</th>\n",
       "      <td id=\"T_7a817_row0_col0\" class=\"data row0 col0\" >0.5592</td>\n",
       "      <td id=\"T_7a817_row0_col1\" class=\"data row0 col1\" >4309.4964</td>\n",
       "      <td id=\"T_7a817_row0_col2\" class=\"data row0 col2\" >0.5983</td>\n",
       "      <td id=\"T_7a817_row0_col3\" class=\"data row0 col3\" >0</td>\n",
       "      <td id=\"T_7a817_row0_col4\" class=\"data row0 col4\" >0</td>\n",
       "      <td id=\"T_7a817_row0_col5\" class=\"data row0 col5\" >0</td>\n",
       "    </tr>\n",
       "  </tbody>\n",
       "</table>\n"
      ],
      "text/plain": [
       "<pandas.io.formats.style.Styler at 0x1f8bcc217d0>"
      ]
     },
     "metadata": {},
     "output_type": "display_data"
    },
    {
     "data": {
      "text/html": [],
      "text/plain": [
       "<IPython.core.display.HTML object>"
      ]
     },
     "metadata": {},
     "output_type": "display_data"
    },
    {
     "name": "stdout",
     "output_type": "stream",
     "text": [
      "meanshift Using PCA 4\n"
     ]
    },
    {
     "data": {
      "text/html": [],
      "text/plain": [
       "<IPython.core.display.HTML object>"
      ]
     },
     "metadata": {},
     "output_type": "display_data"
    },
    {
     "data": {
      "text/html": [
       "<style type=\"text/css\">\n",
       "</style>\n",
       "<table id=\"T_9d877\">\n",
       "  <thead>\n",
       "    <tr>\n",
       "      <th class=\"blank level0\" >&nbsp;</th>\n",
       "      <th id=\"T_9d877_level0_col0\" class=\"col_heading level0 col0\" >Silhouette</th>\n",
       "      <th id=\"T_9d877_level0_col1\" class=\"col_heading level0 col1\" >Calinski-Harabasz</th>\n",
       "      <th id=\"T_9d877_level0_col2\" class=\"col_heading level0 col2\" >Davies-Bouldin</th>\n",
       "      <th id=\"T_9d877_level0_col3\" class=\"col_heading level0 col3\" >Homogeneity</th>\n",
       "      <th id=\"T_9d877_level0_col4\" class=\"col_heading level0 col4\" >Rand Index</th>\n",
       "      <th id=\"T_9d877_level0_col5\" class=\"col_heading level0 col5\" >Completeness</th>\n",
       "    </tr>\n",
       "  </thead>\n",
       "  <tbody>\n",
       "    <tr>\n",
       "      <th id=\"T_9d877_level0_row0\" class=\"row_heading level0 row0\" >0</th>\n",
       "      <td id=\"T_9d877_row0_col0\" class=\"data row0 col0\" >0.5592</td>\n",
       "      <td id=\"T_9d877_row0_col1\" class=\"data row0 col1\" >4309.4964</td>\n",
       "      <td id=\"T_9d877_row0_col2\" class=\"data row0 col2\" >0.5983</td>\n",
       "      <td id=\"T_9d877_row0_col3\" class=\"data row0 col3\" >0</td>\n",
       "      <td id=\"T_9d877_row0_col4\" class=\"data row0 col4\" >0</td>\n",
       "      <td id=\"T_9d877_row0_col5\" class=\"data row0 col5\" >0</td>\n",
       "    </tr>\n",
       "  </tbody>\n",
       "</table>\n"
      ],
      "text/plain": [
       "<pandas.io.formats.style.Styler at 0x1f8aebb0890>"
      ]
     },
     "metadata": {},
     "output_type": "display_data"
    },
    {
     "data": {
      "text/html": [],
      "text/plain": [
       "<IPython.core.display.HTML object>"
      ]
     },
     "metadata": {},
     "output_type": "display_data"
    },
    {
     "name": "stdout",
     "output_type": "stream",
     "text": [
      "meanshift Using PCA 5\n"
     ]
    },
    {
     "data": {
      "text/html": [],
      "text/plain": [
       "<IPython.core.display.HTML object>"
      ]
     },
     "metadata": {},
     "output_type": "display_data"
    },
    {
     "data": {
      "text/html": [
       "<style type=\"text/css\">\n",
       "</style>\n",
       "<table id=\"T_241da\">\n",
       "  <thead>\n",
       "    <tr>\n",
       "      <th class=\"blank level0\" >&nbsp;</th>\n",
       "      <th id=\"T_241da_level0_col0\" class=\"col_heading level0 col0\" >Silhouette</th>\n",
       "      <th id=\"T_241da_level0_col1\" class=\"col_heading level0 col1\" >Calinski-Harabasz</th>\n",
       "      <th id=\"T_241da_level0_col2\" class=\"col_heading level0 col2\" >Davies-Bouldin</th>\n",
       "      <th id=\"T_241da_level0_col3\" class=\"col_heading level0 col3\" >Homogeneity</th>\n",
       "      <th id=\"T_241da_level0_col4\" class=\"col_heading level0 col4\" >Rand Index</th>\n",
       "      <th id=\"T_241da_level0_col5\" class=\"col_heading level0 col5\" >Completeness</th>\n",
       "    </tr>\n",
       "  </thead>\n",
       "  <tbody>\n",
       "    <tr>\n",
       "      <th id=\"T_241da_level0_row0\" class=\"row_heading level0 row0\" >0</th>\n",
       "      <td id=\"T_241da_row0_col0\" class=\"data row0 col0\" >0.5592</td>\n",
       "      <td id=\"T_241da_row0_col1\" class=\"data row0 col1\" >4309.4964</td>\n",
       "      <td id=\"T_241da_row0_col2\" class=\"data row0 col2\" >0.5983</td>\n",
       "      <td id=\"T_241da_row0_col3\" class=\"data row0 col3\" >0</td>\n",
       "      <td id=\"T_241da_row0_col4\" class=\"data row0 col4\" >0</td>\n",
       "      <td id=\"T_241da_row0_col5\" class=\"data row0 col5\" >0</td>\n",
       "    </tr>\n",
       "  </tbody>\n",
       "</table>\n"
      ],
      "text/plain": [
       "<pandas.io.formats.style.Styler at 0x1f8aeb6bf10>"
      ]
     },
     "metadata": {},
     "output_type": "display_data"
    },
    {
     "data": {
      "text/html": [],
      "text/plain": [
       "<IPython.core.display.HTML object>"
      ]
     },
     "metadata": {},
     "output_type": "display_data"
    },
    {
     "name": "stdout",
     "output_type": "stream",
     "text": [
      "meanshift Using T+N 3\n"
     ]
    },
    {
     "data": {
      "text/html": [],
      "text/plain": [
       "<IPython.core.display.HTML object>"
      ]
     },
     "metadata": {},
     "output_type": "display_data"
    },
    {
     "data": {
      "text/html": [
       "<style type=\"text/css\">\n",
       "</style>\n",
       "<table id=\"T_c2e99\">\n",
       "  <thead>\n",
       "    <tr>\n",
       "      <th class=\"blank level0\" >&nbsp;</th>\n",
       "      <th id=\"T_c2e99_level0_col0\" class=\"col_heading level0 col0\" >Silhouette</th>\n",
       "      <th id=\"T_c2e99_level0_col1\" class=\"col_heading level0 col1\" >Calinski-Harabasz</th>\n",
       "      <th id=\"T_c2e99_level0_col2\" class=\"col_heading level0 col2\" >Davies-Bouldin</th>\n",
       "      <th id=\"T_c2e99_level0_col3\" class=\"col_heading level0 col3\" >Homogeneity</th>\n",
       "      <th id=\"T_c2e99_level0_col4\" class=\"col_heading level0 col4\" >Rand Index</th>\n",
       "      <th id=\"T_c2e99_level0_col5\" class=\"col_heading level0 col5\" >Completeness</th>\n",
       "    </tr>\n",
       "  </thead>\n",
       "  <tbody>\n",
       "    <tr>\n",
       "      <th id=\"T_c2e99_level0_row0\" class=\"row_heading level0 row0\" >0</th>\n",
       "      <td id=\"T_c2e99_row0_col0\" class=\"data row0 col0\" >0.3182</td>\n",
       "      <td id=\"T_c2e99_row0_col1\" class=\"data row0 col1\" >36.0077</td>\n",
       "      <td id=\"T_c2e99_row0_col2\" class=\"data row0 col2\" >0.7927</td>\n",
       "      <td id=\"T_c2e99_row0_col3\" class=\"data row0 col3\" >0</td>\n",
       "      <td id=\"T_c2e99_row0_col4\" class=\"data row0 col4\" >0</td>\n",
       "      <td id=\"T_c2e99_row0_col5\" class=\"data row0 col5\" >0</td>\n",
       "    </tr>\n",
       "  </tbody>\n",
       "</table>\n"
      ],
      "text/plain": [
       "<pandas.io.formats.style.Styler at 0x1f8aebeb490>"
      ]
     },
     "metadata": {},
     "output_type": "display_data"
    },
    {
     "data": {
      "text/html": [],
      "text/plain": [
       "<IPython.core.display.HTML object>"
      ]
     },
     "metadata": {},
     "output_type": "display_data"
    },
    {
     "name": "stdout",
     "output_type": "stream",
     "text": [
      "meanshift Using T+N 4\n"
     ]
    },
    {
     "data": {
      "text/html": [],
      "text/plain": [
       "<IPython.core.display.HTML object>"
      ]
     },
     "metadata": {},
     "output_type": "display_data"
    },
    {
     "data": {
      "text/html": [
       "<style type=\"text/css\">\n",
       "</style>\n",
       "<table id=\"T_1fdd9\">\n",
       "  <thead>\n",
       "    <tr>\n",
       "      <th class=\"blank level0\" >&nbsp;</th>\n",
       "      <th id=\"T_1fdd9_level0_col0\" class=\"col_heading level0 col0\" >Silhouette</th>\n",
       "      <th id=\"T_1fdd9_level0_col1\" class=\"col_heading level0 col1\" >Calinski-Harabasz</th>\n",
       "      <th id=\"T_1fdd9_level0_col2\" class=\"col_heading level0 col2\" >Davies-Bouldin</th>\n",
       "      <th id=\"T_1fdd9_level0_col3\" class=\"col_heading level0 col3\" >Homogeneity</th>\n",
       "      <th id=\"T_1fdd9_level0_col4\" class=\"col_heading level0 col4\" >Rand Index</th>\n",
       "      <th id=\"T_1fdd9_level0_col5\" class=\"col_heading level0 col5\" >Completeness</th>\n",
       "    </tr>\n",
       "  </thead>\n",
       "  <tbody>\n",
       "    <tr>\n",
       "      <th id=\"T_1fdd9_level0_row0\" class=\"row_heading level0 row0\" >0</th>\n",
       "      <td id=\"T_1fdd9_row0_col0\" class=\"data row0 col0\" >0.3182</td>\n",
       "      <td id=\"T_1fdd9_row0_col1\" class=\"data row0 col1\" >36.0077</td>\n",
       "      <td id=\"T_1fdd9_row0_col2\" class=\"data row0 col2\" >0.7927</td>\n",
       "      <td id=\"T_1fdd9_row0_col3\" class=\"data row0 col3\" >0</td>\n",
       "      <td id=\"T_1fdd9_row0_col4\" class=\"data row0 col4\" >0</td>\n",
       "      <td id=\"T_1fdd9_row0_col5\" class=\"data row0 col5\" >0</td>\n",
       "    </tr>\n",
       "  </tbody>\n",
       "</table>\n"
      ],
      "text/plain": [
       "<pandas.io.formats.style.Styler at 0x1f8bcd64850>"
      ]
     },
     "metadata": {},
     "output_type": "display_data"
    },
    {
     "data": {
      "text/html": [],
      "text/plain": [
       "<IPython.core.display.HTML object>"
      ]
     },
     "metadata": {},
     "output_type": "display_data"
    },
    {
     "name": "stdout",
     "output_type": "stream",
     "text": [
      "meanshift Using T+N 5\n"
     ]
    },
    {
     "data": {
      "text/html": [],
      "text/plain": [
       "<IPython.core.display.HTML object>"
      ]
     },
     "metadata": {},
     "output_type": "display_data"
    },
    {
     "data": {
      "text/html": [
       "<style type=\"text/css\">\n",
       "</style>\n",
       "<table id=\"T_8896a\">\n",
       "  <thead>\n",
       "    <tr>\n",
       "      <th class=\"blank level0\" >&nbsp;</th>\n",
       "      <th id=\"T_8896a_level0_col0\" class=\"col_heading level0 col0\" >Silhouette</th>\n",
       "      <th id=\"T_8896a_level0_col1\" class=\"col_heading level0 col1\" >Calinski-Harabasz</th>\n",
       "      <th id=\"T_8896a_level0_col2\" class=\"col_heading level0 col2\" >Davies-Bouldin</th>\n",
       "      <th id=\"T_8896a_level0_col3\" class=\"col_heading level0 col3\" >Homogeneity</th>\n",
       "      <th id=\"T_8896a_level0_col4\" class=\"col_heading level0 col4\" >Rand Index</th>\n",
       "      <th id=\"T_8896a_level0_col5\" class=\"col_heading level0 col5\" >Completeness</th>\n",
       "    </tr>\n",
       "  </thead>\n",
       "  <tbody>\n",
       "    <tr>\n",
       "      <th id=\"T_8896a_level0_row0\" class=\"row_heading level0 row0\" >0</th>\n",
       "      <td id=\"T_8896a_row0_col0\" class=\"data row0 col0\" >0.3182</td>\n",
       "      <td id=\"T_8896a_row0_col1\" class=\"data row0 col1\" >36.0077</td>\n",
       "      <td id=\"T_8896a_row0_col2\" class=\"data row0 col2\" >0.7927</td>\n",
       "      <td id=\"T_8896a_row0_col3\" class=\"data row0 col3\" >0</td>\n",
       "      <td id=\"T_8896a_row0_col4\" class=\"data row0 col4\" >0</td>\n",
       "      <td id=\"T_8896a_row0_col5\" class=\"data row0 col5\" >0</td>\n",
       "    </tr>\n",
       "  </tbody>\n",
       "</table>\n"
      ],
      "text/plain": [
       "<pandas.io.formats.style.Styler at 0x1f8aeb476d0>"
      ]
     },
     "metadata": {},
     "output_type": "display_data"
    },
    {
     "data": {
      "text/html": [],
      "text/plain": [
       "<IPython.core.display.HTML object>"
      ]
     },
     "metadata": {},
     "output_type": "display_data"
    },
    {
     "name": "stdout",
     "output_type": "stream",
     "text": [
      "meanshift Using T+N+PCA 3\n"
     ]
    },
    {
     "data": {
      "text/html": [],
      "text/plain": [
       "<IPython.core.display.HTML object>"
      ]
     },
     "metadata": {},
     "output_type": "display_data"
    },
    {
     "data": {
      "text/html": [
       "<style type=\"text/css\">\n",
       "</style>\n",
       "<table id=\"T_46ac7\">\n",
       "  <thead>\n",
       "    <tr>\n",
       "      <th class=\"blank level0\" >&nbsp;</th>\n",
       "      <th id=\"T_46ac7_level0_col0\" class=\"col_heading level0 col0\" >Silhouette</th>\n",
       "      <th id=\"T_46ac7_level0_col1\" class=\"col_heading level0 col1\" >Calinski-Harabasz</th>\n",
       "      <th id=\"T_46ac7_level0_col2\" class=\"col_heading level0 col2\" >Davies-Bouldin</th>\n",
       "      <th id=\"T_46ac7_level0_col3\" class=\"col_heading level0 col3\" >Homogeneity</th>\n",
       "      <th id=\"T_46ac7_level0_col4\" class=\"col_heading level0 col4\" >Rand Index</th>\n",
       "      <th id=\"T_46ac7_level0_col5\" class=\"col_heading level0 col5\" >Completeness</th>\n",
       "    </tr>\n",
       "  </thead>\n",
       "  <tbody>\n",
       "    <tr>\n",
       "      <th id=\"T_46ac7_level0_row0\" class=\"row_heading level0 row0\" >0</th>\n",
       "      <td id=\"T_46ac7_row0_col0\" class=\"data row0 col0\" >0.3182</td>\n",
       "      <td id=\"T_46ac7_row0_col1\" class=\"data row0 col1\" >36.0077</td>\n",
       "      <td id=\"T_46ac7_row0_col2\" class=\"data row0 col2\" >0.7927</td>\n",
       "      <td id=\"T_46ac7_row0_col3\" class=\"data row0 col3\" >0</td>\n",
       "      <td id=\"T_46ac7_row0_col4\" class=\"data row0 col4\" >0</td>\n",
       "      <td id=\"T_46ac7_row0_col5\" class=\"data row0 col5\" >0</td>\n",
       "    </tr>\n",
       "  </tbody>\n",
       "</table>\n"
      ],
      "text/plain": [
       "<pandas.io.formats.style.Styler at 0x1f8bcd99a90>"
      ]
     },
     "metadata": {},
     "output_type": "display_data"
    },
    {
     "data": {
      "text/html": [],
      "text/plain": [
       "<IPython.core.display.HTML object>"
      ]
     },
     "metadata": {},
     "output_type": "display_data"
    },
    {
     "name": "stdout",
     "output_type": "stream",
     "text": [
      "meanshift Using T+N+PCA 4\n"
     ]
    },
    {
     "data": {
      "text/html": [],
      "text/plain": [
       "<IPython.core.display.HTML object>"
      ]
     },
     "metadata": {},
     "output_type": "display_data"
    },
    {
     "data": {
      "text/html": [
       "<style type=\"text/css\">\n",
       "</style>\n",
       "<table id=\"T_bc629\">\n",
       "  <thead>\n",
       "    <tr>\n",
       "      <th class=\"blank level0\" >&nbsp;</th>\n",
       "      <th id=\"T_bc629_level0_col0\" class=\"col_heading level0 col0\" >Silhouette</th>\n",
       "      <th id=\"T_bc629_level0_col1\" class=\"col_heading level0 col1\" >Calinski-Harabasz</th>\n",
       "      <th id=\"T_bc629_level0_col2\" class=\"col_heading level0 col2\" >Davies-Bouldin</th>\n",
       "      <th id=\"T_bc629_level0_col3\" class=\"col_heading level0 col3\" >Homogeneity</th>\n",
       "      <th id=\"T_bc629_level0_col4\" class=\"col_heading level0 col4\" >Rand Index</th>\n",
       "      <th id=\"T_bc629_level0_col5\" class=\"col_heading level0 col5\" >Completeness</th>\n",
       "    </tr>\n",
       "  </thead>\n",
       "  <tbody>\n",
       "    <tr>\n",
       "      <th id=\"T_bc629_level0_row0\" class=\"row_heading level0 row0\" >0</th>\n",
       "      <td id=\"T_bc629_row0_col0\" class=\"data row0 col0\" >0.3182</td>\n",
       "      <td id=\"T_bc629_row0_col1\" class=\"data row0 col1\" >36.0077</td>\n",
       "      <td id=\"T_bc629_row0_col2\" class=\"data row0 col2\" >0.7927</td>\n",
       "      <td id=\"T_bc629_row0_col3\" class=\"data row0 col3\" >0</td>\n",
       "      <td id=\"T_bc629_row0_col4\" class=\"data row0 col4\" >0</td>\n",
       "      <td id=\"T_bc629_row0_col5\" class=\"data row0 col5\" >0</td>\n",
       "    </tr>\n",
       "  </tbody>\n",
       "</table>\n"
      ],
      "text/plain": [
       "<pandas.io.formats.style.Styler at 0x1f8bceea810>"
      ]
     },
     "metadata": {},
     "output_type": "display_data"
    },
    {
     "data": {
      "text/html": [],
      "text/plain": [
       "<IPython.core.display.HTML object>"
      ]
     },
     "metadata": {},
     "output_type": "display_data"
    },
    {
     "name": "stdout",
     "output_type": "stream",
     "text": [
      "meanshift Using T+N+PCA 5\n"
     ]
    },
    {
     "data": {
      "text/html": [],
      "text/plain": [
       "<IPython.core.display.HTML object>"
      ]
     },
     "metadata": {},
     "output_type": "display_data"
    },
    {
     "data": {
      "text/html": [
       "<style type=\"text/css\">\n",
       "</style>\n",
       "<table id=\"T_506d3\">\n",
       "  <thead>\n",
       "    <tr>\n",
       "      <th class=\"blank level0\" >&nbsp;</th>\n",
       "      <th id=\"T_506d3_level0_col0\" class=\"col_heading level0 col0\" >Silhouette</th>\n",
       "      <th id=\"T_506d3_level0_col1\" class=\"col_heading level0 col1\" >Calinski-Harabasz</th>\n",
       "      <th id=\"T_506d3_level0_col2\" class=\"col_heading level0 col2\" >Davies-Bouldin</th>\n",
       "      <th id=\"T_506d3_level0_col3\" class=\"col_heading level0 col3\" >Homogeneity</th>\n",
       "      <th id=\"T_506d3_level0_col4\" class=\"col_heading level0 col4\" >Rand Index</th>\n",
       "      <th id=\"T_506d3_level0_col5\" class=\"col_heading level0 col5\" >Completeness</th>\n",
       "    </tr>\n",
       "  </thead>\n",
       "  <tbody>\n",
       "    <tr>\n",
       "      <th id=\"T_506d3_level0_row0\" class=\"row_heading level0 row0\" >0</th>\n",
       "      <td id=\"T_506d3_row0_col0\" class=\"data row0 col0\" >0.3182</td>\n",
       "      <td id=\"T_506d3_row0_col1\" class=\"data row0 col1\" >36.0077</td>\n",
       "      <td id=\"T_506d3_row0_col2\" class=\"data row0 col2\" >0.7927</td>\n",
       "      <td id=\"T_506d3_row0_col3\" class=\"data row0 col3\" >0</td>\n",
       "      <td id=\"T_506d3_row0_col4\" class=\"data row0 col4\" >0</td>\n",
       "      <td id=\"T_506d3_row0_col5\" class=\"data row0 col5\" >0</td>\n",
       "    </tr>\n",
       "  </tbody>\n",
       "</table>\n"
      ],
      "text/plain": [
       "<pandas.io.formats.style.Styler at 0x1f8bcc46610>"
      ]
     },
     "metadata": {},
     "output_type": "display_data"
    },
    {
     "data": {
      "text/html": [],
      "text/plain": [
       "<IPython.core.display.HTML object>"
      ]
     },
     "metadata": {},
     "output_type": "display_data"
    }
   ],
   "source": [
    "models = ['kmeans', 'hclust', 'meanshift']\n",
    "for model in models:\n",
    "    result_dict[model] = run_clustering_model(model_name=model, setup_args=setup_args, num_clusters_range=num_clusters_range, data=X)"
   ]
  },
  {
   "cell_type": "markdown",
   "metadata": {},
   "source": [
    "### Results\n",
    "*Kmeans Clustering*"
   ]
  },
  {
   "cell_type": "code",
   "execution_count": 15,
   "metadata": {},
   "outputs": [
    {
     "data": {
      "text/html": [
       "<div>\n",
       "<style scoped>\n",
       "    .dataframe tbody tr th:only-of-type {\n",
       "        vertical-align: middle;\n",
       "    }\n",
       "\n",
       "    .dataframe tbody tr th {\n",
       "        vertical-align: top;\n",
       "    }\n",
       "\n",
       "    .dataframe thead tr th {\n",
       "        text-align: left;\n",
       "    }\n",
       "</style>\n",
       "<table border=\"1\" class=\"dataframe\">\n",
       "  <thead>\n",
       "    <tr>\n",
       "      <th></th>\n",
       "      <th colspan=\"3\" halign=\"left\">No Data Preprocessing</th>\n",
       "      <th colspan=\"3\" halign=\"left\">Using Normalization</th>\n",
       "      <th colspan=\"3\" halign=\"left\">Using Transform</th>\n",
       "      <th colspan=\"3\" halign=\"left\">Using PCA</th>\n",
       "      <th colspan=\"3\" halign=\"left\">Using T+N</th>\n",
       "      <th colspan=\"3\" halign=\"left\">Using T+N+PCA</th>\n",
       "    </tr>\n",
       "    <tr>\n",
       "      <th></th>\n",
       "      <th>c=3</th>\n",
       "      <th>c=4</th>\n",
       "      <th>c=5</th>\n",
       "      <th>c=3</th>\n",
       "      <th>c=4</th>\n",
       "      <th>c=5</th>\n",
       "      <th>c=3</th>\n",
       "      <th>c=4</th>\n",
       "      <th>c=5</th>\n",
       "      <th>c=3</th>\n",
       "      <th>c=4</th>\n",
       "      <th>c=5</th>\n",
       "      <th>c=3</th>\n",
       "      <th>c=4</th>\n",
       "      <th>c=5</th>\n",
       "      <th>c=3</th>\n",
       "      <th>c=4</th>\n",
       "      <th>c=5</th>\n",
       "    </tr>\n",
       "  </thead>\n",
       "  <tbody>\n",
       "    <tr>\n",
       "      <th>Silhouette</th>\n",
       "      <td>0.503127</td>\n",
       "      <td>0.478386</td>\n",
       "      <td>0.431739</td>\n",
       "      <td>0.153024</td>\n",
       "      <td>-0.024450</td>\n",
       "      <td>-0.050929</td>\n",
       "      <td>0.062337</td>\n",
       "      <td>-0.098156</td>\n",
       "      <td>-0.128453</td>\n",
       "      <td>0.503127</td>\n",
       "      <td>0.474788</td>\n",
       "      <td>0.432419</td>\n",
       "      <td>0.148261</td>\n",
       "      <td>-0.025149</td>\n",
       "      <td>-0.005336</td>\n",
       "      <td>0.148261</td>\n",
       "      <td>-0.027766</td>\n",
       "      <td>0.012361</td>\n",
       "    </tr>\n",
       "    <tr>\n",
       "      <th>Calinski-Harabasz</th>\n",
       "      <td>4729.250305</td>\n",
       "      <td>4817.956074</td>\n",
       "      <td>4599.889932</td>\n",
       "      <td>830.362258</td>\n",
       "      <td>458.815214</td>\n",
       "      <td>342.532376</td>\n",
       "      <td>384.602450</td>\n",
       "      <td>277.072482</td>\n",
       "      <td>216.554677</td>\n",
       "      <td>4729.250305</td>\n",
       "      <td>4817.879404</td>\n",
       "      <td>4599.999533</td>\n",
       "      <td>818.502893</td>\n",
       "      <td>446.300778</td>\n",
       "      <td>439.334417</td>\n",
       "      <td>818.502893</td>\n",
       "      <td>434.891653</td>\n",
       "      <td>441.930868</td>\n",
       "    </tr>\n",
       "    <tr>\n",
       "      <th>Davies-Bouldin</th>\n",
       "      <td>0.667549</td>\n",
       "      <td>0.684391</td>\n",
       "      <td>0.752037</td>\n",
       "      <td>1.852094</td>\n",
       "      <td>5.426774</td>\n",
       "      <td>5.272870</td>\n",
       "      <td>2.814921</td>\n",
       "      <td>3.761741</td>\n",
       "      <td>8.267418</td>\n",
       "      <td>0.667549</td>\n",
       "      <td>0.698727</td>\n",
       "      <td>0.748969</td>\n",
       "      <td>1.816003</td>\n",
       "      <td>4.733638</td>\n",
       "      <td>2.469125</td>\n",
       "      <td>1.816003</td>\n",
       "      <td>4.807169</td>\n",
       "      <td>3.495536</td>\n",
       "    </tr>\n",
       "  </tbody>\n",
       "</table>\n",
       "</div>"
      ],
      "text/plain": [
       "                  No Data Preprocessing                            \\\n",
       "                                    c=3          c=4          c=5   \n",
       "Silhouette                     0.503127     0.478386     0.431739   \n",
       "Calinski-Harabasz           4729.250305  4817.956074  4599.889932   \n",
       "Davies-Bouldin                 0.667549     0.684391     0.752037   \n",
       "\n",
       "                  Using Normalization                         Using Transform  \\\n",
       "                                  c=3         c=4         c=5             c=3   \n",
       "Silhouette                   0.153024   -0.024450   -0.050929        0.062337   \n",
       "Calinski-Harabasz          830.362258  458.815214  342.532376      384.602450   \n",
       "Davies-Bouldin               1.852094    5.426774    5.272870        2.814921   \n",
       "\n",
       "                                             Using PCA               \\\n",
       "                          c=4         c=5          c=3          c=4   \n",
       "Silhouette          -0.098156   -0.128453     0.503127     0.474788   \n",
       "Calinski-Harabasz  277.072482  216.554677  4729.250305  4817.879404   \n",
       "Davies-Bouldin       3.761741    8.267418     0.667549     0.698727   \n",
       "\n",
       "                                 Using T+N                          \\\n",
       "                           c=5         c=3         c=4         c=5   \n",
       "Silhouette            0.432419    0.148261   -0.025149   -0.005336   \n",
       "Calinski-Harabasz  4599.999533  818.502893  446.300778  439.334417   \n",
       "Davies-Bouldin        0.748969    1.816003    4.733638    2.469125   \n",
       "\n",
       "                  Using T+N+PCA                          \n",
       "                            c=3         c=4         c=5  \n",
       "Silhouette             0.148261   -0.027766    0.012361  \n",
       "Calinski-Harabasz    818.502893  434.891653  441.930868  \n",
       "Davies-Bouldin         1.816003    4.807169    3.495536  "
      ]
     },
     "execution_count": 15,
     "metadata": {},
     "output_type": "execute_result"
    }
   ],
   "source": [
    "result_dict['kmeans']"
   ]
  },
  {
   "cell_type": "markdown",
   "metadata": {},
   "source": [
    "*Hierarchial Clustering*"
   ]
  },
  {
   "cell_type": "code",
   "execution_count": 16,
   "metadata": {},
   "outputs": [
    {
     "data": {
      "text/html": [
       "<div>\n",
       "<style scoped>\n",
       "    .dataframe tbody tr th:only-of-type {\n",
       "        vertical-align: middle;\n",
       "    }\n",
       "\n",
       "    .dataframe tbody tr th {\n",
       "        vertical-align: top;\n",
       "    }\n",
       "\n",
       "    .dataframe thead tr th {\n",
       "        text-align: left;\n",
       "    }\n",
       "</style>\n",
       "<table border=\"1\" class=\"dataframe\">\n",
       "  <thead>\n",
       "    <tr>\n",
       "      <th></th>\n",
       "      <th colspan=\"3\" halign=\"left\">No Data Preprocessing</th>\n",
       "      <th colspan=\"3\" halign=\"left\">Using Normalization</th>\n",
       "      <th colspan=\"3\" halign=\"left\">Using Transform</th>\n",
       "      <th colspan=\"3\" halign=\"left\">Using PCA</th>\n",
       "      <th colspan=\"3\" halign=\"left\">Using T+N</th>\n",
       "      <th colspan=\"3\" halign=\"left\">Using T+N+PCA</th>\n",
       "    </tr>\n",
       "    <tr>\n",
       "      <th></th>\n",
       "      <th>c=3</th>\n",
       "      <th>c=4</th>\n",
       "      <th>c=5</th>\n",
       "      <th>c=3</th>\n",
       "      <th>c=4</th>\n",
       "      <th>c=5</th>\n",
       "      <th>c=3</th>\n",
       "      <th>c=4</th>\n",
       "      <th>c=5</th>\n",
       "      <th>c=3</th>\n",
       "      <th>c=4</th>\n",
       "      <th>c=5</th>\n",
       "      <th>c=3</th>\n",
       "      <th>c=4</th>\n",
       "      <th>c=5</th>\n",
       "      <th>c=3</th>\n",
       "      <th>c=4</th>\n",
       "      <th>c=5</th>\n",
       "    </tr>\n",
       "  </thead>\n",
       "  <tbody>\n",
       "    <tr>\n",
       "      <th>Silhouette</th>\n",
       "      <td>0.475726</td>\n",
       "      <td>0.467548</td>\n",
       "      <td>0.415117</td>\n",
       "      <td>0.060391</td>\n",
       "      <td>-0.029765</td>\n",
       "      <td>-0.042453</td>\n",
       "      <td>0.062337</td>\n",
       "      <td>-0.099628</td>\n",
       "      <td>-0.129376</td>\n",
       "      <td>0.475726</td>\n",
       "      <td>0.467548</td>\n",
       "      <td>0.415117</td>\n",
       "      <td>0.098841</td>\n",
       "      <td>-0.014811</td>\n",
       "      <td>-0.029596</td>\n",
       "      <td>0.098841</td>\n",
       "      <td>-0.014811</td>\n",
       "      <td>-0.029596</td>\n",
       "    </tr>\n",
       "    <tr>\n",
       "      <th>Calinski-Harabasz</th>\n",
       "      <td>4302.495839</td>\n",
       "      <td>4346.043925</td>\n",
       "      <td>4114.637298</td>\n",
       "      <td>436.363741</td>\n",
       "      <td>309.647539</td>\n",
       "      <td>232.338639</td>\n",
       "      <td>384.602450</td>\n",
       "      <td>276.709678</td>\n",
       "      <td>216.276108</td>\n",
       "      <td>4302.495839</td>\n",
       "      <td>4346.043925</td>\n",
       "      <td>4114.637298</td>\n",
       "      <td>392.483965</td>\n",
       "      <td>266.722296</td>\n",
       "      <td>200.142280</td>\n",
       "      <td>392.483965</td>\n",
       "      <td>266.722296</td>\n",
       "      <td>200.142280</td>\n",
       "    </tr>\n",
       "    <tr>\n",
       "      <th>Davies-Bouldin</th>\n",
       "      <td>0.700061</td>\n",
       "      <td>0.666997</td>\n",
       "      <td>0.731406</td>\n",
       "      <td>2.471153</td>\n",
       "      <td>2.976022</td>\n",
       "      <td>3.615776</td>\n",
       "      <td>2.814921</td>\n",
       "      <td>3.737062</td>\n",
       "      <td>8.253889</td>\n",
       "      <td>0.700061</td>\n",
       "      <td>0.666997</td>\n",
       "      <td>0.731406</td>\n",
       "      <td>4.727314</td>\n",
       "      <td>4.503711</td>\n",
       "      <td>4.842121</td>\n",
       "      <td>4.727314</td>\n",
       "      <td>4.503711</td>\n",
       "      <td>4.842121</td>\n",
       "    </tr>\n",
       "  </tbody>\n",
       "</table>\n",
       "</div>"
      ],
      "text/plain": [
       "                  No Data Preprocessing                            \\\n",
       "                                    c=3          c=4          c=5   \n",
       "Silhouette                     0.475726     0.467548     0.415117   \n",
       "Calinski-Harabasz           4302.495839  4346.043925  4114.637298   \n",
       "Davies-Bouldin                 0.700061     0.666997     0.731406   \n",
       "\n",
       "                  Using Normalization                         Using Transform  \\\n",
       "                                  c=3         c=4         c=5             c=3   \n",
       "Silhouette                   0.060391   -0.029765   -0.042453        0.062337   \n",
       "Calinski-Harabasz          436.363741  309.647539  232.338639      384.602450   \n",
       "Davies-Bouldin               2.471153    2.976022    3.615776        2.814921   \n",
       "\n",
       "                                             Using PCA               \\\n",
       "                          c=4         c=5          c=3          c=4   \n",
       "Silhouette          -0.099628   -0.129376     0.475726     0.467548   \n",
       "Calinski-Harabasz  276.709678  216.276108  4302.495839  4346.043925   \n",
       "Davies-Bouldin       3.737062    8.253889     0.700061     0.666997   \n",
       "\n",
       "                                 Using T+N                          \\\n",
       "                           c=5         c=3         c=4         c=5   \n",
       "Silhouette            0.415117    0.098841   -0.014811   -0.029596   \n",
       "Calinski-Harabasz  4114.637298  392.483965  266.722296  200.142280   \n",
       "Davies-Bouldin        0.731406    4.727314    4.503711    4.842121   \n",
       "\n",
       "                  Using T+N+PCA                          \n",
       "                            c=3         c=4         c=5  \n",
       "Silhouette             0.098841   -0.014811   -0.029596  \n",
       "Calinski-Harabasz    392.483965  266.722296  200.142280  \n",
       "Davies-Bouldin         4.727314    4.503711    4.842121  "
      ]
     },
     "execution_count": 16,
     "metadata": {},
     "output_type": "execute_result"
    }
   ],
   "source": [
    "result_dict['hclust']"
   ]
  },
  {
   "cell_type": "markdown",
   "metadata": {},
   "source": [
    "*Kmeans Shift*"
   ]
  },
  {
   "cell_type": "code",
   "execution_count": 17,
   "metadata": {},
   "outputs": [
    {
     "data": {
      "text/html": [
       "<div>\n",
       "<style scoped>\n",
       "    .dataframe tbody tr th:only-of-type {\n",
       "        vertical-align: middle;\n",
       "    }\n",
       "\n",
       "    .dataframe tbody tr th {\n",
       "        vertical-align: top;\n",
       "    }\n",
       "\n",
       "    .dataframe thead tr th {\n",
       "        text-align: left;\n",
       "    }\n",
       "</style>\n",
       "<table border=\"1\" class=\"dataframe\">\n",
       "  <thead>\n",
       "    <tr>\n",
       "      <th></th>\n",
       "      <th colspan=\"3\" halign=\"left\">No Data Preprocessing</th>\n",
       "      <th colspan=\"3\" halign=\"left\">Using Normalization</th>\n",
       "      <th colspan=\"3\" halign=\"left\">Using Transform</th>\n",
       "      <th colspan=\"3\" halign=\"left\">Using PCA</th>\n",
       "      <th colspan=\"3\" halign=\"left\">Using T+N</th>\n",
       "      <th colspan=\"3\" halign=\"left\">Using T+N+PCA</th>\n",
       "    </tr>\n",
       "    <tr>\n",
       "      <th></th>\n",
       "      <th>c=3</th>\n",
       "      <th>c=4</th>\n",
       "      <th>c=5</th>\n",
       "      <th>c=3</th>\n",
       "      <th>c=4</th>\n",
       "      <th>c=5</th>\n",
       "      <th>c=3</th>\n",
       "      <th>c=4</th>\n",
       "      <th>c=5</th>\n",
       "      <th>c=3</th>\n",
       "      <th>c=4</th>\n",
       "      <th>c=5</th>\n",
       "      <th>c=3</th>\n",
       "      <th>c=4</th>\n",
       "      <th>c=5</th>\n",
       "      <th>c=3</th>\n",
       "      <th>c=4</th>\n",
       "      <th>c=5</th>\n",
       "    </tr>\n",
       "  </thead>\n",
       "  <tbody>\n",
       "    <tr>\n",
       "      <th>Silhouette</th>\n",
       "      <td>0.559179</td>\n",
       "      <td>0.559179</td>\n",
       "      <td>0.559179</td>\n",
       "      <td>-0.740924</td>\n",
       "      <td>-0.740924</td>\n",
       "      <td>-0.740924</td>\n",
       "      <td>0.019492</td>\n",
       "      <td>0.019492</td>\n",
       "      <td>0.019492</td>\n",
       "      <td>0.559179</td>\n",
       "      <td>0.559179</td>\n",
       "      <td>0.559179</td>\n",
       "      <td>-0.742555</td>\n",
       "      <td>-0.742555</td>\n",
       "      <td>-0.742555</td>\n",
       "      <td>-0.742555</td>\n",
       "      <td>-0.742555</td>\n",
       "      <td>-0.742555</td>\n",
       "    </tr>\n",
       "    <tr>\n",
       "      <th>Calinski-Harabasz</th>\n",
       "      <td>4309.498187</td>\n",
       "      <td>4309.498187</td>\n",
       "      <td>4309.498187</td>\n",
       "      <td>4.867212</td>\n",
       "      <td>4.867212</td>\n",
       "      <td>4.867212</td>\n",
       "      <td>158.963052</td>\n",
       "      <td>158.963052</td>\n",
       "      <td>158.963052</td>\n",
       "      <td>4309.498187</td>\n",
       "      <td>4309.498187</td>\n",
       "      <td>4309.498187</td>\n",
       "      <td>5.356018</td>\n",
       "      <td>5.356018</td>\n",
       "      <td>5.356018</td>\n",
       "      <td>5.356018</td>\n",
       "      <td>5.356018</td>\n",
       "      <td>5.356018</td>\n",
       "    </tr>\n",
       "    <tr>\n",
       "      <th>Davies-Bouldin</th>\n",
       "      <td>0.598328</td>\n",
       "      <td>0.598328</td>\n",
       "      <td>0.598328</td>\n",
       "      <td>2.757867</td>\n",
       "      <td>2.757867</td>\n",
       "      <td>2.757867</td>\n",
       "      <td>1.720077</td>\n",
       "      <td>1.720077</td>\n",
       "      <td>1.720077</td>\n",
       "      <td>0.598328</td>\n",
       "      <td>0.598328</td>\n",
       "      <td>0.598328</td>\n",
       "      <td>3.614551</td>\n",
       "      <td>3.614551</td>\n",
       "      <td>3.614551</td>\n",
       "      <td>3.614551</td>\n",
       "      <td>3.614551</td>\n",
       "      <td>3.614551</td>\n",
       "    </tr>\n",
       "  </tbody>\n",
       "</table>\n",
       "</div>"
      ],
      "text/plain": [
       "                  No Data Preprocessing                            \\\n",
       "                                    c=3          c=4          c=5   \n",
       "Silhouette                     0.559179     0.559179     0.559179   \n",
       "Calinski-Harabasz           4309.498187  4309.498187  4309.498187   \n",
       "Davies-Bouldin                 0.598328     0.598328     0.598328   \n",
       "\n",
       "                  Using Normalization                     Using Transform  \\\n",
       "                                  c=3       c=4       c=5             c=3   \n",
       "Silhouette                  -0.740924 -0.740924 -0.740924        0.019492   \n",
       "Calinski-Harabasz            4.867212  4.867212  4.867212      158.963052   \n",
       "Davies-Bouldin               2.757867  2.757867  2.757867        1.720077   \n",
       "\n",
       "                                             Using PCA               \\\n",
       "                          c=4         c=5          c=3          c=4   \n",
       "Silhouette           0.019492    0.019492     0.559179     0.559179   \n",
       "Calinski-Harabasz  158.963052  158.963052  4309.498187  4309.498187   \n",
       "Davies-Bouldin       1.720077    1.720077     0.598328     0.598328   \n",
       "\n",
       "                               Using T+N                     Using T+N+PCA  \\\n",
       "                           c=5       c=3       c=4       c=5           c=3   \n",
       "Silhouette            0.559179 -0.742555 -0.742555 -0.742555     -0.742555   \n",
       "Calinski-Harabasz  4309.498187  5.356018  5.356018  5.356018      5.356018   \n",
       "Davies-Bouldin        0.598328  3.614551  3.614551  3.614551      3.614551   \n",
       "\n",
       "                                       \n",
       "                        c=4       c=5  \n",
       "Silhouette        -0.742555 -0.742555  \n",
       "Calinski-Harabasz  5.356018  5.356018  \n",
       "Davies-Bouldin     3.614551  3.614551  "
      ]
     },
     "execution_count": 17,
     "metadata": {},
     "output_type": "execute_result"
    }
   ],
   "source": [
    "result_dict['meanshift']"
   ]
  },
  {
   "cell_type": "markdown",
   "metadata": {},
   "source": [
    "### Conclusion\n",
    "*Based on results*\n",
    "- Best Clustering Algorithm -> Kmean Shift\n",
    "- Silhouette score -> 0.559179\n",
    "- Best number of clusters -> 3"
   ]
  }
 ],
 "metadata": {
  "kernelspec": {
   "display_name": "Python 3",
   "language": "python",
   "name": "python3"
  },
  "language_info": {
   "codemirror_mode": {
    "name": "ipython",
    "version": 3
   },
   "file_extension": ".py",
   "mimetype": "text/x-python",
   "name": "python",
   "nbconvert_exporter": "python",
   "pygments_lexer": "ipython3",
   "version": "3.11.4"
  }
 },
 "nbformat": 4,
 "nbformat_minor": 2
}
