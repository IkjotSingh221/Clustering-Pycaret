{
 "cells": [
  {
   "cell_type": "markdown",
   "metadata": {},
   "source": [
    "# Clustering\n",
    "## Ikjot Singh\n",
    "### 102116071\n",
    "### 3CS11"
   ]
  },
  {
   "cell_type": "markdown",
   "metadata": {},
   "source": [
    "### Imports\n",
    "*Importing libraries*"
   ]
  },
  {
   "cell_type": "code",
   "execution_count": 1,
   "metadata": {},
   "outputs": [],
   "source": [
    "from ucimlrepo import fetch_ucirepo \n",
    "import pandas as pd\n",
    "from pycaret.clustering import *"
   ]
  },
  {
   "cell_type": "markdown",
   "metadata": {},
   "source": [
    "*Importing Dataset*\n",
    "\n",
    "Estimation of obesity levels based on eating habits and physical condition . (2019). UCI Machine Learning Repository. https://doi.org/10.24432/C5H31Z."
   ]
  },
  {
   "cell_type": "code",
   "execution_count": 2,
   "metadata": {},
   "outputs": [],
   "source": [
    "estimation_of_obesity_levels_based_on_eating_habits_and_physical_condition = fetch_ucirepo(id=544) "
   ]
  },
  {
   "cell_type": "markdown",
   "metadata": {},
   "source": [
    "### Preprocessing"
   ]
  },
  {
   "cell_type": "markdown",
   "metadata": {},
   "source": [
    "*Splitting Dataset into x and y* "
   ]
  },
  {
   "cell_type": "code",
   "execution_count": 3,
   "metadata": {},
   "outputs": [],
   "source": [
    "X = estimation_of_obesity_levels_based_on_eating_habits_and_physical_condition.data.features \n",
    "y = estimation_of_obesity_levels_based_on_eating_habits_and_physical_condition.data.targets"
   ]
  },
  {
   "cell_type": "code",
   "execution_count": 4,
   "metadata": {},
   "outputs": [
    {
     "data": {
      "text/html": [
       "<div>\n",
       "<style scoped>\n",
       "    .dataframe tbody tr th:only-of-type {\n",
       "        vertical-align: middle;\n",
       "    }\n",
       "\n",
       "    .dataframe tbody tr th {\n",
       "        vertical-align: top;\n",
       "    }\n",
       "\n",
       "    .dataframe thead th {\n",
       "        text-align: right;\n",
       "    }\n",
       "</style>\n",
       "<table border=\"1\" class=\"dataframe\">\n",
       "  <thead>\n",
       "    <tr style=\"text-align: right;\">\n",
       "      <th></th>\n",
       "      <th>Gender</th>\n",
       "      <th>Age</th>\n",
       "      <th>Height</th>\n",
       "      <th>Weight</th>\n",
       "      <th>family_history_with_overweight</th>\n",
       "      <th>FAVC</th>\n",
       "      <th>FCVC</th>\n",
       "      <th>NCP</th>\n",
       "      <th>CAEC</th>\n",
       "      <th>SMOKE</th>\n",
       "      <th>CH2O</th>\n",
       "      <th>SCC</th>\n",
       "      <th>FAF</th>\n",
       "      <th>TUE</th>\n",
       "      <th>CALC</th>\n",
       "      <th>MTRANS</th>\n",
       "    </tr>\n",
       "  </thead>\n",
       "  <tbody>\n",
       "    <tr>\n",
       "      <th>0</th>\n",
       "      <td>Female</td>\n",
       "      <td>21.0</td>\n",
       "      <td>1.62</td>\n",
       "      <td>64.0</td>\n",
       "      <td>yes</td>\n",
       "      <td>no</td>\n",
       "      <td>2.0</td>\n",
       "      <td>3.0</td>\n",
       "      <td>Sometimes</td>\n",
       "      <td>no</td>\n",
       "      <td>2.0</td>\n",
       "      <td>no</td>\n",
       "      <td>0.0</td>\n",
       "      <td>1.0</td>\n",
       "      <td>no</td>\n",
       "      <td>Public_Transportation</td>\n",
       "    </tr>\n",
       "    <tr>\n",
       "      <th>1</th>\n",
       "      <td>Female</td>\n",
       "      <td>21.0</td>\n",
       "      <td>1.52</td>\n",
       "      <td>56.0</td>\n",
       "      <td>yes</td>\n",
       "      <td>no</td>\n",
       "      <td>3.0</td>\n",
       "      <td>3.0</td>\n",
       "      <td>Sometimes</td>\n",
       "      <td>yes</td>\n",
       "      <td>3.0</td>\n",
       "      <td>yes</td>\n",
       "      <td>3.0</td>\n",
       "      <td>0.0</td>\n",
       "      <td>Sometimes</td>\n",
       "      <td>Public_Transportation</td>\n",
       "    </tr>\n",
       "    <tr>\n",
       "      <th>2</th>\n",
       "      <td>Male</td>\n",
       "      <td>23.0</td>\n",
       "      <td>1.80</td>\n",
       "      <td>77.0</td>\n",
       "      <td>yes</td>\n",
       "      <td>no</td>\n",
       "      <td>2.0</td>\n",
       "      <td>3.0</td>\n",
       "      <td>Sometimes</td>\n",
       "      <td>no</td>\n",
       "      <td>2.0</td>\n",
       "      <td>no</td>\n",
       "      <td>2.0</td>\n",
       "      <td>1.0</td>\n",
       "      <td>Frequently</td>\n",
       "      <td>Public_Transportation</td>\n",
       "    </tr>\n",
       "    <tr>\n",
       "      <th>3</th>\n",
       "      <td>Male</td>\n",
       "      <td>27.0</td>\n",
       "      <td>1.80</td>\n",
       "      <td>87.0</td>\n",
       "      <td>no</td>\n",
       "      <td>no</td>\n",
       "      <td>3.0</td>\n",
       "      <td>3.0</td>\n",
       "      <td>Sometimes</td>\n",
       "      <td>no</td>\n",
       "      <td>2.0</td>\n",
       "      <td>no</td>\n",
       "      <td>2.0</td>\n",
       "      <td>0.0</td>\n",
       "      <td>Frequently</td>\n",
       "      <td>Walking</td>\n",
       "    </tr>\n",
       "    <tr>\n",
       "      <th>4</th>\n",
       "      <td>Male</td>\n",
       "      <td>22.0</td>\n",
       "      <td>1.78</td>\n",
       "      <td>89.8</td>\n",
       "      <td>no</td>\n",
       "      <td>no</td>\n",
       "      <td>2.0</td>\n",
       "      <td>1.0</td>\n",
       "      <td>Sometimes</td>\n",
       "      <td>no</td>\n",
       "      <td>2.0</td>\n",
       "      <td>no</td>\n",
       "      <td>0.0</td>\n",
       "      <td>0.0</td>\n",
       "      <td>Sometimes</td>\n",
       "      <td>Public_Transportation</td>\n",
       "    </tr>\n",
       "  </tbody>\n",
       "</table>\n",
       "</div>"
      ],
      "text/plain": [
       "   Gender   Age  Height  Weight family_history_with_overweight FAVC  FCVC  \\\n",
       "0  Female  21.0    1.62    64.0                            yes   no   2.0   \n",
       "1  Female  21.0    1.52    56.0                            yes   no   3.0   \n",
       "2    Male  23.0    1.80    77.0                            yes   no   2.0   \n",
       "3    Male  27.0    1.80    87.0                             no   no   3.0   \n",
       "4    Male  22.0    1.78    89.8                             no   no   2.0   \n",
       "\n",
       "   NCP       CAEC SMOKE  CH2O  SCC  FAF  TUE        CALC  \\\n",
       "0  3.0  Sometimes    no   2.0   no  0.0  1.0          no   \n",
       "1  3.0  Sometimes   yes   3.0  yes  3.0  0.0   Sometimes   \n",
       "2  3.0  Sometimes    no   2.0   no  2.0  1.0  Frequently   \n",
       "3  3.0  Sometimes    no   2.0   no  2.0  0.0  Frequently   \n",
       "4  1.0  Sometimes    no   2.0   no  0.0  0.0   Sometimes   \n",
       "\n",
       "                  MTRANS  \n",
       "0  Public_Transportation  \n",
       "1  Public_Transportation  \n",
       "2  Public_Transportation  \n",
       "3                Walking  \n",
       "4  Public_Transportation  "
      ]
     },
     "execution_count": 4,
     "metadata": {},
     "output_type": "execute_result"
    }
   ],
   "source": [
    "X.head()"
   ]
  },
  {
   "cell_type": "code",
   "execution_count": 5,
   "metadata": {},
   "outputs": [
    {
     "data": {
      "text/html": [
       "<div>\n",
       "<style scoped>\n",
       "    .dataframe tbody tr th:only-of-type {\n",
       "        vertical-align: middle;\n",
       "    }\n",
       "\n",
       "    .dataframe tbody tr th {\n",
       "        vertical-align: top;\n",
       "    }\n",
       "\n",
       "    .dataframe thead th {\n",
       "        text-align: right;\n",
       "    }\n",
       "</style>\n",
       "<table border=\"1\" class=\"dataframe\">\n",
       "  <thead>\n",
       "    <tr style=\"text-align: right;\">\n",
       "      <th></th>\n",
       "      <th>NObeyesdad</th>\n",
       "    </tr>\n",
       "  </thead>\n",
       "  <tbody>\n",
       "    <tr>\n",
       "      <th>0</th>\n",
       "      <td>Normal_Weight</td>\n",
       "    </tr>\n",
       "    <tr>\n",
       "      <th>1</th>\n",
       "      <td>Normal_Weight</td>\n",
       "    </tr>\n",
       "    <tr>\n",
       "      <th>2</th>\n",
       "      <td>Normal_Weight</td>\n",
       "    </tr>\n",
       "    <tr>\n",
       "      <th>3</th>\n",
       "      <td>Overweight_Level_I</td>\n",
       "    </tr>\n",
       "    <tr>\n",
       "      <th>4</th>\n",
       "      <td>Overweight_Level_II</td>\n",
       "    </tr>\n",
       "  </tbody>\n",
       "</table>\n",
       "</div>"
      ],
      "text/plain": [
       "            NObeyesdad\n",
       "0        Normal_Weight\n",
       "1        Normal_Weight\n",
       "2        Normal_Weight\n",
       "3   Overweight_Level_I\n",
       "4  Overweight_Level_II"
      ]
     },
     "execution_count": 5,
     "metadata": {},
     "output_type": "execute_result"
    }
   ],
   "source": [
    "y.head()\n"
   ]
  },
  {
   "cell_type": "markdown",
   "metadata": {},
   "source": [
    "*Preprocessing Data*"
   ]
  },
  {
   "cell_type": "code",
   "execution_count": 6,
   "metadata": {},
   "outputs": [],
   "source": [
    "X[\"Gender\"]=X[\"Gender\"].apply(lambda x: {True: 1, False:0}[x==\"Male\"])\n",
    "X[\"FAVC\"]=X[\"FAVC\"].apply(lambda x: {True: 1, False:0}[x==\"yes\"])\n",
    "X[\"family_history_with_overweight\"]=X[\"family_history_with_overweight\"].apply(lambda x: {True: 1, False:0}[x==\"yes\"])\n",
    "X[\"SMOKE\"]=X[\"SMOKE\"].apply(lambda x: {True: 1, False:0}[x==\"yes\"])\n",
    "X[\"SCC\"]=X[\"SCC\"].apply(lambda x: {True: 1, False:0}[x==\"yes\"])"
   ]
  },
  {
   "cell_type": "code",
   "execution_count": 7,
   "metadata": {},
   "outputs": [],
   "source": [
    "X['CAEC']=X['CAEC'].apply(lambda x: {'no':0,'Sometimes':1,'Frequently':2,'Always':3}[x])\n",
    "X['CALC']=X['CALC'].apply(lambda x: {'no':0,'Sometimes':1,'Frequently':2,'Always':3}[x])\n",
    "X=pd.get_dummies(X,columns=['MTRANS'],drop_first=True)"
   ]
  },
  {
   "cell_type": "markdown",
   "metadata": {},
   "source": [
    "### Metrics"
   ]
  },
  {
   "cell_type": "markdown",
   "metadata": {},
   "source": [
    "*Creating dataframes for storing metrics*"
   ]
  },
  {
   "cell_type": "code",
   "execution_count": 8,
   "metadata": {},
   "outputs": [],
   "source": [
    "rows = [ 'Silhouette', 'Calinski-Harabasz', 'Davies-Bouldin']\n",
    "kmeans_metrics = pd.DataFrame(index = rows)\n",
    "hier_metrics = pd.DataFrame(index = rows)\n",
    "kmeans_shift_metrics = pd.DataFrame(index = rows)"
   ]
  },
  {
   "cell_type": "markdown",
   "metadata": {},
   "source": [
    "*Defining a function to get the metrics*"
   ]
  },
  {
   "cell_type": "code",
   "execution_count": 9,
   "metadata": {},
   "outputs": [],
   "source": [
    "def get_scores(Model, metrics):\n",
    "    silhouette_score_function = metrics.loc['silhouette', 'Score Function']\n",
    "    silhouette_score = silhouette_score_function(X, Model.labels_)\n",
    "\n",
    "    chs_score_function = metrics.loc['chs', 'Score Function']\n",
    "    Calinski_Harabasz_score = chs_score_function(X, Model.labels_)\n",
    "\n",
    "    db_score_function = metrics.loc['db', 'Score Function']\n",
    "    Davies_Bouldin_score = db_score_function(X, Model.labels_)\n",
    "\n",
    "    return (silhouette_score, Calinski_Harabasz_score, Davies_Bouldin_score)"
   ]
  },
  {
   "cell_type": "markdown",
   "metadata": {},
   "source": [
    "### Running Models"
   ]
  },
  {
   "cell_type": "markdown",
   "metadata": {},
   "source": [
    "*Defining a function to run models*"
   ]
  },
  {
   "cell_type": "code",
   "execution_count": 10,
   "metadata": {},
   "outputs": [],
   "source": [
    "def run_clustering_model(model_name, setup_args, num_clusters_range, data):\n",
    "    metrics_dict = {}\n",
    "\n",
    "    for setup_arg in setup_args:\n",
    "        for num_clusters in num_clusters_range:\n",
    "            print(model_name, setup_arg['Type'], num_clusters)\n",
    "            model_params = setup(data=X, **setup_arg['setup_kwargs'])\n",
    "            model = create_model(model_name, num_clusters=num_clusters)\n",
    "            metrics = get_metrics()\n",
    "\n",
    "            a,b,c = get_scores(model, metrics)\n",
    "\n",
    "            metrics_dict[(setup_arg['Type'], f'c={num_clusters}')] = [a,b,c]\n",
    "\n",
    "    return pd.DataFrame(data=metrics_dict, index=rows)\n"
   ]
  },
  {
   "cell_type": "markdown",
   "metadata": {},
   "source": [
    "*Defining rows for metrics and number of clusters*"
   ]
  },
  {
   "cell_type": "code",
   "execution_count": 11,
   "metadata": {},
   "outputs": [],
   "source": [
    "rows = ['Silhouette', 'Calinski-Harabasz', 'Davies-Bouldin']\n",
    "num_clusters_range = range(3, 6) "
   ]
  },
  {
   "cell_type": "markdown",
   "metadata": {},
   "source": [
    "*Defining setup args for all scenarios*"
   ]
  },
  {
   "cell_type": "code",
   "execution_count": 12,
   "metadata": {},
   "outputs": [],
   "source": [
    "\n",
    "# List of dictionaries containing the different arguments for setup function\n",
    "setup_args = [\n",
    "    {'Type': 'No Data Preprocessing', 'setup_kwargs': {'verbose': False}},\n",
    "    {'Type': 'Using Normalization', 'setup_kwargs': {'normalize': True, 'normalize_method': 'zscore', 'verbose': False}},\n",
    "    {'Type': 'Using Transform', 'setup_kwargs': {'transformation': True, 'transformation_method': 'yeo-johnson', 'verbose': False}},\n",
    "    {'Type': 'Using PCA', 'setup_kwargs': {'pca': True, 'pca_method': 'linear', 'verbose': False}},\n",
    "    {'Type': 'Using T+N', 'setup_kwargs': {'transformation': True, 'transformation_method': 'yeo-johnson', 'normalize': True, 'normalize_method': 'zscore', 'verbose': False}},\n",
    "    {'Type': 'Using T+N+PCA', 'setup_kwargs': {'pca': True, 'pca_method': 'linear', 'normalize': True, 'normalize_method': 'zscore', 'transformation': True, 'transformation_method': 'yeo-johnson', 'verbose': False}}\n",
    "]\n",
    "\n"
   ]
  },
  {
   "cell_type": "markdown",
   "metadata": {},
   "source": [
    "*Creating a dictionary to store results*"
   ]
  },
  {
   "cell_type": "code",
   "execution_count": 13,
   "metadata": {},
   "outputs": [],
   "source": [
    "result_dict={}"
   ]
  },
  {
   "cell_type": "markdown",
   "metadata": {},
   "source": [
    "*Running Models*"
   ]
  },
  {
   "cell_type": "code",
   "execution_count": 14,
   "metadata": {},
   "outputs": [
    {
     "name": "stdout",
     "output_type": "stream",
     "text": [
      "kmeans No Data Preprocessing 3\n"
     ]
    },
    {
     "data": {
      "text/html": [],
      "text/plain": [
       "<IPython.core.display.HTML object>"
      ]
     },
     "metadata": {},
     "output_type": "display_data"
    },
    {
     "data": {
      "text/html": [
       "<style type=\"text/css\">\n",
       "</style>\n",
       "<table id=\"T_7ccfd\">\n",
       "  <thead>\n",
       "    <tr>\n",
       "      <th class=\"blank level0\" >&nbsp;</th>\n",
       "      <th id=\"T_7ccfd_level0_col0\" class=\"col_heading level0 col0\" >Silhouette</th>\n",
       "      <th id=\"T_7ccfd_level0_col1\" class=\"col_heading level0 col1\" >Calinski-Harabasz</th>\n",
       "      <th id=\"T_7ccfd_level0_col2\" class=\"col_heading level0 col2\" >Davies-Bouldin</th>\n",
       "      <th id=\"T_7ccfd_level0_col3\" class=\"col_heading level0 col3\" >Homogeneity</th>\n",
       "      <th id=\"T_7ccfd_level0_col4\" class=\"col_heading level0 col4\" >Rand Index</th>\n",
       "      <th id=\"T_7ccfd_level0_col5\" class=\"col_heading level0 col5\" >Completeness</th>\n",
       "    </tr>\n",
       "  </thead>\n",
       "  <tbody>\n",
       "    <tr>\n",
       "      <th id=\"T_7ccfd_level0_row0\" class=\"row_heading level0 row0\" >0</th>\n",
       "      <td id=\"T_7ccfd_row0_col0\" class=\"data row0 col0\" >0.5031</td>\n",
       "      <td id=\"T_7ccfd_row0_col1\" class=\"data row0 col1\" >4729.2488</td>\n",
       "      <td id=\"T_7ccfd_row0_col2\" class=\"data row0 col2\" >0.6675</td>\n",
       "      <td id=\"T_7ccfd_row0_col3\" class=\"data row0 col3\" >0</td>\n",
       "      <td id=\"T_7ccfd_row0_col4\" class=\"data row0 col4\" >0</td>\n",
       "      <td id=\"T_7ccfd_row0_col5\" class=\"data row0 col5\" >0</td>\n",
       "    </tr>\n",
       "  </tbody>\n",
       "</table>\n"
      ],
      "text/plain": [
       "<pandas.io.formats.style.Styler at 0x1e8af6a6790>"
      ]
     },
     "metadata": {},
     "output_type": "display_data"
    },
    {
     "data": {
      "text/html": [],
      "text/plain": [
       "<IPython.core.display.HTML object>"
      ]
     },
     "metadata": {},
     "output_type": "display_data"
    },
    {
     "name": "stdout",
     "output_type": "stream",
     "text": [
      "kmeans No Data Preprocessing 4\n"
     ]
    },
    {
     "data": {
      "text/html": [],
      "text/plain": [
       "<IPython.core.display.HTML object>"
      ]
     },
     "metadata": {},
     "output_type": "display_data"
    },
    {
     "data": {
      "text/html": [
       "<style type=\"text/css\">\n",
       "</style>\n",
       "<table id=\"T_68370\">\n",
       "  <thead>\n",
       "    <tr>\n",
       "      <th class=\"blank level0\" >&nbsp;</th>\n",
       "      <th id=\"T_68370_level0_col0\" class=\"col_heading level0 col0\" >Silhouette</th>\n",
       "      <th id=\"T_68370_level0_col1\" class=\"col_heading level0 col1\" >Calinski-Harabasz</th>\n",
       "      <th id=\"T_68370_level0_col2\" class=\"col_heading level0 col2\" >Davies-Bouldin</th>\n",
       "      <th id=\"T_68370_level0_col3\" class=\"col_heading level0 col3\" >Homogeneity</th>\n",
       "      <th id=\"T_68370_level0_col4\" class=\"col_heading level0 col4\" >Rand Index</th>\n",
       "      <th id=\"T_68370_level0_col5\" class=\"col_heading level0 col5\" >Completeness</th>\n",
       "    </tr>\n",
       "  </thead>\n",
       "  <tbody>\n",
       "    <tr>\n",
       "      <th id=\"T_68370_level0_row0\" class=\"row_heading level0 row0\" >0</th>\n",
       "      <td id=\"T_68370_row0_col0\" class=\"data row0 col0\" >0.4751</td>\n",
       "      <td id=\"T_68370_row0_col1\" class=\"data row0 col1\" >4818.2893</td>\n",
       "      <td id=\"T_68370_row0_col2\" class=\"data row0 col2\" >0.7003</td>\n",
       "      <td id=\"T_68370_row0_col3\" class=\"data row0 col3\" >0</td>\n",
       "      <td id=\"T_68370_row0_col4\" class=\"data row0 col4\" >0</td>\n",
       "      <td id=\"T_68370_row0_col5\" class=\"data row0 col5\" >0</td>\n",
       "    </tr>\n",
       "  </tbody>\n",
       "</table>\n"
      ],
      "text/plain": [
       "<pandas.io.formats.style.Styler at 0x1e8afa941d0>"
      ]
     },
     "metadata": {},
     "output_type": "display_data"
    },
    {
     "data": {
      "text/html": [],
      "text/plain": [
       "<IPython.core.display.HTML object>"
      ]
     },
     "metadata": {},
     "output_type": "display_data"
    },
    {
     "name": "stdout",
     "output_type": "stream",
     "text": [
      "kmeans No Data Preprocessing 5\n"
     ]
    },
    {
     "data": {
      "text/html": [],
      "text/plain": [
       "<IPython.core.display.HTML object>"
      ]
     },
     "metadata": {},
     "output_type": "display_data"
    },
    {
     "data": {
      "text/html": [
       "<style type=\"text/css\">\n",
       "</style>\n",
       "<table id=\"T_a331a\">\n",
       "  <thead>\n",
       "    <tr>\n",
       "      <th class=\"blank level0\" >&nbsp;</th>\n",
       "      <th id=\"T_a331a_level0_col0\" class=\"col_heading level0 col0\" >Silhouette</th>\n",
       "      <th id=\"T_a331a_level0_col1\" class=\"col_heading level0 col1\" >Calinski-Harabasz</th>\n",
       "      <th id=\"T_a331a_level0_col2\" class=\"col_heading level0 col2\" >Davies-Bouldin</th>\n",
       "      <th id=\"T_a331a_level0_col3\" class=\"col_heading level0 col3\" >Homogeneity</th>\n",
       "      <th id=\"T_a331a_level0_col4\" class=\"col_heading level0 col4\" >Rand Index</th>\n",
       "      <th id=\"T_a331a_level0_col5\" class=\"col_heading level0 col5\" >Completeness</th>\n",
       "    </tr>\n",
       "  </thead>\n",
       "  <tbody>\n",
       "    <tr>\n",
       "      <th id=\"T_a331a_level0_row0\" class=\"row_heading level0 row0\" >0</th>\n",
       "      <td id=\"T_a331a_row0_col0\" class=\"data row0 col0\" >0.4312</td>\n",
       "      <td id=\"T_a331a_row0_col1\" class=\"data row0 col1\" >4599.0299</td>\n",
       "      <td id=\"T_a331a_row0_col2\" class=\"data row0 col2\" >0.7568</td>\n",
       "      <td id=\"T_a331a_row0_col3\" class=\"data row0 col3\" >0</td>\n",
       "      <td id=\"T_a331a_row0_col4\" class=\"data row0 col4\" >0</td>\n",
       "      <td id=\"T_a331a_row0_col5\" class=\"data row0 col5\" >0</td>\n",
       "    </tr>\n",
       "  </tbody>\n",
       "</table>\n"
      ],
      "text/plain": [
       "<pandas.io.formats.style.Styler at 0x1e8ae9b0150>"
      ]
     },
     "metadata": {},
     "output_type": "display_data"
    },
    {
     "data": {
      "text/html": [],
      "text/plain": [
       "<IPython.core.display.HTML object>"
      ]
     },
     "metadata": {},
     "output_type": "display_data"
    },
    {
     "name": "stdout",
     "output_type": "stream",
     "text": [
      "kmeans Using Normalization 3\n"
     ]
    },
    {
     "data": {
      "text/html": [],
      "text/plain": [
       "<IPython.core.display.HTML object>"
      ]
     },
     "metadata": {},
     "output_type": "display_data"
    },
    {
     "data": {
      "text/html": [
       "<style type=\"text/css\">\n",
       "</style>\n",
       "<table id=\"T_892e7\">\n",
       "  <thead>\n",
       "    <tr>\n",
       "      <th class=\"blank level0\" >&nbsp;</th>\n",
       "      <th id=\"T_892e7_level0_col0\" class=\"col_heading level0 col0\" >Silhouette</th>\n",
       "      <th id=\"T_892e7_level0_col1\" class=\"col_heading level0 col1\" >Calinski-Harabasz</th>\n",
       "      <th id=\"T_892e7_level0_col2\" class=\"col_heading level0 col2\" >Davies-Bouldin</th>\n",
       "      <th id=\"T_892e7_level0_col3\" class=\"col_heading level0 col3\" >Homogeneity</th>\n",
       "      <th id=\"T_892e7_level0_col4\" class=\"col_heading level0 col4\" >Rand Index</th>\n",
       "      <th id=\"T_892e7_level0_col5\" class=\"col_heading level0 col5\" >Completeness</th>\n",
       "    </tr>\n",
       "  </thead>\n",
       "  <tbody>\n",
       "    <tr>\n",
       "      <th id=\"T_892e7_level0_row0\" class=\"row_heading level0 row0\" >0</th>\n",
       "      <td id=\"T_892e7_row0_col0\" class=\"data row0 col0\" >0.1479</td>\n",
       "      <td id=\"T_892e7_row0_col1\" class=\"data row0 col1\" >199.3456</td>\n",
       "      <td id=\"T_892e7_row0_col2\" class=\"data row0 col2\" >2.4386</td>\n",
       "      <td id=\"T_892e7_row0_col3\" class=\"data row0 col3\" >0</td>\n",
       "      <td id=\"T_892e7_row0_col4\" class=\"data row0 col4\" >0</td>\n",
       "      <td id=\"T_892e7_row0_col5\" class=\"data row0 col5\" >0</td>\n",
       "    </tr>\n",
       "  </tbody>\n",
       "</table>\n"
      ],
      "text/plain": [
       "<pandas.io.formats.style.Styler at 0x1e8afa87ed0>"
      ]
     },
     "metadata": {},
     "output_type": "display_data"
    },
    {
     "data": {
      "text/html": [],
      "text/plain": [
       "<IPython.core.display.HTML object>"
      ]
     },
     "metadata": {},
     "output_type": "display_data"
    },
    {
     "name": "stdout",
     "output_type": "stream",
     "text": [
      "kmeans Using Normalization 4\n"
     ]
    },
    {
     "data": {
      "text/html": [],
      "text/plain": [
       "<IPython.core.display.HTML object>"
      ]
     },
     "metadata": {},
     "output_type": "display_data"
    },
    {
     "data": {
      "text/html": [
       "<style type=\"text/css\">\n",
       "</style>\n",
       "<table id=\"T_b65fd\">\n",
       "  <thead>\n",
       "    <tr>\n",
       "      <th class=\"blank level0\" >&nbsp;</th>\n",
       "      <th id=\"T_b65fd_level0_col0\" class=\"col_heading level0 col0\" >Silhouette</th>\n",
       "      <th id=\"T_b65fd_level0_col1\" class=\"col_heading level0 col1\" >Calinski-Harabasz</th>\n",
       "      <th id=\"T_b65fd_level0_col2\" class=\"col_heading level0 col2\" >Davies-Bouldin</th>\n",
       "      <th id=\"T_b65fd_level0_col3\" class=\"col_heading level0 col3\" >Homogeneity</th>\n",
       "      <th id=\"T_b65fd_level0_col4\" class=\"col_heading level0 col4\" >Rand Index</th>\n",
       "      <th id=\"T_b65fd_level0_col5\" class=\"col_heading level0 col5\" >Completeness</th>\n",
       "    </tr>\n",
       "  </thead>\n",
       "  <tbody>\n",
       "    <tr>\n",
       "      <th id=\"T_b65fd_level0_row0\" class=\"row_heading level0 row0\" >0</th>\n",
       "      <td id=\"T_b65fd_row0_col0\" class=\"data row0 col0\" >0.0926</td>\n",
       "      <td id=\"T_b65fd_row0_col1\" class=\"data row0 col1\" >183.0126</td>\n",
       "      <td id=\"T_b65fd_row0_col2\" class=\"data row0 col2\" >2.0121</td>\n",
       "      <td id=\"T_b65fd_row0_col3\" class=\"data row0 col3\" >0</td>\n",
       "      <td id=\"T_b65fd_row0_col4\" class=\"data row0 col4\" >0</td>\n",
       "      <td id=\"T_b65fd_row0_col5\" class=\"data row0 col5\" >0</td>\n",
       "    </tr>\n",
       "  </tbody>\n",
       "</table>\n"
      ],
      "text/plain": [
       "<pandas.io.formats.style.Styler at 0x1e8afa94810>"
      ]
     },
     "metadata": {},
     "output_type": "display_data"
    },
    {
     "data": {
      "text/html": [],
      "text/plain": [
       "<IPython.core.display.HTML object>"
      ]
     },
     "metadata": {},
     "output_type": "display_data"
    },
    {
     "name": "stdout",
     "output_type": "stream",
     "text": [
      "kmeans Using Normalization 5\n"
     ]
    },
    {
     "data": {
      "text/html": [],
      "text/plain": [
       "<IPython.core.display.HTML object>"
      ]
     },
     "metadata": {},
     "output_type": "display_data"
    },
    {
     "data": {
      "text/html": [
       "<style type=\"text/css\">\n",
       "</style>\n",
       "<table id=\"T_9300a\">\n",
       "  <thead>\n",
       "    <tr>\n",
       "      <th class=\"blank level0\" >&nbsp;</th>\n",
       "      <th id=\"T_9300a_level0_col0\" class=\"col_heading level0 col0\" >Silhouette</th>\n",
       "      <th id=\"T_9300a_level0_col1\" class=\"col_heading level0 col1\" >Calinski-Harabasz</th>\n",
       "      <th id=\"T_9300a_level0_col2\" class=\"col_heading level0 col2\" >Davies-Bouldin</th>\n",
       "      <th id=\"T_9300a_level0_col3\" class=\"col_heading level0 col3\" >Homogeneity</th>\n",
       "      <th id=\"T_9300a_level0_col4\" class=\"col_heading level0 col4\" >Rand Index</th>\n",
       "      <th id=\"T_9300a_level0_col5\" class=\"col_heading level0 col5\" >Completeness</th>\n",
       "    </tr>\n",
       "  </thead>\n",
       "  <tbody>\n",
       "    <tr>\n",
       "      <th id=\"T_9300a_level0_row0\" class=\"row_heading level0 row0\" >0</th>\n",
       "      <td id=\"T_9300a_row0_col0\" class=\"data row0 col0\" >0.1021</td>\n",
       "      <td id=\"T_9300a_row0_col1\" class=\"data row0 col1\" >185.0798</td>\n",
       "      <td id=\"T_9300a_row0_col2\" class=\"data row0 col2\" >2.0326</td>\n",
       "      <td id=\"T_9300a_row0_col3\" class=\"data row0 col3\" >0</td>\n",
       "      <td id=\"T_9300a_row0_col4\" class=\"data row0 col4\" >0</td>\n",
       "      <td id=\"T_9300a_row0_col5\" class=\"data row0 col5\" >0</td>\n",
       "    </tr>\n",
       "  </tbody>\n",
       "</table>\n"
      ],
      "text/plain": [
       "<pandas.io.formats.style.Styler at 0x1e8afa5de10>"
      ]
     },
     "metadata": {},
     "output_type": "display_data"
    },
    {
     "data": {
      "text/html": [],
      "text/plain": [
       "<IPython.core.display.HTML object>"
      ]
     },
     "metadata": {},
     "output_type": "display_data"
    },
    {
     "name": "stdout",
     "output_type": "stream",
     "text": [
      "kmeans Using Transform 3\n"
     ]
    },
    {
     "data": {
      "text/html": [],
      "text/plain": [
       "<IPython.core.display.HTML object>"
      ]
     },
     "metadata": {},
     "output_type": "display_data"
    },
    {
     "data": {
      "text/html": [
       "<style type=\"text/css\">\n",
       "</style>\n",
       "<table id=\"T_2444b\">\n",
       "  <thead>\n",
       "    <tr>\n",
       "      <th class=\"blank level0\" >&nbsp;</th>\n",
       "      <th id=\"T_2444b_level0_col0\" class=\"col_heading level0 col0\" >Silhouette</th>\n",
       "      <th id=\"T_2444b_level0_col1\" class=\"col_heading level0 col1\" >Calinski-Harabasz</th>\n",
       "      <th id=\"T_2444b_level0_col2\" class=\"col_heading level0 col2\" >Davies-Bouldin</th>\n",
       "      <th id=\"T_2444b_level0_col3\" class=\"col_heading level0 col3\" >Homogeneity</th>\n",
       "      <th id=\"T_2444b_level0_col4\" class=\"col_heading level0 col4\" >Rand Index</th>\n",
       "      <th id=\"T_2444b_level0_col5\" class=\"col_heading level0 col5\" >Completeness</th>\n",
       "    </tr>\n",
       "  </thead>\n",
       "  <tbody>\n",
       "    <tr>\n",
       "      <th id=\"T_2444b_level0_row0\" class=\"row_heading level0 row0\" >0</th>\n",
       "      <td id=\"T_2444b_row0_col0\" class=\"data row0 col0\" >0.6937</td>\n",
       "      <td id=\"T_2444b_row0_col1\" class=\"data row0 col1\" >219757.5847</td>\n",
       "      <td id=\"T_2444b_row0_col2\" class=\"data row0 col2\" >0.4166</td>\n",
       "      <td id=\"T_2444b_row0_col3\" class=\"data row0 col3\" >0</td>\n",
       "      <td id=\"T_2444b_row0_col4\" class=\"data row0 col4\" >0</td>\n",
       "      <td id=\"T_2444b_row0_col5\" class=\"data row0 col5\" >0</td>\n",
       "    </tr>\n",
       "  </tbody>\n",
       "</table>\n"
      ],
      "text/plain": [
       "<pandas.io.formats.style.Styler at 0x1e8aedc67d0>"
      ]
     },
     "metadata": {},
     "output_type": "display_data"
    },
    {
     "data": {
      "text/html": [],
      "text/plain": [
       "<IPython.core.display.HTML object>"
      ]
     },
     "metadata": {},
     "output_type": "display_data"
    },
    {
     "name": "stdout",
     "output_type": "stream",
     "text": [
      "kmeans Using Transform 4\n"
     ]
    },
    {
     "data": {
      "text/html": [],
      "text/plain": [
       "<IPython.core.display.HTML object>"
      ]
     },
     "metadata": {},
     "output_type": "display_data"
    },
    {
     "data": {
      "text/html": [
       "<style type=\"text/css\">\n",
       "</style>\n",
       "<table id=\"T_b1fab\">\n",
       "  <thead>\n",
       "    <tr>\n",
       "      <th class=\"blank level0\" >&nbsp;</th>\n",
       "      <th id=\"T_b1fab_level0_col0\" class=\"col_heading level0 col0\" >Silhouette</th>\n",
       "      <th id=\"T_b1fab_level0_col1\" class=\"col_heading level0 col1\" >Calinski-Harabasz</th>\n",
       "      <th id=\"T_b1fab_level0_col2\" class=\"col_heading level0 col2\" >Davies-Bouldin</th>\n",
       "      <th id=\"T_b1fab_level0_col3\" class=\"col_heading level0 col3\" >Homogeneity</th>\n",
       "      <th id=\"T_b1fab_level0_col4\" class=\"col_heading level0 col4\" >Rand Index</th>\n",
       "      <th id=\"T_b1fab_level0_col5\" class=\"col_heading level0 col5\" >Completeness</th>\n",
       "    </tr>\n",
       "  </thead>\n",
       "  <tbody>\n",
       "    <tr>\n",
       "      <th id=\"T_b1fab_level0_row0\" class=\"row_heading level0 row0\" >0</th>\n",
       "      <td id=\"T_b1fab_row0_col0\" class=\"data row0 col0\" >0.5895</td>\n",
       "      <td id=\"T_b1fab_row0_col1\" class=\"data row0 col1\" >199768.5249</td>\n",
       "      <td id=\"T_b1fab_row0_col2\" class=\"data row0 col2\" >0.4985</td>\n",
       "      <td id=\"T_b1fab_row0_col3\" class=\"data row0 col3\" >0</td>\n",
       "      <td id=\"T_b1fab_row0_col4\" class=\"data row0 col4\" >0</td>\n",
       "      <td id=\"T_b1fab_row0_col5\" class=\"data row0 col5\" >0</td>\n",
       "    </tr>\n",
       "  </tbody>\n",
       "</table>\n"
      ],
      "text/plain": [
       "<pandas.io.formats.style.Styler at 0x1e8aed9c9d0>"
      ]
     },
     "metadata": {},
     "output_type": "display_data"
    },
    {
     "data": {
      "text/html": [],
      "text/plain": [
       "<IPython.core.display.HTML object>"
      ]
     },
     "metadata": {},
     "output_type": "display_data"
    },
    {
     "name": "stdout",
     "output_type": "stream",
     "text": [
      "kmeans Using Transform 5\n"
     ]
    },
    {
     "data": {
      "text/html": [],
      "text/plain": [
       "<IPython.core.display.HTML object>"
      ]
     },
     "metadata": {},
     "output_type": "display_data"
    },
    {
     "data": {
      "text/html": [
       "<style type=\"text/css\">\n",
       "</style>\n",
       "<table id=\"T_7b628\">\n",
       "  <thead>\n",
       "    <tr>\n",
       "      <th class=\"blank level0\" >&nbsp;</th>\n",
       "      <th id=\"T_7b628_level0_col0\" class=\"col_heading level0 col0\" >Silhouette</th>\n",
       "      <th id=\"T_7b628_level0_col1\" class=\"col_heading level0 col1\" >Calinski-Harabasz</th>\n",
       "      <th id=\"T_7b628_level0_col2\" class=\"col_heading level0 col2\" >Davies-Bouldin</th>\n",
       "      <th id=\"T_7b628_level0_col3\" class=\"col_heading level0 col3\" >Homogeneity</th>\n",
       "      <th id=\"T_7b628_level0_col4\" class=\"col_heading level0 col4\" >Rand Index</th>\n",
       "      <th id=\"T_7b628_level0_col5\" class=\"col_heading level0 col5\" >Completeness</th>\n",
       "    </tr>\n",
       "  </thead>\n",
       "  <tbody>\n",
       "    <tr>\n",
       "      <th id=\"T_7b628_level0_row0\" class=\"row_heading level0 row0\" >0</th>\n",
       "      <td id=\"T_7b628_row0_col0\" class=\"data row0 col0\" >0.5517</td>\n",
       "      <td id=\"T_7b628_row0_col1\" class=\"data row0 col1\" >211877.6767</td>\n",
       "      <td id=\"T_7b628_row0_col2\" class=\"data row0 col2\" >0.6193</td>\n",
       "      <td id=\"T_7b628_row0_col3\" class=\"data row0 col3\" >0</td>\n",
       "      <td id=\"T_7b628_row0_col4\" class=\"data row0 col4\" >0</td>\n",
       "      <td id=\"T_7b628_row0_col5\" class=\"data row0 col5\" >0</td>\n",
       "    </tr>\n",
       "  </tbody>\n",
       "</table>\n"
      ],
      "text/plain": [
       "<pandas.io.formats.style.Styler at 0x1e8af5450d0>"
      ]
     },
     "metadata": {},
     "output_type": "display_data"
    },
    {
     "data": {
      "text/html": [],
      "text/plain": [
       "<IPython.core.display.HTML object>"
      ]
     },
     "metadata": {},
     "output_type": "display_data"
    },
    {
     "name": "stdout",
     "output_type": "stream",
     "text": [
      "kmeans Using PCA 3\n"
     ]
    },
    {
     "data": {
      "text/html": [],
      "text/plain": [
       "<IPython.core.display.HTML object>"
      ]
     },
     "metadata": {},
     "output_type": "display_data"
    },
    {
     "data": {
      "text/html": [
       "<style type=\"text/css\">\n",
       "</style>\n",
       "<table id=\"T_c32ae\">\n",
       "  <thead>\n",
       "    <tr>\n",
       "      <th class=\"blank level0\" >&nbsp;</th>\n",
       "      <th id=\"T_c32ae_level0_col0\" class=\"col_heading level0 col0\" >Silhouette</th>\n",
       "      <th id=\"T_c32ae_level0_col1\" class=\"col_heading level0 col1\" >Calinski-Harabasz</th>\n",
       "      <th id=\"T_c32ae_level0_col2\" class=\"col_heading level0 col2\" >Davies-Bouldin</th>\n",
       "      <th id=\"T_c32ae_level0_col3\" class=\"col_heading level0 col3\" >Homogeneity</th>\n",
       "      <th id=\"T_c32ae_level0_col4\" class=\"col_heading level0 col4\" >Rand Index</th>\n",
       "      <th id=\"T_c32ae_level0_col5\" class=\"col_heading level0 col5\" >Completeness</th>\n",
       "    </tr>\n",
       "  </thead>\n",
       "  <tbody>\n",
       "    <tr>\n",
       "      <th id=\"T_c32ae_level0_row0\" class=\"row_heading level0 row0\" >0</th>\n",
       "      <td id=\"T_c32ae_row0_col0\" class=\"data row0 col0\" >0.5031</td>\n",
       "      <td id=\"T_c32ae_row0_col1\" class=\"data row0 col1\" >4729.2478</td>\n",
       "      <td id=\"T_c32ae_row0_col2\" class=\"data row0 col2\" >0.6675</td>\n",
       "      <td id=\"T_c32ae_row0_col3\" class=\"data row0 col3\" >0</td>\n",
       "      <td id=\"T_c32ae_row0_col4\" class=\"data row0 col4\" >0</td>\n",
       "      <td id=\"T_c32ae_row0_col5\" class=\"data row0 col5\" >0</td>\n",
       "    </tr>\n",
       "  </tbody>\n",
       "</table>\n"
      ],
      "text/plain": [
       "<pandas.io.formats.style.Styler at 0x1e8b1b34ad0>"
      ]
     },
     "metadata": {},
     "output_type": "display_data"
    },
    {
     "data": {
      "text/html": [],
      "text/plain": [
       "<IPython.core.display.HTML object>"
      ]
     },
     "metadata": {},
     "output_type": "display_data"
    },
    {
     "name": "stdout",
     "output_type": "stream",
     "text": [
      "kmeans Using PCA 4\n"
     ]
    },
    {
     "data": {
      "text/html": [],
      "text/plain": [
       "<IPython.core.display.HTML object>"
      ]
     },
     "metadata": {},
     "output_type": "display_data"
    },
    {
     "data": {
      "text/html": [
       "<style type=\"text/css\">\n",
       "</style>\n",
       "<table id=\"T_af2da\">\n",
       "  <thead>\n",
       "    <tr>\n",
       "      <th class=\"blank level0\" >&nbsp;</th>\n",
       "      <th id=\"T_af2da_level0_col0\" class=\"col_heading level0 col0\" >Silhouette</th>\n",
       "      <th id=\"T_af2da_level0_col1\" class=\"col_heading level0 col1\" >Calinski-Harabasz</th>\n",
       "      <th id=\"T_af2da_level0_col2\" class=\"col_heading level0 col2\" >Davies-Bouldin</th>\n",
       "      <th id=\"T_af2da_level0_col3\" class=\"col_heading level0 col3\" >Homogeneity</th>\n",
       "      <th id=\"T_af2da_level0_col4\" class=\"col_heading level0 col4\" >Rand Index</th>\n",
       "      <th id=\"T_af2da_level0_col5\" class=\"col_heading level0 col5\" >Completeness</th>\n",
       "    </tr>\n",
       "  </thead>\n",
       "  <tbody>\n",
       "    <tr>\n",
       "      <th id=\"T_af2da_level0_row0\" class=\"row_heading level0 row0\" >0</th>\n",
       "      <td id=\"T_af2da_row0_col0\" class=\"data row0 col0\" >0.4751</td>\n",
       "      <td id=\"T_af2da_row0_col1\" class=\"data row0 col1\" >4818.2827</td>\n",
       "      <td id=\"T_af2da_row0_col2\" class=\"data row0 col2\" >0.7003</td>\n",
       "      <td id=\"T_af2da_row0_col3\" class=\"data row0 col3\" >0</td>\n",
       "      <td id=\"T_af2da_row0_col4\" class=\"data row0 col4\" >0</td>\n",
       "      <td id=\"T_af2da_row0_col5\" class=\"data row0 col5\" >0</td>\n",
       "    </tr>\n",
       "  </tbody>\n",
       "</table>\n"
      ],
      "text/plain": [
       "<pandas.io.formats.style.Styler at 0x1e8afa94a50>"
      ]
     },
     "metadata": {},
     "output_type": "display_data"
    },
    {
     "data": {
      "text/html": [],
      "text/plain": [
       "<IPython.core.display.HTML object>"
      ]
     },
     "metadata": {},
     "output_type": "display_data"
    },
    {
     "name": "stdout",
     "output_type": "stream",
     "text": [
      "kmeans Using PCA 5\n"
     ]
    },
    {
     "data": {
      "text/html": [],
      "text/plain": [
       "<IPython.core.display.HTML object>"
      ]
     },
     "metadata": {},
     "output_type": "display_data"
    },
    {
     "data": {
      "text/html": [
       "<style type=\"text/css\">\n",
       "</style>\n",
       "<table id=\"T_002aa\">\n",
       "  <thead>\n",
       "    <tr>\n",
       "      <th class=\"blank level0\" >&nbsp;</th>\n",
       "      <th id=\"T_002aa_level0_col0\" class=\"col_heading level0 col0\" >Silhouette</th>\n",
       "      <th id=\"T_002aa_level0_col1\" class=\"col_heading level0 col1\" >Calinski-Harabasz</th>\n",
       "      <th id=\"T_002aa_level0_col2\" class=\"col_heading level0 col2\" >Davies-Bouldin</th>\n",
       "      <th id=\"T_002aa_level0_col3\" class=\"col_heading level0 col3\" >Homogeneity</th>\n",
       "      <th id=\"T_002aa_level0_col4\" class=\"col_heading level0 col4\" >Rand Index</th>\n",
       "      <th id=\"T_002aa_level0_col5\" class=\"col_heading level0 col5\" >Completeness</th>\n",
       "    </tr>\n",
       "  </thead>\n",
       "  <tbody>\n",
       "    <tr>\n",
       "      <th id=\"T_002aa_level0_row0\" class=\"row_heading level0 row0\" >0</th>\n",
       "      <td id=\"T_002aa_row0_col0\" class=\"data row0 col0\" >0.4312</td>\n",
       "      <td id=\"T_002aa_row0_col1\" class=\"data row0 col1\" >4599.0348</td>\n",
       "      <td id=\"T_002aa_row0_col2\" class=\"data row0 col2\" >0.7568</td>\n",
       "      <td id=\"T_002aa_row0_col3\" class=\"data row0 col3\" >0</td>\n",
       "      <td id=\"T_002aa_row0_col4\" class=\"data row0 col4\" >0</td>\n",
       "      <td id=\"T_002aa_row0_col5\" class=\"data row0 col5\" >0</td>\n",
       "    </tr>\n",
       "  </tbody>\n",
       "</table>\n"
      ],
      "text/plain": [
       "<pandas.io.formats.style.Styler at 0x1e8afa5c4d0>"
      ]
     },
     "metadata": {},
     "output_type": "display_data"
    },
    {
     "data": {
      "text/html": [],
      "text/plain": [
       "<IPython.core.display.HTML object>"
      ]
     },
     "metadata": {},
     "output_type": "display_data"
    },
    {
     "name": "stdout",
     "output_type": "stream",
     "text": [
      "kmeans Using T+N 3\n"
     ]
    },
    {
     "data": {
      "text/html": [],
      "text/plain": [
       "<IPython.core.display.HTML object>"
      ]
     },
     "metadata": {},
     "output_type": "display_data"
    },
    {
     "data": {
      "text/html": [
       "<style type=\"text/css\">\n",
       "</style>\n",
       "<table id=\"T_31c40\">\n",
       "  <thead>\n",
       "    <tr>\n",
       "      <th class=\"blank level0\" >&nbsp;</th>\n",
       "      <th id=\"T_31c40_level0_col0\" class=\"col_heading level0 col0\" >Silhouette</th>\n",
       "      <th id=\"T_31c40_level0_col1\" class=\"col_heading level0 col1\" >Calinski-Harabasz</th>\n",
       "      <th id=\"T_31c40_level0_col2\" class=\"col_heading level0 col2\" >Davies-Bouldin</th>\n",
       "      <th id=\"T_31c40_level0_col3\" class=\"col_heading level0 col3\" >Homogeneity</th>\n",
       "      <th id=\"T_31c40_level0_col4\" class=\"col_heading level0 col4\" >Rand Index</th>\n",
       "      <th id=\"T_31c40_level0_col5\" class=\"col_heading level0 col5\" >Completeness</th>\n",
       "    </tr>\n",
       "  </thead>\n",
       "  <tbody>\n",
       "    <tr>\n",
       "      <th id=\"T_31c40_level0_row0\" class=\"row_heading level0 row0\" >0</th>\n",
       "      <td id=\"T_31c40_row0_col0\" class=\"data row0 col0\" >0.1436</td>\n",
       "      <td id=\"T_31c40_row0_col1\" class=\"data row0 col1\" >195.1120</td>\n",
       "      <td id=\"T_31c40_row0_col2\" class=\"data row0 col2\" >2.5313</td>\n",
       "      <td id=\"T_31c40_row0_col3\" class=\"data row0 col3\" >0</td>\n",
       "      <td id=\"T_31c40_row0_col4\" class=\"data row0 col4\" >0</td>\n",
       "      <td id=\"T_31c40_row0_col5\" class=\"data row0 col5\" >0</td>\n",
       "    </tr>\n",
       "  </tbody>\n",
       "</table>\n"
      ],
      "text/plain": [
       "<pandas.io.formats.style.Styler at 0x1e8afa7f190>"
      ]
     },
     "metadata": {},
     "output_type": "display_data"
    },
    {
     "data": {
      "text/html": [],
      "text/plain": [
       "<IPython.core.display.HTML object>"
      ]
     },
     "metadata": {},
     "output_type": "display_data"
    },
    {
     "name": "stdout",
     "output_type": "stream",
     "text": [
      "kmeans Using T+N 4\n"
     ]
    },
    {
     "data": {
      "text/html": [],
      "text/plain": [
       "<IPython.core.display.HTML object>"
      ]
     },
     "metadata": {},
     "output_type": "display_data"
    },
    {
     "data": {
      "text/html": [
       "<style type=\"text/css\">\n",
       "</style>\n",
       "<table id=\"T_4e8cd\">\n",
       "  <thead>\n",
       "    <tr>\n",
       "      <th class=\"blank level0\" >&nbsp;</th>\n",
       "      <th id=\"T_4e8cd_level0_col0\" class=\"col_heading level0 col0\" >Silhouette</th>\n",
       "      <th id=\"T_4e8cd_level0_col1\" class=\"col_heading level0 col1\" >Calinski-Harabasz</th>\n",
       "      <th id=\"T_4e8cd_level0_col2\" class=\"col_heading level0 col2\" >Davies-Bouldin</th>\n",
       "      <th id=\"T_4e8cd_level0_col3\" class=\"col_heading level0 col3\" >Homogeneity</th>\n",
       "      <th id=\"T_4e8cd_level0_col4\" class=\"col_heading level0 col4\" >Rand Index</th>\n",
       "      <th id=\"T_4e8cd_level0_col5\" class=\"col_heading level0 col5\" >Completeness</th>\n",
       "    </tr>\n",
       "  </thead>\n",
       "  <tbody>\n",
       "    <tr>\n",
       "      <th id=\"T_4e8cd_level0_row0\" class=\"row_heading level0 row0\" >0</th>\n",
       "      <td id=\"T_4e8cd_row0_col0\" class=\"data row0 col0\" >0.1072</td>\n",
       "      <td id=\"T_4e8cd_row0_col1\" class=\"data row0 col1\" >188.5985</td>\n",
       "      <td id=\"T_4e8cd_row0_col2\" class=\"data row0 col2\" >2.1586</td>\n",
       "      <td id=\"T_4e8cd_row0_col3\" class=\"data row0 col3\" >0</td>\n",
       "      <td id=\"T_4e8cd_row0_col4\" class=\"data row0 col4\" >0</td>\n",
       "      <td id=\"T_4e8cd_row0_col5\" class=\"data row0 col5\" >0</td>\n",
       "    </tr>\n",
       "  </tbody>\n",
       "</table>\n"
      ],
      "text/plain": [
       "<pandas.io.formats.style.Styler at 0x1e8b1b40990>"
      ]
     },
     "metadata": {},
     "output_type": "display_data"
    },
    {
     "data": {
      "text/html": [],
      "text/plain": [
       "<IPython.core.display.HTML object>"
      ]
     },
     "metadata": {},
     "output_type": "display_data"
    },
    {
     "name": "stdout",
     "output_type": "stream",
     "text": [
      "kmeans Using T+N 5\n"
     ]
    },
    {
     "data": {
      "text/html": [],
      "text/plain": [
       "<IPython.core.display.HTML object>"
      ]
     },
     "metadata": {},
     "output_type": "display_data"
    },
    {
     "data": {
      "text/html": [
       "<style type=\"text/css\">\n",
       "</style>\n",
       "<table id=\"T_d7146\">\n",
       "  <thead>\n",
       "    <tr>\n",
       "      <th class=\"blank level0\" >&nbsp;</th>\n",
       "      <th id=\"T_d7146_level0_col0\" class=\"col_heading level0 col0\" >Silhouette</th>\n",
       "      <th id=\"T_d7146_level0_col1\" class=\"col_heading level0 col1\" >Calinski-Harabasz</th>\n",
       "      <th id=\"T_d7146_level0_col2\" class=\"col_heading level0 col2\" >Davies-Bouldin</th>\n",
       "      <th id=\"T_d7146_level0_col3\" class=\"col_heading level0 col3\" >Homogeneity</th>\n",
       "      <th id=\"T_d7146_level0_col4\" class=\"col_heading level0 col4\" >Rand Index</th>\n",
       "      <th id=\"T_d7146_level0_col5\" class=\"col_heading level0 col5\" >Completeness</th>\n",
       "    </tr>\n",
       "  </thead>\n",
       "  <tbody>\n",
       "    <tr>\n",
       "      <th id=\"T_d7146_level0_row0\" class=\"row_heading level0 row0\" >0</th>\n",
       "      <td id=\"T_d7146_row0_col0\" class=\"data row0 col0\" >0.1013</td>\n",
       "      <td id=\"T_d7146_row0_col1\" class=\"data row0 col1\" >181.9901</td>\n",
       "      <td id=\"T_d7146_row0_col2\" class=\"data row0 col2\" >2.0434</td>\n",
       "      <td id=\"T_d7146_row0_col3\" class=\"data row0 col3\" >0</td>\n",
       "      <td id=\"T_d7146_row0_col4\" class=\"data row0 col4\" >0</td>\n",
       "      <td id=\"T_d7146_row0_col5\" class=\"data row0 col5\" >0</td>\n",
       "    </tr>\n",
       "  </tbody>\n",
       "</table>\n"
      ],
      "text/plain": [
       "<pandas.io.formats.style.Styler at 0x1e8b1b36010>"
      ]
     },
     "metadata": {},
     "output_type": "display_data"
    },
    {
     "data": {
      "text/html": [],
      "text/plain": [
       "<IPython.core.display.HTML object>"
      ]
     },
     "metadata": {},
     "output_type": "display_data"
    },
    {
     "name": "stdout",
     "output_type": "stream",
     "text": [
      "kmeans Using T+N+PCA 3\n"
     ]
    },
    {
     "data": {
      "text/html": [],
      "text/plain": [
       "<IPython.core.display.HTML object>"
      ]
     },
     "metadata": {},
     "output_type": "display_data"
    },
    {
     "data": {
      "text/html": [
       "<style type=\"text/css\">\n",
       "</style>\n",
       "<table id=\"T_2effc\">\n",
       "  <thead>\n",
       "    <tr>\n",
       "      <th class=\"blank level0\" >&nbsp;</th>\n",
       "      <th id=\"T_2effc_level0_col0\" class=\"col_heading level0 col0\" >Silhouette</th>\n",
       "      <th id=\"T_2effc_level0_col1\" class=\"col_heading level0 col1\" >Calinski-Harabasz</th>\n",
       "      <th id=\"T_2effc_level0_col2\" class=\"col_heading level0 col2\" >Davies-Bouldin</th>\n",
       "      <th id=\"T_2effc_level0_col3\" class=\"col_heading level0 col3\" >Homogeneity</th>\n",
       "      <th id=\"T_2effc_level0_col4\" class=\"col_heading level0 col4\" >Rand Index</th>\n",
       "      <th id=\"T_2effc_level0_col5\" class=\"col_heading level0 col5\" >Completeness</th>\n",
       "    </tr>\n",
       "  </thead>\n",
       "  <tbody>\n",
       "    <tr>\n",
       "      <th id=\"T_2effc_level0_row0\" class=\"row_heading level0 row0\" >0</th>\n",
       "      <td id=\"T_2effc_row0_col0\" class=\"data row0 col0\" >0.1431</td>\n",
       "      <td id=\"T_2effc_row0_col1\" class=\"data row0 col1\" >195.1210</td>\n",
       "      <td id=\"T_2effc_row0_col2\" class=\"data row0 col2\" >2.5347</td>\n",
       "      <td id=\"T_2effc_row0_col3\" class=\"data row0 col3\" >0</td>\n",
       "      <td id=\"T_2effc_row0_col4\" class=\"data row0 col4\" >0</td>\n",
       "      <td id=\"T_2effc_row0_col5\" class=\"data row0 col5\" >0</td>\n",
       "    </tr>\n",
       "  </tbody>\n",
       "</table>\n"
      ],
      "text/plain": [
       "<pandas.io.formats.style.Styler at 0x1e8b1b64a90>"
      ]
     },
     "metadata": {},
     "output_type": "display_data"
    },
    {
     "data": {
      "text/html": [],
      "text/plain": [
       "<IPython.core.display.HTML object>"
      ]
     },
     "metadata": {},
     "output_type": "display_data"
    },
    {
     "name": "stdout",
     "output_type": "stream",
     "text": [
      "kmeans Using T+N+PCA 4\n"
     ]
    },
    {
     "data": {
      "text/html": [],
      "text/plain": [
       "<IPython.core.display.HTML object>"
      ]
     },
     "metadata": {},
     "output_type": "display_data"
    },
    {
     "data": {
      "text/html": [
       "<style type=\"text/css\">\n",
       "</style>\n",
       "<table id=\"T_b3af6\">\n",
       "  <thead>\n",
       "    <tr>\n",
       "      <th class=\"blank level0\" >&nbsp;</th>\n",
       "      <th id=\"T_b3af6_level0_col0\" class=\"col_heading level0 col0\" >Silhouette</th>\n",
       "      <th id=\"T_b3af6_level0_col1\" class=\"col_heading level0 col1\" >Calinski-Harabasz</th>\n",
       "      <th id=\"T_b3af6_level0_col2\" class=\"col_heading level0 col2\" >Davies-Bouldin</th>\n",
       "      <th id=\"T_b3af6_level0_col3\" class=\"col_heading level0 col3\" >Homogeneity</th>\n",
       "      <th id=\"T_b3af6_level0_col4\" class=\"col_heading level0 col4\" >Rand Index</th>\n",
       "      <th id=\"T_b3af6_level0_col5\" class=\"col_heading level0 col5\" >Completeness</th>\n",
       "    </tr>\n",
       "  </thead>\n",
       "  <tbody>\n",
       "    <tr>\n",
       "      <th id=\"T_b3af6_level0_row0\" class=\"row_heading level0 row0\" >0</th>\n",
       "      <td id=\"T_b3af6_row0_col0\" class=\"data row0 col0\" >0.0961</td>\n",
       "      <td id=\"T_b3af6_row0_col1\" class=\"data row0 col1\" >186.9185</td>\n",
       "      <td id=\"T_b3af6_row0_col2\" class=\"data row0 col2\" >2.0050</td>\n",
       "      <td id=\"T_b3af6_row0_col3\" class=\"data row0 col3\" >0</td>\n",
       "      <td id=\"T_b3af6_row0_col4\" class=\"data row0 col4\" >0</td>\n",
       "      <td id=\"T_b3af6_row0_col5\" class=\"data row0 col5\" >0</td>\n",
       "    </tr>\n",
       "  </tbody>\n",
       "</table>\n"
      ],
      "text/plain": [
       "<pandas.io.formats.style.Styler at 0x1e8b1b4b810>"
      ]
     },
     "metadata": {},
     "output_type": "display_data"
    },
    {
     "data": {
      "text/html": [],
      "text/plain": [
       "<IPython.core.display.HTML object>"
      ]
     },
     "metadata": {},
     "output_type": "display_data"
    },
    {
     "name": "stdout",
     "output_type": "stream",
     "text": [
      "kmeans Using T+N+PCA 5\n"
     ]
    },
    {
     "data": {
      "text/html": [],
      "text/plain": [
       "<IPython.core.display.HTML object>"
      ]
     },
     "metadata": {},
     "output_type": "display_data"
    },
    {
     "data": {
      "text/html": [
       "<style type=\"text/css\">\n",
       "</style>\n",
       "<table id=\"T_3a414\">\n",
       "  <thead>\n",
       "    <tr>\n",
       "      <th class=\"blank level0\" >&nbsp;</th>\n",
       "      <th id=\"T_3a414_level0_col0\" class=\"col_heading level0 col0\" >Silhouette</th>\n",
       "      <th id=\"T_3a414_level0_col1\" class=\"col_heading level0 col1\" >Calinski-Harabasz</th>\n",
       "      <th id=\"T_3a414_level0_col2\" class=\"col_heading level0 col2\" >Davies-Bouldin</th>\n",
       "      <th id=\"T_3a414_level0_col3\" class=\"col_heading level0 col3\" >Homogeneity</th>\n",
       "      <th id=\"T_3a414_level0_col4\" class=\"col_heading level0 col4\" >Rand Index</th>\n",
       "      <th id=\"T_3a414_level0_col5\" class=\"col_heading level0 col5\" >Completeness</th>\n",
       "    </tr>\n",
       "  </thead>\n",
       "  <tbody>\n",
       "    <tr>\n",
       "      <th id=\"T_3a414_level0_row0\" class=\"row_heading level0 row0\" >0</th>\n",
       "      <td id=\"T_3a414_row0_col0\" class=\"data row0 col0\" >0.1115</td>\n",
       "      <td id=\"T_3a414_row0_col1\" class=\"data row0 col1\" >184.0206</td>\n",
       "      <td id=\"T_3a414_row0_col2\" class=\"data row0 col2\" >2.0155</td>\n",
       "      <td id=\"T_3a414_row0_col3\" class=\"data row0 col3\" >0</td>\n",
       "      <td id=\"T_3a414_row0_col4\" class=\"data row0 col4\" >0</td>\n",
       "      <td id=\"T_3a414_row0_col5\" class=\"data row0 col5\" >0</td>\n",
       "    </tr>\n",
       "  </tbody>\n",
       "</table>\n"
      ],
      "text/plain": [
       "<pandas.io.formats.style.Styler at 0x1e8afa4fdd0>"
      ]
     },
     "metadata": {},
     "output_type": "display_data"
    },
    {
     "data": {
      "text/html": [],
      "text/plain": [
       "<IPython.core.display.HTML object>"
      ]
     },
     "metadata": {},
     "output_type": "display_data"
    },
    {
     "name": "stdout",
     "output_type": "stream",
     "text": [
      "hclust No Data Preprocessing 3\n"
     ]
    },
    {
     "data": {
      "text/html": [],
      "text/plain": [
       "<IPython.core.display.HTML object>"
      ]
     },
     "metadata": {},
     "output_type": "display_data"
    },
    {
     "data": {
      "text/html": [
       "<style type=\"text/css\">\n",
       "</style>\n",
       "<table id=\"T_b109f\">\n",
       "  <thead>\n",
       "    <tr>\n",
       "      <th class=\"blank level0\" >&nbsp;</th>\n",
       "      <th id=\"T_b109f_level0_col0\" class=\"col_heading level0 col0\" >Silhouette</th>\n",
       "      <th id=\"T_b109f_level0_col1\" class=\"col_heading level0 col1\" >Calinski-Harabasz</th>\n",
       "      <th id=\"T_b109f_level0_col2\" class=\"col_heading level0 col2\" >Davies-Bouldin</th>\n",
       "      <th id=\"T_b109f_level0_col3\" class=\"col_heading level0 col3\" >Homogeneity</th>\n",
       "      <th id=\"T_b109f_level0_col4\" class=\"col_heading level0 col4\" >Rand Index</th>\n",
       "      <th id=\"T_b109f_level0_col5\" class=\"col_heading level0 col5\" >Completeness</th>\n",
       "    </tr>\n",
       "  </thead>\n",
       "  <tbody>\n",
       "    <tr>\n",
       "      <th id=\"T_b109f_level0_row0\" class=\"row_heading level0 row0\" >0</th>\n",
       "      <td id=\"T_b109f_row0_col0\" class=\"data row0 col0\" >0.4757</td>\n",
       "      <td id=\"T_b109f_row0_col1\" class=\"data row0 col1\" >4302.4911</td>\n",
       "      <td id=\"T_b109f_row0_col2\" class=\"data row0 col2\" >0.7001</td>\n",
       "      <td id=\"T_b109f_row0_col3\" class=\"data row0 col3\" >0</td>\n",
       "      <td id=\"T_b109f_row0_col4\" class=\"data row0 col4\" >0</td>\n",
       "      <td id=\"T_b109f_row0_col5\" class=\"data row0 col5\" >0</td>\n",
       "    </tr>\n",
       "  </tbody>\n",
       "</table>\n"
      ],
      "text/plain": [
       "<pandas.io.formats.style.Styler at 0x1e8b1b6e8d0>"
      ]
     },
     "metadata": {},
     "output_type": "display_data"
    },
    {
     "data": {
      "text/html": [],
      "text/plain": [
       "<IPython.core.display.HTML object>"
      ]
     },
     "metadata": {},
     "output_type": "display_data"
    },
    {
     "name": "stdout",
     "output_type": "stream",
     "text": [
      "hclust No Data Preprocessing 4\n"
     ]
    },
    {
     "data": {
      "text/html": [],
      "text/plain": [
       "<IPython.core.display.HTML object>"
      ]
     },
     "metadata": {},
     "output_type": "display_data"
    },
    {
     "data": {
      "text/html": [
       "<style type=\"text/css\">\n",
       "</style>\n",
       "<table id=\"T_4a69f\">\n",
       "  <thead>\n",
       "    <tr>\n",
       "      <th class=\"blank level0\" >&nbsp;</th>\n",
       "      <th id=\"T_4a69f_level0_col0\" class=\"col_heading level0 col0\" >Silhouette</th>\n",
       "      <th id=\"T_4a69f_level0_col1\" class=\"col_heading level0 col1\" >Calinski-Harabasz</th>\n",
       "      <th id=\"T_4a69f_level0_col2\" class=\"col_heading level0 col2\" >Davies-Bouldin</th>\n",
       "      <th id=\"T_4a69f_level0_col3\" class=\"col_heading level0 col3\" >Homogeneity</th>\n",
       "      <th id=\"T_4a69f_level0_col4\" class=\"col_heading level0 col4\" >Rand Index</th>\n",
       "      <th id=\"T_4a69f_level0_col5\" class=\"col_heading level0 col5\" >Completeness</th>\n",
       "    </tr>\n",
       "  </thead>\n",
       "  <tbody>\n",
       "    <tr>\n",
       "      <th id=\"T_4a69f_level0_row0\" class=\"row_heading level0 row0\" >0</th>\n",
       "      <td id=\"T_4a69f_row0_col0\" class=\"data row0 col0\" >0.4675</td>\n",
       "      <td id=\"T_4a69f_row0_col1\" class=\"data row0 col1\" >4346.0394</td>\n",
       "      <td id=\"T_4a69f_row0_col2\" class=\"data row0 col2\" >0.6670</td>\n",
       "      <td id=\"T_4a69f_row0_col3\" class=\"data row0 col3\" >0</td>\n",
       "      <td id=\"T_4a69f_row0_col4\" class=\"data row0 col4\" >0</td>\n",
       "      <td id=\"T_4a69f_row0_col5\" class=\"data row0 col5\" >0</td>\n",
       "    </tr>\n",
       "  </tbody>\n",
       "</table>\n"
      ],
      "text/plain": [
       "<pandas.io.formats.style.Styler at 0x1e8afa84e90>"
      ]
     },
     "metadata": {},
     "output_type": "display_data"
    },
    {
     "data": {
      "text/html": [],
      "text/plain": [
       "<IPython.core.display.HTML object>"
      ]
     },
     "metadata": {},
     "output_type": "display_data"
    },
    {
     "name": "stdout",
     "output_type": "stream",
     "text": [
      "hclust No Data Preprocessing 5\n"
     ]
    },
    {
     "data": {
      "text/html": [],
      "text/plain": [
       "<IPython.core.display.HTML object>"
      ]
     },
     "metadata": {},
     "output_type": "display_data"
    },
    {
     "data": {
      "text/html": [
       "<style type=\"text/css\">\n",
       "</style>\n",
       "<table id=\"T_fd9a0\">\n",
       "  <thead>\n",
       "    <tr>\n",
       "      <th class=\"blank level0\" >&nbsp;</th>\n",
       "      <th id=\"T_fd9a0_level0_col0\" class=\"col_heading level0 col0\" >Silhouette</th>\n",
       "      <th id=\"T_fd9a0_level0_col1\" class=\"col_heading level0 col1\" >Calinski-Harabasz</th>\n",
       "      <th id=\"T_fd9a0_level0_col2\" class=\"col_heading level0 col2\" >Davies-Bouldin</th>\n",
       "      <th id=\"T_fd9a0_level0_col3\" class=\"col_heading level0 col3\" >Homogeneity</th>\n",
       "      <th id=\"T_fd9a0_level0_col4\" class=\"col_heading level0 col4\" >Rand Index</th>\n",
       "      <th id=\"T_fd9a0_level0_col5\" class=\"col_heading level0 col5\" >Completeness</th>\n",
       "    </tr>\n",
       "  </thead>\n",
       "  <tbody>\n",
       "    <tr>\n",
       "      <th id=\"T_fd9a0_level0_row0\" class=\"row_heading level0 row0\" >0</th>\n",
       "      <td id=\"T_fd9a0_row0_col0\" class=\"data row0 col0\" >0.4151</td>\n",
       "      <td id=\"T_fd9a0_row0_col1\" class=\"data row0 col1\" >4114.6325</td>\n",
       "      <td id=\"T_fd9a0_row0_col2\" class=\"data row0 col2\" >0.7314</td>\n",
       "      <td id=\"T_fd9a0_row0_col3\" class=\"data row0 col3\" >0</td>\n",
       "      <td id=\"T_fd9a0_row0_col4\" class=\"data row0 col4\" >0</td>\n",
       "      <td id=\"T_fd9a0_row0_col5\" class=\"data row0 col5\" >0</td>\n",
       "    </tr>\n",
       "  </tbody>\n",
       "</table>\n"
      ],
      "text/plain": [
       "<pandas.io.formats.style.Styler at 0x1e8b1b20d50>"
      ]
     },
     "metadata": {},
     "output_type": "display_data"
    },
    {
     "data": {
      "text/html": [],
      "text/plain": [
       "<IPython.core.display.HTML object>"
      ]
     },
     "metadata": {},
     "output_type": "display_data"
    },
    {
     "name": "stdout",
     "output_type": "stream",
     "text": [
      "hclust Using Normalization 3\n"
     ]
    },
    {
     "data": {
      "text/html": [],
      "text/plain": [
       "<IPython.core.display.HTML object>"
      ]
     },
     "metadata": {},
     "output_type": "display_data"
    },
    {
     "data": {
      "text/html": [
       "<style type=\"text/css\">\n",
       "</style>\n",
       "<table id=\"T_0d35e\">\n",
       "  <thead>\n",
       "    <tr>\n",
       "      <th class=\"blank level0\" >&nbsp;</th>\n",
       "      <th id=\"T_0d35e_level0_col0\" class=\"col_heading level0 col0\" >Silhouette</th>\n",
       "      <th id=\"T_0d35e_level0_col1\" class=\"col_heading level0 col1\" >Calinski-Harabasz</th>\n",
       "      <th id=\"T_0d35e_level0_col2\" class=\"col_heading level0 col2\" >Davies-Bouldin</th>\n",
       "      <th id=\"T_0d35e_level0_col3\" class=\"col_heading level0 col3\" >Homogeneity</th>\n",
       "      <th id=\"T_0d35e_level0_col4\" class=\"col_heading level0 col4\" >Rand Index</th>\n",
       "      <th id=\"T_0d35e_level0_col5\" class=\"col_heading level0 col5\" >Completeness</th>\n",
       "    </tr>\n",
       "  </thead>\n",
       "  <tbody>\n",
       "    <tr>\n",
       "      <th id=\"T_0d35e_level0_row0\" class=\"row_heading level0 row0\" >0</th>\n",
       "      <td id=\"T_0d35e_row0_col0\" class=\"data row0 col0\" >0.1477</td>\n",
       "      <td id=\"T_0d35e_row0_col1\" class=\"data row0 col1\" >172.5966</td>\n",
       "      <td id=\"T_0d35e_row0_col2\" class=\"data row0 col2\" >2.6492</td>\n",
       "      <td id=\"T_0d35e_row0_col3\" class=\"data row0 col3\" >0</td>\n",
       "      <td id=\"T_0d35e_row0_col4\" class=\"data row0 col4\" >0</td>\n",
       "      <td id=\"T_0d35e_row0_col5\" class=\"data row0 col5\" >0</td>\n",
       "    </tr>\n",
       "  </tbody>\n",
       "</table>\n"
      ],
      "text/plain": [
       "<pandas.io.formats.style.Styler at 0x1e8b1b6d4d0>"
      ]
     },
     "metadata": {},
     "output_type": "display_data"
    },
    {
     "data": {
      "text/html": [],
      "text/plain": [
       "<IPython.core.display.HTML object>"
      ]
     },
     "metadata": {},
     "output_type": "display_data"
    },
    {
     "name": "stdout",
     "output_type": "stream",
     "text": [
      "hclust Using Normalization 4\n"
     ]
    },
    {
     "data": {
      "text/html": [],
      "text/plain": [
       "<IPython.core.display.HTML object>"
      ]
     },
     "metadata": {},
     "output_type": "display_data"
    },
    {
     "data": {
      "text/html": [
       "<style type=\"text/css\">\n",
       "</style>\n",
       "<table id=\"T_5aa5f\">\n",
       "  <thead>\n",
       "    <tr>\n",
       "      <th class=\"blank level0\" >&nbsp;</th>\n",
       "      <th id=\"T_5aa5f_level0_col0\" class=\"col_heading level0 col0\" >Silhouette</th>\n",
       "      <th id=\"T_5aa5f_level0_col1\" class=\"col_heading level0 col1\" >Calinski-Harabasz</th>\n",
       "      <th id=\"T_5aa5f_level0_col2\" class=\"col_heading level0 col2\" >Davies-Bouldin</th>\n",
       "      <th id=\"T_5aa5f_level0_col3\" class=\"col_heading level0 col3\" >Homogeneity</th>\n",
       "      <th id=\"T_5aa5f_level0_col4\" class=\"col_heading level0 col4\" >Rand Index</th>\n",
       "      <th id=\"T_5aa5f_level0_col5\" class=\"col_heading level0 col5\" >Completeness</th>\n",
       "    </tr>\n",
       "  </thead>\n",
       "  <tbody>\n",
       "    <tr>\n",
       "      <th id=\"T_5aa5f_level0_row0\" class=\"row_heading level0 row0\" >0</th>\n",
       "      <td id=\"T_5aa5f_row0_col0\" class=\"data row0 col0\" >0.1529</td>\n",
       "      <td id=\"T_5aa5f_row0_col1\" class=\"data row0 col1\" >170.9690</td>\n",
       "      <td id=\"T_5aa5f_row0_col2\" class=\"data row0 col2\" >2.2802</td>\n",
       "      <td id=\"T_5aa5f_row0_col3\" class=\"data row0 col3\" >0</td>\n",
       "      <td id=\"T_5aa5f_row0_col4\" class=\"data row0 col4\" >0</td>\n",
       "      <td id=\"T_5aa5f_row0_col5\" class=\"data row0 col5\" >0</td>\n",
       "    </tr>\n",
       "  </tbody>\n",
       "</table>\n"
      ],
      "text/plain": [
       "<pandas.io.formats.style.Styler at 0x1e8b1b26f10>"
      ]
     },
     "metadata": {},
     "output_type": "display_data"
    },
    {
     "data": {
      "text/html": [],
      "text/plain": [
       "<IPython.core.display.HTML object>"
      ]
     },
     "metadata": {},
     "output_type": "display_data"
    },
    {
     "name": "stdout",
     "output_type": "stream",
     "text": [
      "hclust Using Normalization 5\n"
     ]
    },
    {
     "data": {
      "text/html": [],
      "text/plain": [
       "<IPython.core.display.HTML object>"
      ]
     },
     "metadata": {},
     "output_type": "display_data"
    },
    {
     "data": {
      "text/html": [
       "<style type=\"text/css\">\n",
       "</style>\n",
       "<table id=\"T_b583f\">\n",
       "  <thead>\n",
       "    <tr>\n",
       "      <th class=\"blank level0\" >&nbsp;</th>\n",
       "      <th id=\"T_b583f_level0_col0\" class=\"col_heading level0 col0\" >Silhouette</th>\n",
       "      <th id=\"T_b583f_level0_col1\" class=\"col_heading level0 col1\" >Calinski-Harabasz</th>\n",
       "      <th id=\"T_b583f_level0_col2\" class=\"col_heading level0 col2\" >Davies-Bouldin</th>\n",
       "      <th id=\"T_b583f_level0_col3\" class=\"col_heading level0 col3\" >Homogeneity</th>\n",
       "      <th id=\"T_b583f_level0_col4\" class=\"col_heading level0 col4\" >Rand Index</th>\n",
       "      <th id=\"T_b583f_level0_col5\" class=\"col_heading level0 col5\" >Completeness</th>\n",
       "    </tr>\n",
       "  </thead>\n",
       "  <tbody>\n",
       "    <tr>\n",
       "      <th id=\"T_b583f_level0_row0\" class=\"row_heading level0 row0\" >0</th>\n",
       "      <td id=\"T_b583f_row0_col0\" class=\"data row0 col0\" >0.1596</td>\n",
       "      <td id=\"T_b583f_row0_col1\" class=\"data row0 col1\" >174.4808</td>\n",
       "      <td id=\"T_b583f_row0_col2\" class=\"data row0 col2\" >1.8468</td>\n",
       "      <td id=\"T_b583f_row0_col3\" class=\"data row0 col3\" >0</td>\n",
       "      <td id=\"T_b583f_row0_col4\" class=\"data row0 col4\" >0</td>\n",
       "      <td id=\"T_b583f_row0_col5\" class=\"data row0 col5\" >0</td>\n",
       "    </tr>\n",
       "  </tbody>\n",
       "</table>\n"
      ],
      "text/plain": [
       "<pandas.io.formats.style.Styler at 0x1e8b1b191d0>"
      ]
     },
     "metadata": {},
     "output_type": "display_data"
    },
    {
     "data": {
      "text/html": [],
      "text/plain": [
       "<IPython.core.display.HTML object>"
      ]
     },
     "metadata": {},
     "output_type": "display_data"
    },
    {
     "name": "stdout",
     "output_type": "stream",
     "text": [
      "hclust Using Transform 3\n"
     ]
    },
    {
     "data": {
      "text/html": [],
      "text/plain": [
       "<IPython.core.display.HTML object>"
      ]
     },
     "metadata": {},
     "output_type": "display_data"
    },
    {
     "data": {
      "text/html": [
       "<style type=\"text/css\">\n",
       "</style>\n",
       "<table id=\"T_6601a\">\n",
       "  <thead>\n",
       "    <tr>\n",
       "      <th class=\"blank level0\" >&nbsp;</th>\n",
       "      <th id=\"T_6601a_level0_col0\" class=\"col_heading level0 col0\" >Silhouette</th>\n",
       "      <th id=\"T_6601a_level0_col1\" class=\"col_heading level0 col1\" >Calinski-Harabasz</th>\n",
       "      <th id=\"T_6601a_level0_col2\" class=\"col_heading level0 col2\" >Davies-Bouldin</th>\n",
       "      <th id=\"T_6601a_level0_col3\" class=\"col_heading level0 col3\" >Homogeneity</th>\n",
       "      <th id=\"T_6601a_level0_col4\" class=\"col_heading level0 col4\" >Rand Index</th>\n",
       "      <th id=\"T_6601a_level0_col5\" class=\"col_heading level0 col5\" >Completeness</th>\n",
       "    </tr>\n",
       "  </thead>\n",
       "  <tbody>\n",
       "    <tr>\n",
       "      <th id=\"T_6601a_level0_row0\" class=\"row_heading level0 row0\" >0</th>\n",
       "      <td id=\"T_6601a_row0_col0\" class=\"data row0 col0\" >0.6937</td>\n",
       "      <td id=\"T_6601a_row0_col1\" class=\"data row0 col1\" >219757.5847</td>\n",
       "      <td id=\"T_6601a_row0_col2\" class=\"data row0 col2\" >0.4166</td>\n",
       "      <td id=\"T_6601a_row0_col3\" class=\"data row0 col3\" >0</td>\n",
       "      <td id=\"T_6601a_row0_col4\" class=\"data row0 col4\" >0</td>\n",
       "      <td id=\"T_6601a_row0_col5\" class=\"data row0 col5\" >0</td>\n",
       "    </tr>\n",
       "  </tbody>\n",
       "</table>\n"
      ],
      "text/plain": [
       "<pandas.io.formats.style.Styler at 0x1e8b1bafbd0>"
      ]
     },
     "metadata": {},
     "output_type": "display_data"
    },
    {
     "data": {
      "text/html": [],
      "text/plain": [
       "<IPython.core.display.HTML object>"
      ]
     },
     "metadata": {},
     "output_type": "display_data"
    },
    {
     "name": "stdout",
     "output_type": "stream",
     "text": [
      "hclust Using Transform 4\n"
     ]
    },
    {
     "data": {
      "text/html": [],
      "text/plain": [
       "<IPython.core.display.HTML object>"
      ]
     },
     "metadata": {},
     "output_type": "display_data"
    },
    {
     "data": {
      "text/html": [
       "<style type=\"text/css\">\n",
       "</style>\n",
       "<table id=\"T_cd16e\">\n",
       "  <thead>\n",
       "    <tr>\n",
       "      <th class=\"blank level0\" >&nbsp;</th>\n",
       "      <th id=\"T_cd16e_level0_col0\" class=\"col_heading level0 col0\" >Silhouette</th>\n",
       "      <th id=\"T_cd16e_level0_col1\" class=\"col_heading level0 col1\" >Calinski-Harabasz</th>\n",
       "      <th id=\"T_cd16e_level0_col2\" class=\"col_heading level0 col2\" >Davies-Bouldin</th>\n",
       "      <th id=\"T_cd16e_level0_col3\" class=\"col_heading level0 col3\" >Homogeneity</th>\n",
       "      <th id=\"T_cd16e_level0_col4\" class=\"col_heading level0 col4\" >Rand Index</th>\n",
       "      <th id=\"T_cd16e_level0_col5\" class=\"col_heading level0 col5\" >Completeness</th>\n",
       "    </tr>\n",
       "  </thead>\n",
       "  <tbody>\n",
       "    <tr>\n",
       "      <th id=\"T_cd16e_level0_row0\" class=\"row_heading level0 row0\" >0</th>\n",
       "      <td id=\"T_cd16e_row0_col0\" class=\"data row0 col0\" >0.5923</td>\n",
       "      <td id=\"T_cd16e_row0_col1\" class=\"data row0 col1\" >199358.3515</td>\n",
       "      <td id=\"T_cd16e_row0_col2\" class=\"data row0 col2\" >0.4885</td>\n",
       "      <td id=\"T_cd16e_row0_col3\" class=\"data row0 col3\" >0</td>\n",
       "      <td id=\"T_cd16e_row0_col4\" class=\"data row0 col4\" >0</td>\n",
       "      <td id=\"T_cd16e_row0_col5\" class=\"data row0 col5\" >0</td>\n",
       "    </tr>\n",
       "  </tbody>\n",
       "</table>\n"
      ],
      "text/plain": [
       "<pandas.io.formats.style.Styler at 0x1e8b1b260d0>"
      ]
     },
     "metadata": {},
     "output_type": "display_data"
    },
    {
     "data": {
      "text/html": [],
      "text/plain": [
       "<IPython.core.display.HTML object>"
      ]
     },
     "metadata": {},
     "output_type": "display_data"
    },
    {
     "name": "stdout",
     "output_type": "stream",
     "text": [
      "hclust Using Transform 5\n"
     ]
    },
    {
     "data": {
      "text/html": [],
      "text/plain": [
       "<IPython.core.display.HTML object>"
      ]
     },
     "metadata": {},
     "output_type": "display_data"
    },
    {
     "data": {
      "text/html": [
       "<style type=\"text/css\">\n",
       "</style>\n",
       "<table id=\"T_33399\">\n",
       "  <thead>\n",
       "    <tr>\n",
       "      <th class=\"blank level0\" >&nbsp;</th>\n",
       "      <th id=\"T_33399_level0_col0\" class=\"col_heading level0 col0\" >Silhouette</th>\n",
       "      <th id=\"T_33399_level0_col1\" class=\"col_heading level0 col1\" >Calinski-Harabasz</th>\n",
       "      <th id=\"T_33399_level0_col2\" class=\"col_heading level0 col2\" >Davies-Bouldin</th>\n",
       "      <th id=\"T_33399_level0_col3\" class=\"col_heading level0 col3\" >Homogeneity</th>\n",
       "      <th id=\"T_33399_level0_col4\" class=\"col_heading level0 col4\" >Rand Index</th>\n",
       "      <th id=\"T_33399_level0_col5\" class=\"col_heading level0 col5\" >Completeness</th>\n",
       "    </tr>\n",
       "  </thead>\n",
       "  <tbody>\n",
       "    <tr>\n",
       "      <th id=\"T_33399_level0_row0\" class=\"row_heading level0 row0\" >0</th>\n",
       "      <td id=\"T_33399_row0_col0\" class=\"data row0 col0\" >0.5548</td>\n",
       "      <td id=\"T_33399_row0_col1\" class=\"data row0 col1\" >211263.2927</td>\n",
       "      <td id=\"T_33399_row0_col2\" class=\"data row0 col2\" >0.6107</td>\n",
       "      <td id=\"T_33399_row0_col3\" class=\"data row0 col3\" >0</td>\n",
       "      <td id=\"T_33399_row0_col4\" class=\"data row0 col4\" >0</td>\n",
       "      <td id=\"T_33399_row0_col5\" class=\"data row0 col5\" >0</td>\n",
       "    </tr>\n",
       "  </tbody>\n",
       "</table>\n"
      ],
      "text/plain": [
       "<pandas.io.formats.style.Styler at 0x1e8afa94550>"
      ]
     },
     "metadata": {},
     "output_type": "display_data"
    },
    {
     "data": {
      "text/html": [],
      "text/plain": [
       "<IPython.core.display.HTML object>"
      ]
     },
     "metadata": {},
     "output_type": "display_data"
    },
    {
     "name": "stdout",
     "output_type": "stream",
     "text": [
      "hclust Using PCA 3\n"
     ]
    },
    {
     "data": {
      "text/html": [],
      "text/plain": [
       "<IPython.core.display.HTML object>"
      ]
     },
     "metadata": {},
     "output_type": "display_data"
    },
    {
     "data": {
      "text/html": [
       "<style type=\"text/css\">\n",
       "</style>\n",
       "<table id=\"T_b62b5\">\n",
       "  <thead>\n",
       "    <tr>\n",
       "      <th class=\"blank level0\" >&nbsp;</th>\n",
       "      <th id=\"T_b62b5_level0_col0\" class=\"col_heading level0 col0\" >Silhouette</th>\n",
       "      <th id=\"T_b62b5_level0_col1\" class=\"col_heading level0 col1\" >Calinski-Harabasz</th>\n",
       "      <th id=\"T_b62b5_level0_col2\" class=\"col_heading level0 col2\" >Davies-Bouldin</th>\n",
       "      <th id=\"T_b62b5_level0_col3\" class=\"col_heading level0 col3\" >Homogeneity</th>\n",
       "      <th id=\"T_b62b5_level0_col4\" class=\"col_heading level0 col4\" >Rand Index</th>\n",
       "      <th id=\"T_b62b5_level0_col5\" class=\"col_heading level0 col5\" >Completeness</th>\n",
       "    </tr>\n",
       "  </thead>\n",
       "  <tbody>\n",
       "    <tr>\n",
       "      <th id=\"T_b62b5_level0_row0\" class=\"row_heading level0 row0\" >0</th>\n",
       "      <td id=\"T_b62b5_row0_col0\" class=\"data row0 col0\" >0.4757</td>\n",
       "      <td id=\"T_b62b5_row0_col1\" class=\"data row0 col1\" >4302.4942</td>\n",
       "      <td id=\"T_b62b5_row0_col2\" class=\"data row0 col2\" >0.7001</td>\n",
       "      <td id=\"T_b62b5_row0_col3\" class=\"data row0 col3\" >0</td>\n",
       "      <td id=\"T_b62b5_row0_col4\" class=\"data row0 col4\" >0</td>\n",
       "      <td id=\"T_b62b5_row0_col5\" class=\"data row0 col5\" >0</td>\n",
       "    </tr>\n",
       "  </tbody>\n",
       "</table>\n"
      ],
      "text/plain": [
       "<pandas.io.formats.style.Styler at 0x1e8b1b1a5d0>"
      ]
     },
     "metadata": {},
     "output_type": "display_data"
    },
    {
     "data": {
      "text/html": [],
      "text/plain": [
       "<IPython.core.display.HTML object>"
      ]
     },
     "metadata": {},
     "output_type": "display_data"
    },
    {
     "name": "stdout",
     "output_type": "stream",
     "text": [
      "hclust Using PCA 4\n"
     ]
    },
    {
     "data": {
      "text/html": [],
      "text/plain": [
       "<IPython.core.display.HTML object>"
      ]
     },
     "metadata": {},
     "output_type": "display_data"
    },
    {
     "data": {
      "text/html": [
       "<style type=\"text/css\">\n",
       "</style>\n",
       "<table id=\"T_2b5f6\">\n",
       "  <thead>\n",
       "    <tr>\n",
       "      <th class=\"blank level0\" >&nbsp;</th>\n",
       "      <th id=\"T_2b5f6_level0_col0\" class=\"col_heading level0 col0\" >Silhouette</th>\n",
       "      <th id=\"T_2b5f6_level0_col1\" class=\"col_heading level0 col1\" >Calinski-Harabasz</th>\n",
       "      <th id=\"T_2b5f6_level0_col2\" class=\"col_heading level0 col2\" >Davies-Bouldin</th>\n",
       "      <th id=\"T_2b5f6_level0_col3\" class=\"col_heading level0 col3\" >Homogeneity</th>\n",
       "      <th id=\"T_2b5f6_level0_col4\" class=\"col_heading level0 col4\" >Rand Index</th>\n",
       "      <th id=\"T_2b5f6_level0_col5\" class=\"col_heading level0 col5\" >Completeness</th>\n",
       "    </tr>\n",
       "  </thead>\n",
       "  <tbody>\n",
       "    <tr>\n",
       "      <th id=\"T_2b5f6_level0_row0\" class=\"row_heading level0 row0\" >0</th>\n",
       "      <td id=\"T_2b5f6_row0_col0\" class=\"data row0 col0\" >0.4675</td>\n",
       "      <td id=\"T_2b5f6_row0_col1\" class=\"data row0 col1\" >4346.0409</td>\n",
       "      <td id=\"T_2b5f6_row0_col2\" class=\"data row0 col2\" >0.6670</td>\n",
       "      <td id=\"T_2b5f6_row0_col3\" class=\"data row0 col3\" >0</td>\n",
       "      <td id=\"T_2b5f6_row0_col4\" class=\"data row0 col4\" >0</td>\n",
       "      <td id=\"T_2b5f6_row0_col5\" class=\"data row0 col5\" >0</td>\n",
       "    </tr>\n",
       "  </tbody>\n",
       "</table>\n"
      ],
      "text/plain": [
       "<pandas.io.formats.style.Styler at 0x1e8b1ba6e50>"
      ]
     },
     "metadata": {},
     "output_type": "display_data"
    },
    {
     "data": {
      "text/html": [],
      "text/plain": [
       "<IPython.core.display.HTML object>"
      ]
     },
     "metadata": {},
     "output_type": "display_data"
    },
    {
     "name": "stdout",
     "output_type": "stream",
     "text": [
      "hclust Using PCA 5\n"
     ]
    },
    {
     "data": {
      "text/html": [],
      "text/plain": [
       "<IPython.core.display.HTML object>"
      ]
     },
     "metadata": {},
     "output_type": "display_data"
    },
    {
     "data": {
      "text/html": [
       "<style type=\"text/css\">\n",
       "</style>\n",
       "<table id=\"T_56c7b\">\n",
       "  <thead>\n",
       "    <tr>\n",
       "      <th class=\"blank level0\" >&nbsp;</th>\n",
       "      <th id=\"T_56c7b_level0_col0\" class=\"col_heading level0 col0\" >Silhouette</th>\n",
       "      <th id=\"T_56c7b_level0_col1\" class=\"col_heading level0 col1\" >Calinski-Harabasz</th>\n",
       "      <th id=\"T_56c7b_level0_col2\" class=\"col_heading level0 col2\" >Davies-Bouldin</th>\n",
       "      <th id=\"T_56c7b_level0_col3\" class=\"col_heading level0 col3\" >Homogeneity</th>\n",
       "      <th id=\"T_56c7b_level0_col4\" class=\"col_heading level0 col4\" >Rand Index</th>\n",
       "      <th id=\"T_56c7b_level0_col5\" class=\"col_heading level0 col5\" >Completeness</th>\n",
       "    </tr>\n",
       "  </thead>\n",
       "  <tbody>\n",
       "    <tr>\n",
       "      <th id=\"T_56c7b_level0_row0\" class=\"row_heading level0 row0\" >0</th>\n",
       "      <td id=\"T_56c7b_row0_col0\" class=\"data row0 col0\" >0.4151</td>\n",
       "      <td id=\"T_56c7b_row0_col1\" class=\"data row0 col1\" >4114.6364</td>\n",
       "      <td id=\"T_56c7b_row0_col2\" class=\"data row0 col2\" >0.7314</td>\n",
       "      <td id=\"T_56c7b_row0_col3\" class=\"data row0 col3\" >0</td>\n",
       "      <td id=\"T_56c7b_row0_col4\" class=\"data row0 col4\" >0</td>\n",
       "      <td id=\"T_56c7b_row0_col5\" class=\"data row0 col5\" >0</td>\n",
       "    </tr>\n",
       "  </tbody>\n",
       "</table>\n"
      ],
      "text/plain": [
       "<pandas.io.formats.style.Styler at 0x1e8b1bb9b10>"
      ]
     },
     "metadata": {},
     "output_type": "display_data"
    },
    {
     "data": {
      "text/html": [],
      "text/plain": [
       "<IPython.core.display.HTML object>"
      ]
     },
     "metadata": {},
     "output_type": "display_data"
    },
    {
     "name": "stdout",
     "output_type": "stream",
     "text": [
      "hclust Using T+N 3\n"
     ]
    },
    {
     "data": {
      "text/html": [],
      "text/plain": [
       "<IPython.core.display.HTML object>"
      ]
     },
     "metadata": {},
     "output_type": "display_data"
    },
    {
     "data": {
      "text/html": [
       "<style type=\"text/css\">\n",
       "</style>\n",
       "<table id=\"T_094e7\">\n",
       "  <thead>\n",
       "    <tr>\n",
       "      <th class=\"blank level0\" >&nbsp;</th>\n",
       "      <th id=\"T_094e7_level0_col0\" class=\"col_heading level0 col0\" >Silhouette</th>\n",
       "      <th id=\"T_094e7_level0_col1\" class=\"col_heading level0 col1\" >Calinski-Harabasz</th>\n",
       "      <th id=\"T_094e7_level0_col2\" class=\"col_heading level0 col2\" >Davies-Bouldin</th>\n",
       "      <th id=\"T_094e7_level0_col3\" class=\"col_heading level0 col3\" >Homogeneity</th>\n",
       "      <th id=\"T_094e7_level0_col4\" class=\"col_heading level0 col4\" >Rand Index</th>\n",
       "      <th id=\"T_094e7_level0_col5\" class=\"col_heading level0 col5\" >Completeness</th>\n",
       "    </tr>\n",
       "  </thead>\n",
       "  <tbody>\n",
       "    <tr>\n",
       "      <th id=\"T_094e7_level0_row0\" class=\"row_heading level0 row0\" >0</th>\n",
       "      <td id=\"T_094e7_row0_col0\" class=\"data row0 col0\" >0.2153</td>\n",
       "      <td id=\"T_094e7_row0_col1\" class=\"data row0 col1\" >168.9287</td>\n",
       "      <td id=\"T_094e7_row0_col2\" class=\"data row0 col2\" >2.4209</td>\n",
       "      <td id=\"T_094e7_row0_col3\" class=\"data row0 col3\" >0</td>\n",
       "      <td id=\"T_094e7_row0_col4\" class=\"data row0 col4\" >0</td>\n",
       "      <td id=\"T_094e7_row0_col5\" class=\"data row0 col5\" >0</td>\n",
       "    </tr>\n",
       "  </tbody>\n",
       "</table>\n"
      ],
      "text/plain": [
       "<pandas.io.formats.style.Styler at 0x1e8b1bd0e10>"
      ]
     },
     "metadata": {},
     "output_type": "display_data"
    },
    {
     "data": {
      "text/html": [],
      "text/plain": [
       "<IPython.core.display.HTML object>"
      ]
     },
     "metadata": {},
     "output_type": "display_data"
    },
    {
     "name": "stdout",
     "output_type": "stream",
     "text": [
      "hclust Using T+N 4\n"
     ]
    },
    {
     "data": {
      "text/html": [],
      "text/plain": [
       "<IPython.core.display.HTML object>"
      ]
     },
     "metadata": {},
     "output_type": "display_data"
    },
    {
     "data": {
      "text/html": [
       "<style type=\"text/css\">\n",
       "</style>\n",
       "<table id=\"T_de76e\">\n",
       "  <thead>\n",
       "    <tr>\n",
       "      <th class=\"blank level0\" >&nbsp;</th>\n",
       "      <th id=\"T_de76e_level0_col0\" class=\"col_heading level0 col0\" >Silhouette</th>\n",
       "      <th id=\"T_de76e_level0_col1\" class=\"col_heading level0 col1\" >Calinski-Harabasz</th>\n",
       "      <th id=\"T_de76e_level0_col2\" class=\"col_heading level0 col2\" >Davies-Bouldin</th>\n",
       "      <th id=\"T_de76e_level0_col3\" class=\"col_heading level0 col3\" >Homogeneity</th>\n",
       "      <th id=\"T_de76e_level0_col4\" class=\"col_heading level0 col4\" >Rand Index</th>\n",
       "      <th id=\"T_de76e_level0_col5\" class=\"col_heading level0 col5\" >Completeness</th>\n",
       "    </tr>\n",
       "  </thead>\n",
       "  <tbody>\n",
       "    <tr>\n",
       "      <th id=\"T_de76e_level0_row0\" class=\"row_heading level0 row0\" >0</th>\n",
       "      <td id=\"T_de76e_row0_col0\" class=\"data row0 col0\" >0.1980</td>\n",
       "      <td id=\"T_de76e_row0_col1\" class=\"data row0 col1\" >168.1136</td>\n",
       "      <td id=\"T_de76e_row0_col2\" class=\"data row0 col2\" >2.0814</td>\n",
       "      <td id=\"T_de76e_row0_col3\" class=\"data row0 col3\" >0</td>\n",
       "      <td id=\"T_de76e_row0_col4\" class=\"data row0 col4\" >0</td>\n",
       "      <td id=\"T_de76e_row0_col5\" class=\"data row0 col5\" >0</td>\n",
       "    </tr>\n",
       "  </tbody>\n",
       "</table>\n"
      ],
      "text/plain": [
       "<pandas.io.formats.style.Styler at 0x1e8b1bd1690>"
      ]
     },
     "metadata": {},
     "output_type": "display_data"
    },
    {
     "data": {
      "text/html": [],
      "text/plain": [
       "<IPython.core.display.HTML object>"
      ]
     },
     "metadata": {},
     "output_type": "display_data"
    },
    {
     "name": "stdout",
     "output_type": "stream",
     "text": [
      "hclust Using T+N 5\n"
     ]
    },
    {
     "data": {
      "text/html": [],
      "text/plain": [
       "<IPython.core.display.HTML object>"
      ]
     },
     "metadata": {},
     "output_type": "display_data"
    },
    {
     "data": {
      "text/html": [
       "<style type=\"text/css\">\n",
       "</style>\n",
       "<table id=\"T_e16e2\">\n",
       "  <thead>\n",
       "    <tr>\n",
       "      <th class=\"blank level0\" >&nbsp;</th>\n",
       "      <th id=\"T_e16e2_level0_col0\" class=\"col_heading level0 col0\" >Silhouette</th>\n",
       "      <th id=\"T_e16e2_level0_col1\" class=\"col_heading level0 col1\" >Calinski-Harabasz</th>\n",
       "      <th id=\"T_e16e2_level0_col2\" class=\"col_heading level0 col2\" >Davies-Bouldin</th>\n",
       "      <th id=\"T_e16e2_level0_col3\" class=\"col_heading level0 col3\" >Homogeneity</th>\n",
       "      <th id=\"T_e16e2_level0_col4\" class=\"col_heading level0 col4\" >Rand Index</th>\n",
       "      <th id=\"T_e16e2_level0_col5\" class=\"col_heading level0 col5\" >Completeness</th>\n",
       "    </tr>\n",
       "  </thead>\n",
       "  <tbody>\n",
       "    <tr>\n",
       "      <th id=\"T_e16e2_level0_row0\" class=\"row_heading level0 row0\" >0</th>\n",
       "      <td id=\"T_e16e2_row0_col0\" class=\"data row0 col0\" >0.2046</td>\n",
       "      <td id=\"T_e16e2_row0_col1\" class=\"data row0 col1\" >172.0094</td>\n",
       "      <td id=\"T_e16e2_row0_col2\" class=\"data row0 col2\" >1.7095</td>\n",
       "      <td id=\"T_e16e2_row0_col3\" class=\"data row0 col3\" >0</td>\n",
       "      <td id=\"T_e16e2_row0_col4\" class=\"data row0 col4\" >0</td>\n",
       "      <td id=\"T_e16e2_row0_col5\" class=\"data row0 col5\" >0</td>\n",
       "    </tr>\n",
       "  </tbody>\n",
       "</table>\n"
      ],
      "text/plain": [
       "<pandas.io.formats.style.Styler at 0x1e8b1b6e310>"
      ]
     },
     "metadata": {},
     "output_type": "display_data"
    },
    {
     "data": {
      "text/html": [],
      "text/plain": [
       "<IPython.core.display.HTML object>"
      ]
     },
     "metadata": {},
     "output_type": "display_data"
    },
    {
     "name": "stdout",
     "output_type": "stream",
     "text": [
      "hclust Using T+N+PCA 3\n"
     ]
    },
    {
     "data": {
      "text/html": [],
      "text/plain": [
       "<IPython.core.display.HTML object>"
      ]
     },
     "metadata": {},
     "output_type": "display_data"
    },
    {
     "data": {
      "text/html": [
       "<style type=\"text/css\">\n",
       "</style>\n",
       "<table id=\"T_453e5\">\n",
       "  <thead>\n",
       "    <tr>\n",
       "      <th class=\"blank level0\" >&nbsp;</th>\n",
       "      <th id=\"T_453e5_level0_col0\" class=\"col_heading level0 col0\" >Silhouette</th>\n",
       "      <th id=\"T_453e5_level0_col1\" class=\"col_heading level0 col1\" >Calinski-Harabasz</th>\n",
       "      <th id=\"T_453e5_level0_col2\" class=\"col_heading level0 col2\" >Davies-Bouldin</th>\n",
       "      <th id=\"T_453e5_level0_col3\" class=\"col_heading level0 col3\" >Homogeneity</th>\n",
       "      <th id=\"T_453e5_level0_col4\" class=\"col_heading level0 col4\" >Rand Index</th>\n",
       "      <th id=\"T_453e5_level0_col5\" class=\"col_heading level0 col5\" >Completeness</th>\n",
       "    </tr>\n",
       "  </thead>\n",
       "  <tbody>\n",
       "    <tr>\n",
       "      <th id=\"T_453e5_level0_row0\" class=\"row_heading level0 row0\" >0</th>\n",
       "      <td id=\"T_453e5_row0_col0\" class=\"data row0 col0\" >0.2153</td>\n",
       "      <td id=\"T_453e5_row0_col1\" class=\"data row0 col1\" >168.9288</td>\n",
       "      <td id=\"T_453e5_row0_col2\" class=\"data row0 col2\" >2.4209</td>\n",
       "      <td id=\"T_453e5_row0_col3\" class=\"data row0 col3\" >0</td>\n",
       "      <td id=\"T_453e5_row0_col4\" class=\"data row0 col4\" >0</td>\n",
       "      <td id=\"T_453e5_row0_col5\" class=\"data row0 col5\" >0</td>\n",
       "    </tr>\n",
       "  </tbody>\n",
       "</table>\n"
      ],
      "text/plain": [
       "<pandas.io.formats.style.Styler at 0x1e8b1bdb690>"
      ]
     },
     "metadata": {},
     "output_type": "display_data"
    },
    {
     "data": {
      "text/html": [],
      "text/plain": [
       "<IPython.core.display.HTML object>"
      ]
     },
     "metadata": {},
     "output_type": "display_data"
    },
    {
     "name": "stdout",
     "output_type": "stream",
     "text": [
      "hclust Using T+N+PCA 4\n"
     ]
    },
    {
     "data": {
      "text/html": [],
      "text/plain": [
       "<IPython.core.display.HTML object>"
      ]
     },
     "metadata": {},
     "output_type": "display_data"
    },
    {
     "data": {
      "text/html": [
       "<style type=\"text/css\">\n",
       "</style>\n",
       "<table id=\"T_bce4e\">\n",
       "  <thead>\n",
       "    <tr>\n",
       "      <th class=\"blank level0\" >&nbsp;</th>\n",
       "      <th id=\"T_bce4e_level0_col0\" class=\"col_heading level0 col0\" >Silhouette</th>\n",
       "      <th id=\"T_bce4e_level0_col1\" class=\"col_heading level0 col1\" >Calinski-Harabasz</th>\n",
       "      <th id=\"T_bce4e_level0_col2\" class=\"col_heading level0 col2\" >Davies-Bouldin</th>\n",
       "      <th id=\"T_bce4e_level0_col3\" class=\"col_heading level0 col3\" >Homogeneity</th>\n",
       "      <th id=\"T_bce4e_level0_col4\" class=\"col_heading level0 col4\" >Rand Index</th>\n",
       "      <th id=\"T_bce4e_level0_col5\" class=\"col_heading level0 col5\" >Completeness</th>\n",
       "    </tr>\n",
       "  </thead>\n",
       "  <tbody>\n",
       "    <tr>\n",
       "      <th id=\"T_bce4e_level0_row0\" class=\"row_heading level0 row0\" >0</th>\n",
       "      <td id=\"T_bce4e_row0_col0\" class=\"data row0 col0\" >0.1980</td>\n",
       "      <td id=\"T_bce4e_row0_col1\" class=\"data row0 col1\" >168.1137</td>\n",
       "      <td id=\"T_bce4e_row0_col2\" class=\"data row0 col2\" >2.0814</td>\n",
       "      <td id=\"T_bce4e_row0_col3\" class=\"data row0 col3\" >0</td>\n",
       "      <td id=\"T_bce4e_row0_col4\" class=\"data row0 col4\" >0</td>\n",
       "      <td id=\"T_bce4e_row0_col5\" class=\"data row0 col5\" >0</td>\n",
       "    </tr>\n",
       "  </tbody>\n",
       "</table>\n"
      ],
      "text/plain": [
       "<pandas.io.formats.style.Styler at 0x1e8b1bd3110>"
      ]
     },
     "metadata": {},
     "output_type": "display_data"
    },
    {
     "data": {
      "text/html": [],
      "text/plain": [
       "<IPython.core.display.HTML object>"
      ]
     },
     "metadata": {},
     "output_type": "display_data"
    },
    {
     "name": "stdout",
     "output_type": "stream",
     "text": [
      "hclust Using T+N+PCA 5\n"
     ]
    },
    {
     "data": {
      "text/html": [],
      "text/plain": [
       "<IPython.core.display.HTML object>"
      ]
     },
     "metadata": {},
     "output_type": "display_data"
    },
    {
     "data": {
      "text/html": [
       "<style type=\"text/css\">\n",
       "</style>\n",
       "<table id=\"T_df0fe\">\n",
       "  <thead>\n",
       "    <tr>\n",
       "      <th class=\"blank level0\" >&nbsp;</th>\n",
       "      <th id=\"T_df0fe_level0_col0\" class=\"col_heading level0 col0\" >Silhouette</th>\n",
       "      <th id=\"T_df0fe_level0_col1\" class=\"col_heading level0 col1\" >Calinski-Harabasz</th>\n",
       "      <th id=\"T_df0fe_level0_col2\" class=\"col_heading level0 col2\" >Davies-Bouldin</th>\n",
       "      <th id=\"T_df0fe_level0_col3\" class=\"col_heading level0 col3\" >Homogeneity</th>\n",
       "      <th id=\"T_df0fe_level0_col4\" class=\"col_heading level0 col4\" >Rand Index</th>\n",
       "      <th id=\"T_df0fe_level0_col5\" class=\"col_heading level0 col5\" >Completeness</th>\n",
       "    </tr>\n",
       "  </thead>\n",
       "  <tbody>\n",
       "    <tr>\n",
       "      <th id=\"T_df0fe_level0_row0\" class=\"row_heading level0 row0\" >0</th>\n",
       "      <td id=\"T_df0fe_row0_col0\" class=\"data row0 col0\" >0.2046</td>\n",
       "      <td id=\"T_df0fe_row0_col1\" class=\"data row0 col1\" >172.0095</td>\n",
       "      <td id=\"T_df0fe_row0_col2\" class=\"data row0 col2\" >1.7095</td>\n",
       "      <td id=\"T_df0fe_row0_col3\" class=\"data row0 col3\" >0</td>\n",
       "      <td id=\"T_df0fe_row0_col4\" class=\"data row0 col4\" >0</td>\n",
       "      <td id=\"T_df0fe_row0_col5\" class=\"data row0 col5\" >0</td>\n",
       "    </tr>\n",
       "  </tbody>\n",
       "</table>\n"
      ],
      "text/plain": [
       "<pandas.io.formats.style.Styler at 0x1e8afadf810>"
      ]
     },
     "metadata": {},
     "output_type": "display_data"
    },
    {
     "data": {
      "text/html": [],
      "text/plain": [
       "<IPython.core.display.HTML object>"
      ]
     },
     "metadata": {},
     "output_type": "display_data"
    },
    {
     "name": "stdout",
     "output_type": "stream",
     "text": [
      "meanshift No Data Preprocessing 3\n"
     ]
    },
    {
     "data": {
      "text/html": [],
      "text/plain": [
       "<IPython.core.display.HTML object>"
      ]
     },
     "metadata": {},
     "output_type": "display_data"
    },
    {
     "data": {
      "text/html": [
       "<style type=\"text/css\">\n",
       "</style>\n",
       "<table id=\"T_92096\">\n",
       "  <thead>\n",
       "    <tr>\n",
       "      <th class=\"blank level0\" >&nbsp;</th>\n",
       "      <th id=\"T_92096_level0_col0\" class=\"col_heading level0 col0\" >Silhouette</th>\n",
       "      <th id=\"T_92096_level0_col1\" class=\"col_heading level0 col1\" >Calinski-Harabasz</th>\n",
       "      <th id=\"T_92096_level0_col2\" class=\"col_heading level0 col2\" >Davies-Bouldin</th>\n",
       "      <th id=\"T_92096_level0_col3\" class=\"col_heading level0 col3\" >Homogeneity</th>\n",
       "      <th id=\"T_92096_level0_col4\" class=\"col_heading level0 col4\" >Rand Index</th>\n",
       "      <th id=\"T_92096_level0_col5\" class=\"col_heading level0 col5\" >Completeness</th>\n",
       "    </tr>\n",
       "  </thead>\n",
       "  <tbody>\n",
       "    <tr>\n",
       "      <th id=\"T_92096_level0_row0\" class=\"row_heading level0 row0\" >0</th>\n",
       "      <td id=\"T_92096_row0_col0\" class=\"data row0 col0\" >0.5592</td>\n",
       "      <td id=\"T_92096_row0_col1\" class=\"data row0 col1\" >4309.4903</td>\n",
       "      <td id=\"T_92096_row0_col2\" class=\"data row0 col2\" >0.5983</td>\n",
       "      <td id=\"T_92096_row0_col3\" class=\"data row0 col3\" >0</td>\n",
       "      <td id=\"T_92096_row0_col4\" class=\"data row0 col4\" >0</td>\n",
       "      <td id=\"T_92096_row0_col5\" class=\"data row0 col5\" >0</td>\n",
       "    </tr>\n",
       "  </tbody>\n",
       "</table>\n"
      ],
      "text/plain": [
       "<pandas.io.formats.style.Styler at 0x1e8c1dfc7d0>"
      ]
     },
     "metadata": {},
     "output_type": "display_data"
    },
    {
     "data": {
      "text/html": [],
      "text/plain": [
       "<IPython.core.display.HTML object>"
      ]
     },
     "metadata": {},
     "output_type": "display_data"
    },
    {
     "name": "stdout",
     "output_type": "stream",
     "text": [
      "meanshift No Data Preprocessing 4\n"
     ]
    },
    {
     "data": {
      "text/html": [],
      "text/plain": [
       "<IPython.core.display.HTML object>"
      ]
     },
     "metadata": {},
     "output_type": "display_data"
    },
    {
     "data": {
      "text/html": [
       "<style type=\"text/css\">\n",
       "</style>\n",
       "<table id=\"T_a517d\">\n",
       "  <thead>\n",
       "    <tr>\n",
       "      <th class=\"blank level0\" >&nbsp;</th>\n",
       "      <th id=\"T_a517d_level0_col0\" class=\"col_heading level0 col0\" >Silhouette</th>\n",
       "      <th id=\"T_a517d_level0_col1\" class=\"col_heading level0 col1\" >Calinski-Harabasz</th>\n",
       "      <th id=\"T_a517d_level0_col2\" class=\"col_heading level0 col2\" >Davies-Bouldin</th>\n",
       "      <th id=\"T_a517d_level0_col3\" class=\"col_heading level0 col3\" >Homogeneity</th>\n",
       "      <th id=\"T_a517d_level0_col4\" class=\"col_heading level0 col4\" >Rand Index</th>\n",
       "      <th id=\"T_a517d_level0_col5\" class=\"col_heading level0 col5\" >Completeness</th>\n",
       "    </tr>\n",
       "  </thead>\n",
       "  <tbody>\n",
       "    <tr>\n",
       "      <th id=\"T_a517d_level0_row0\" class=\"row_heading level0 row0\" >0</th>\n",
       "      <td id=\"T_a517d_row0_col0\" class=\"data row0 col0\" >0.5592</td>\n",
       "      <td id=\"T_a517d_row0_col1\" class=\"data row0 col1\" >4309.4903</td>\n",
       "      <td id=\"T_a517d_row0_col2\" class=\"data row0 col2\" >0.5983</td>\n",
       "      <td id=\"T_a517d_row0_col3\" class=\"data row0 col3\" >0</td>\n",
       "      <td id=\"T_a517d_row0_col4\" class=\"data row0 col4\" >0</td>\n",
       "      <td id=\"T_a517d_row0_col5\" class=\"data row0 col5\" >0</td>\n",
       "    </tr>\n",
       "  </tbody>\n",
       "</table>\n"
      ],
      "text/plain": [
       "<pandas.io.formats.style.Styler at 0x1e8afa94550>"
      ]
     },
     "metadata": {},
     "output_type": "display_data"
    },
    {
     "data": {
      "text/html": [],
      "text/plain": [
       "<IPython.core.display.HTML object>"
      ]
     },
     "metadata": {},
     "output_type": "display_data"
    },
    {
     "name": "stdout",
     "output_type": "stream",
     "text": [
      "meanshift No Data Preprocessing 5\n"
     ]
    },
    {
     "data": {
      "text/html": [],
      "text/plain": [
       "<IPython.core.display.HTML object>"
      ]
     },
     "metadata": {},
     "output_type": "display_data"
    },
    {
     "data": {
      "text/html": [
       "<style type=\"text/css\">\n",
       "</style>\n",
       "<table id=\"T_e33f3\">\n",
       "  <thead>\n",
       "    <tr>\n",
       "      <th class=\"blank level0\" >&nbsp;</th>\n",
       "      <th id=\"T_e33f3_level0_col0\" class=\"col_heading level0 col0\" >Silhouette</th>\n",
       "      <th id=\"T_e33f3_level0_col1\" class=\"col_heading level0 col1\" >Calinski-Harabasz</th>\n",
       "      <th id=\"T_e33f3_level0_col2\" class=\"col_heading level0 col2\" >Davies-Bouldin</th>\n",
       "      <th id=\"T_e33f3_level0_col3\" class=\"col_heading level0 col3\" >Homogeneity</th>\n",
       "      <th id=\"T_e33f3_level0_col4\" class=\"col_heading level0 col4\" >Rand Index</th>\n",
       "      <th id=\"T_e33f3_level0_col5\" class=\"col_heading level0 col5\" >Completeness</th>\n",
       "    </tr>\n",
       "  </thead>\n",
       "  <tbody>\n",
       "    <tr>\n",
       "      <th id=\"T_e33f3_level0_row0\" class=\"row_heading level0 row0\" >0</th>\n",
       "      <td id=\"T_e33f3_row0_col0\" class=\"data row0 col0\" >0.5592</td>\n",
       "      <td id=\"T_e33f3_row0_col1\" class=\"data row0 col1\" >4309.4903</td>\n",
       "      <td id=\"T_e33f3_row0_col2\" class=\"data row0 col2\" >0.5983</td>\n",
       "      <td id=\"T_e33f3_row0_col3\" class=\"data row0 col3\" >0</td>\n",
       "      <td id=\"T_e33f3_row0_col4\" class=\"data row0 col4\" >0</td>\n",
       "      <td id=\"T_e33f3_row0_col5\" class=\"data row0 col5\" >0</td>\n",
       "    </tr>\n",
       "  </tbody>\n",
       "</table>\n"
      ],
      "text/plain": [
       "<pandas.io.formats.style.Styler at 0x1e8c1c66710>"
      ]
     },
     "metadata": {},
     "output_type": "display_data"
    },
    {
     "data": {
      "text/html": [],
      "text/plain": [
       "<IPython.core.display.HTML object>"
      ]
     },
     "metadata": {},
     "output_type": "display_data"
    },
    {
     "name": "stdout",
     "output_type": "stream",
     "text": [
      "meanshift Using Normalization 3\n"
     ]
    },
    {
     "data": {
      "text/html": [],
      "text/plain": [
       "<IPython.core.display.HTML object>"
      ]
     },
     "metadata": {},
     "output_type": "display_data"
    },
    {
     "data": {
      "text/html": [
       "<style type=\"text/css\">\n",
       "</style>\n",
       "<table id=\"T_277f1\">\n",
       "  <thead>\n",
       "    <tr>\n",
       "      <th class=\"blank level0\" >&nbsp;</th>\n",
       "      <th id=\"T_277f1_level0_col0\" class=\"col_heading level0 col0\" >Silhouette</th>\n",
       "      <th id=\"T_277f1_level0_col1\" class=\"col_heading level0 col1\" >Calinski-Harabasz</th>\n",
       "      <th id=\"T_277f1_level0_col2\" class=\"col_heading level0 col2\" >Davies-Bouldin</th>\n",
       "      <th id=\"T_277f1_level0_col3\" class=\"col_heading level0 col3\" >Homogeneity</th>\n",
       "      <th id=\"T_277f1_level0_col4\" class=\"col_heading level0 col4\" >Rand Index</th>\n",
       "      <th id=\"T_277f1_level0_col5\" class=\"col_heading level0 col5\" >Completeness</th>\n",
       "    </tr>\n",
       "  </thead>\n",
       "  <tbody>\n",
       "    <tr>\n",
       "      <th id=\"T_277f1_level0_row0\" class=\"row_heading level0 row0\" >0</th>\n",
       "      <td id=\"T_277f1_row0_col0\" class=\"data row0 col0\" >0.3003</td>\n",
       "      <td id=\"T_277f1_row0_col1\" class=\"data row0 col1\" >30.6594</td>\n",
       "      <td id=\"T_277f1_row0_col2\" class=\"data row0 col2\" >0.7760</td>\n",
       "      <td id=\"T_277f1_row0_col3\" class=\"data row0 col3\" >0</td>\n",
       "      <td id=\"T_277f1_row0_col4\" class=\"data row0 col4\" >0</td>\n",
       "      <td id=\"T_277f1_row0_col5\" class=\"data row0 col5\" >0</td>\n",
       "    </tr>\n",
       "  </tbody>\n",
       "</table>\n"
      ],
      "text/plain": [
       "<pandas.io.formats.style.Styler at 0x1e8af553350>"
      ]
     },
     "metadata": {},
     "output_type": "display_data"
    },
    {
     "data": {
      "text/html": [],
      "text/plain": [
       "<IPython.core.display.HTML object>"
      ]
     },
     "metadata": {},
     "output_type": "display_data"
    },
    {
     "name": "stdout",
     "output_type": "stream",
     "text": [
      "meanshift Using Normalization 4\n"
     ]
    },
    {
     "data": {
      "text/html": [],
      "text/plain": [
       "<IPython.core.display.HTML object>"
      ]
     },
     "metadata": {},
     "output_type": "display_data"
    },
    {
     "data": {
      "text/html": [
       "<style type=\"text/css\">\n",
       "</style>\n",
       "<table id=\"T_755f6\">\n",
       "  <thead>\n",
       "    <tr>\n",
       "      <th class=\"blank level0\" >&nbsp;</th>\n",
       "      <th id=\"T_755f6_level0_col0\" class=\"col_heading level0 col0\" >Silhouette</th>\n",
       "      <th id=\"T_755f6_level0_col1\" class=\"col_heading level0 col1\" >Calinski-Harabasz</th>\n",
       "      <th id=\"T_755f6_level0_col2\" class=\"col_heading level0 col2\" >Davies-Bouldin</th>\n",
       "      <th id=\"T_755f6_level0_col3\" class=\"col_heading level0 col3\" >Homogeneity</th>\n",
       "      <th id=\"T_755f6_level0_col4\" class=\"col_heading level0 col4\" >Rand Index</th>\n",
       "      <th id=\"T_755f6_level0_col5\" class=\"col_heading level0 col5\" >Completeness</th>\n",
       "    </tr>\n",
       "  </thead>\n",
       "  <tbody>\n",
       "    <tr>\n",
       "      <th id=\"T_755f6_level0_row0\" class=\"row_heading level0 row0\" >0</th>\n",
       "      <td id=\"T_755f6_row0_col0\" class=\"data row0 col0\" >0.3003</td>\n",
       "      <td id=\"T_755f6_row0_col1\" class=\"data row0 col1\" >30.6594</td>\n",
       "      <td id=\"T_755f6_row0_col2\" class=\"data row0 col2\" >0.7760</td>\n",
       "      <td id=\"T_755f6_row0_col3\" class=\"data row0 col3\" >0</td>\n",
       "      <td id=\"T_755f6_row0_col4\" class=\"data row0 col4\" >0</td>\n",
       "      <td id=\"T_755f6_row0_col5\" class=\"data row0 col5\" >0</td>\n",
       "    </tr>\n",
       "  </tbody>\n",
       "</table>\n"
      ],
      "text/plain": [
       "<pandas.io.formats.style.Styler at 0x1e899762650>"
      ]
     },
     "metadata": {},
     "output_type": "display_data"
    },
    {
     "data": {
      "text/html": [],
      "text/plain": [
       "<IPython.core.display.HTML object>"
      ]
     },
     "metadata": {},
     "output_type": "display_data"
    },
    {
     "name": "stdout",
     "output_type": "stream",
     "text": [
      "meanshift Using Normalization 5\n"
     ]
    },
    {
     "data": {
      "text/html": [],
      "text/plain": [
       "<IPython.core.display.HTML object>"
      ]
     },
     "metadata": {},
     "output_type": "display_data"
    },
    {
     "data": {
      "text/html": [
       "<style type=\"text/css\">\n",
       "</style>\n",
       "<table id=\"T_0776b\">\n",
       "  <thead>\n",
       "    <tr>\n",
       "      <th class=\"blank level0\" >&nbsp;</th>\n",
       "      <th id=\"T_0776b_level0_col0\" class=\"col_heading level0 col0\" >Silhouette</th>\n",
       "      <th id=\"T_0776b_level0_col1\" class=\"col_heading level0 col1\" >Calinski-Harabasz</th>\n",
       "      <th id=\"T_0776b_level0_col2\" class=\"col_heading level0 col2\" >Davies-Bouldin</th>\n",
       "      <th id=\"T_0776b_level0_col3\" class=\"col_heading level0 col3\" >Homogeneity</th>\n",
       "      <th id=\"T_0776b_level0_col4\" class=\"col_heading level0 col4\" >Rand Index</th>\n",
       "      <th id=\"T_0776b_level0_col5\" class=\"col_heading level0 col5\" >Completeness</th>\n",
       "    </tr>\n",
       "  </thead>\n",
       "  <tbody>\n",
       "    <tr>\n",
       "      <th id=\"T_0776b_level0_row0\" class=\"row_heading level0 row0\" >0</th>\n",
       "      <td id=\"T_0776b_row0_col0\" class=\"data row0 col0\" >0.3003</td>\n",
       "      <td id=\"T_0776b_row0_col1\" class=\"data row0 col1\" >30.6594</td>\n",
       "      <td id=\"T_0776b_row0_col2\" class=\"data row0 col2\" >0.7760</td>\n",
       "      <td id=\"T_0776b_row0_col3\" class=\"data row0 col3\" >0</td>\n",
       "      <td id=\"T_0776b_row0_col4\" class=\"data row0 col4\" >0</td>\n",
       "      <td id=\"T_0776b_row0_col5\" class=\"data row0 col5\" >0</td>\n",
       "    </tr>\n",
       "  </tbody>\n",
       "</table>\n"
      ],
      "text/plain": [
       "<pandas.io.formats.style.Styler at 0x1e8b1bc47d0>"
      ]
     },
     "metadata": {},
     "output_type": "display_data"
    },
    {
     "data": {
      "text/html": [],
      "text/plain": [
       "<IPython.core.display.HTML object>"
      ]
     },
     "metadata": {},
     "output_type": "display_data"
    },
    {
     "name": "stdout",
     "output_type": "stream",
     "text": [
      "meanshift Using Transform 3\n"
     ]
    },
    {
     "data": {
      "text/html": [],
      "text/plain": [
       "<IPython.core.display.HTML object>"
      ]
     },
     "metadata": {},
     "output_type": "display_data"
    },
    {
     "data": {
      "text/html": [
       "<style type=\"text/css\">\n",
       "</style>\n",
       "<table id=\"T_8bbd2\">\n",
       "  <thead>\n",
       "    <tr>\n",
       "      <th class=\"blank level0\" >&nbsp;</th>\n",
       "      <th id=\"T_8bbd2_level0_col0\" class=\"col_heading level0 col0\" >Silhouette</th>\n",
       "      <th id=\"T_8bbd2_level0_col1\" class=\"col_heading level0 col1\" >Calinski-Harabasz</th>\n",
       "      <th id=\"T_8bbd2_level0_col2\" class=\"col_heading level0 col2\" >Davies-Bouldin</th>\n",
       "      <th id=\"T_8bbd2_level0_col3\" class=\"col_heading level0 col3\" >Homogeneity</th>\n",
       "      <th id=\"T_8bbd2_level0_col4\" class=\"col_heading level0 col4\" >Rand Index</th>\n",
       "      <th id=\"T_8bbd2_level0_col5\" class=\"col_heading level0 col5\" >Completeness</th>\n",
       "    </tr>\n",
       "  </thead>\n",
       "  <tbody>\n",
       "    <tr>\n",
       "      <th id=\"T_8bbd2_level0_row0\" class=\"row_heading level0 row0\" >0</th>\n",
       "      <td id=\"T_8bbd2_row0_col0\" class=\"data row0 col0\" >0.9640</td>\n",
       "      <td id=\"T_8bbd2_row0_col1\" class=\"data row0 col1\" >231576.6177</td>\n",
       "      <td id=\"T_8bbd2_row0_col2\" class=\"data row0 col2\" >0.0608</td>\n",
       "      <td id=\"T_8bbd2_row0_col3\" class=\"data row0 col3\" >0</td>\n",
       "      <td id=\"T_8bbd2_row0_col4\" class=\"data row0 col4\" >0</td>\n",
       "      <td id=\"T_8bbd2_row0_col5\" class=\"data row0 col5\" >0</td>\n",
       "    </tr>\n",
       "  </tbody>\n",
       "</table>\n"
      ],
      "text/plain": [
       "<pandas.io.formats.style.Styler at 0x1e8b1bae2d0>"
      ]
     },
     "metadata": {},
     "output_type": "display_data"
    },
    {
     "data": {
      "text/html": [],
      "text/plain": [
       "<IPython.core.display.HTML object>"
      ]
     },
     "metadata": {},
     "output_type": "display_data"
    },
    {
     "name": "stdout",
     "output_type": "stream",
     "text": [
      "meanshift Using Transform 4\n"
     ]
    },
    {
     "data": {
      "text/html": [],
      "text/plain": [
       "<IPython.core.display.HTML object>"
      ]
     },
     "metadata": {},
     "output_type": "display_data"
    },
    {
     "data": {
      "text/html": [
       "<style type=\"text/css\">\n",
       "</style>\n",
       "<table id=\"T_f40af\">\n",
       "  <thead>\n",
       "    <tr>\n",
       "      <th class=\"blank level0\" >&nbsp;</th>\n",
       "      <th id=\"T_f40af_level0_col0\" class=\"col_heading level0 col0\" >Silhouette</th>\n",
       "      <th id=\"T_f40af_level0_col1\" class=\"col_heading level0 col1\" >Calinski-Harabasz</th>\n",
       "      <th id=\"T_f40af_level0_col2\" class=\"col_heading level0 col2\" >Davies-Bouldin</th>\n",
       "      <th id=\"T_f40af_level0_col3\" class=\"col_heading level0 col3\" >Homogeneity</th>\n",
       "      <th id=\"T_f40af_level0_col4\" class=\"col_heading level0 col4\" >Rand Index</th>\n",
       "      <th id=\"T_f40af_level0_col5\" class=\"col_heading level0 col5\" >Completeness</th>\n",
       "    </tr>\n",
       "  </thead>\n",
       "  <tbody>\n",
       "    <tr>\n",
       "      <th id=\"T_f40af_level0_row0\" class=\"row_heading level0 row0\" >0</th>\n",
       "      <td id=\"T_f40af_row0_col0\" class=\"data row0 col0\" >0.9640</td>\n",
       "      <td id=\"T_f40af_row0_col1\" class=\"data row0 col1\" >231576.6177</td>\n",
       "      <td id=\"T_f40af_row0_col2\" class=\"data row0 col2\" >0.0608</td>\n",
       "      <td id=\"T_f40af_row0_col3\" class=\"data row0 col3\" >0</td>\n",
       "      <td id=\"T_f40af_row0_col4\" class=\"data row0 col4\" >0</td>\n",
       "      <td id=\"T_f40af_row0_col5\" class=\"data row0 col5\" >0</td>\n",
       "    </tr>\n",
       "  </tbody>\n",
       "</table>\n"
      ],
      "text/plain": [
       "<pandas.io.formats.style.Styler at 0x1e8b1b42ed0>"
      ]
     },
     "metadata": {},
     "output_type": "display_data"
    },
    {
     "data": {
      "text/html": [],
      "text/plain": [
       "<IPython.core.display.HTML object>"
      ]
     },
     "metadata": {},
     "output_type": "display_data"
    },
    {
     "name": "stdout",
     "output_type": "stream",
     "text": [
      "meanshift Using Transform 5\n"
     ]
    },
    {
     "data": {
      "text/html": [],
      "text/plain": [
       "<IPython.core.display.HTML object>"
      ]
     },
     "metadata": {},
     "output_type": "display_data"
    },
    {
     "data": {
      "text/html": [
       "<style type=\"text/css\">\n",
       "</style>\n",
       "<table id=\"T_6b65f\">\n",
       "  <thead>\n",
       "    <tr>\n",
       "      <th class=\"blank level0\" >&nbsp;</th>\n",
       "      <th id=\"T_6b65f_level0_col0\" class=\"col_heading level0 col0\" >Silhouette</th>\n",
       "      <th id=\"T_6b65f_level0_col1\" class=\"col_heading level0 col1\" >Calinski-Harabasz</th>\n",
       "      <th id=\"T_6b65f_level0_col2\" class=\"col_heading level0 col2\" >Davies-Bouldin</th>\n",
       "      <th id=\"T_6b65f_level0_col3\" class=\"col_heading level0 col3\" >Homogeneity</th>\n",
       "      <th id=\"T_6b65f_level0_col4\" class=\"col_heading level0 col4\" >Rand Index</th>\n",
       "      <th id=\"T_6b65f_level0_col5\" class=\"col_heading level0 col5\" >Completeness</th>\n",
       "    </tr>\n",
       "  </thead>\n",
       "  <tbody>\n",
       "    <tr>\n",
       "      <th id=\"T_6b65f_level0_row0\" class=\"row_heading level0 row0\" >0</th>\n",
       "      <td id=\"T_6b65f_row0_col0\" class=\"data row0 col0\" >0.9640</td>\n",
       "      <td id=\"T_6b65f_row0_col1\" class=\"data row0 col1\" >231576.6177</td>\n",
       "      <td id=\"T_6b65f_row0_col2\" class=\"data row0 col2\" >0.0608</td>\n",
       "      <td id=\"T_6b65f_row0_col3\" class=\"data row0 col3\" >0</td>\n",
       "      <td id=\"T_6b65f_row0_col4\" class=\"data row0 col4\" >0</td>\n",
       "      <td id=\"T_6b65f_row0_col5\" class=\"data row0 col5\" >0</td>\n",
       "    </tr>\n",
       "  </tbody>\n",
       "</table>\n"
      ],
      "text/plain": [
       "<pandas.io.formats.style.Styler at 0x1e8b1bbba10>"
      ]
     },
     "metadata": {},
     "output_type": "display_data"
    },
    {
     "data": {
      "text/html": [],
      "text/plain": [
       "<IPython.core.display.HTML object>"
      ]
     },
     "metadata": {},
     "output_type": "display_data"
    },
    {
     "name": "stdout",
     "output_type": "stream",
     "text": [
      "meanshift Using PCA 3\n"
     ]
    },
    {
     "data": {
      "text/html": [],
      "text/plain": [
       "<IPython.core.display.HTML object>"
      ]
     },
     "metadata": {},
     "output_type": "display_data"
    },
    {
     "data": {
      "text/html": [
       "<style type=\"text/css\">\n",
       "</style>\n",
       "<table id=\"T_0b246\">\n",
       "  <thead>\n",
       "    <tr>\n",
       "      <th class=\"blank level0\" >&nbsp;</th>\n",
       "      <th id=\"T_0b246_level0_col0\" class=\"col_heading level0 col0\" >Silhouette</th>\n",
       "      <th id=\"T_0b246_level0_col1\" class=\"col_heading level0 col1\" >Calinski-Harabasz</th>\n",
       "      <th id=\"T_0b246_level0_col2\" class=\"col_heading level0 col2\" >Davies-Bouldin</th>\n",
       "      <th id=\"T_0b246_level0_col3\" class=\"col_heading level0 col3\" >Homogeneity</th>\n",
       "      <th id=\"T_0b246_level0_col4\" class=\"col_heading level0 col4\" >Rand Index</th>\n",
       "      <th id=\"T_0b246_level0_col5\" class=\"col_heading level0 col5\" >Completeness</th>\n",
       "    </tr>\n",
       "  </thead>\n",
       "  <tbody>\n",
       "    <tr>\n",
       "      <th id=\"T_0b246_level0_row0\" class=\"row_heading level0 row0\" >0</th>\n",
       "      <td id=\"T_0b246_row0_col0\" class=\"data row0 col0\" >0.5592</td>\n",
       "      <td id=\"T_0b246_row0_col1\" class=\"data row0 col1\" >4309.4964</td>\n",
       "      <td id=\"T_0b246_row0_col2\" class=\"data row0 col2\" >0.5983</td>\n",
       "      <td id=\"T_0b246_row0_col3\" class=\"data row0 col3\" >0</td>\n",
       "      <td id=\"T_0b246_row0_col4\" class=\"data row0 col4\" >0</td>\n",
       "      <td id=\"T_0b246_row0_col5\" class=\"data row0 col5\" >0</td>\n",
       "    </tr>\n",
       "  </tbody>\n",
       "</table>\n"
      ],
      "text/plain": [
       "<pandas.io.formats.style.Styler at 0x1e8b1bcddd0>"
      ]
     },
     "metadata": {},
     "output_type": "display_data"
    },
    {
     "data": {
      "text/html": [],
      "text/plain": [
       "<IPython.core.display.HTML object>"
      ]
     },
     "metadata": {},
     "output_type": "display_data"
    },
    {
     "name": "stdout",
     "output_type": "stream",
     "text": [
      "meanshift Using PCA 4\n"
     ]
    },
    {
     "data": {
      "text/html": [],
      "text/plain": [
       "<IPython.core.display.HTML object>"
      ]
     },
     "metadata": {},
     "output_type": "display_data"
    },
    {
     "data": {
      "text/html": [
       "<style type=\"text/css\">\n",
       "</style>\n",
       "<table id=\"T_26417\">\n",
       "  <thead>\n",
       "    <tr>\n",
       "      <th class=\"blank level0\" >&nbsp;</th>\n",
       "      <th id=\"T_26417_level0_col0\" class=\"col_heading level0 col0\" >Silhouette</th>\n",
       "      <th id=\"T_26417_level0_col1\" class=\"col_heading level0 col1\" >Calinski-Harabasz</th>\n",
       "      <th id=\"T_26417_level0_col2\" class=\"col_heading level0 col2\" >Davies-Bouldin</th>\n",
       "      <th id=\"T_26417_level0_col3\" class=\"col_heading level0 col3\" >Homogeneity</th>\n",
       "      <th id=\"T_26417_level0_col4\" class=\"col_heading level0 col4\" >Rand Index</th>\n",
       "      <th id=\"T_26417_level0_col5\" class=\"col_heading level0 col5\" >Completeness</th>\n",
       "    </tr>\n",
       "  </thead>\n",
       "  <tbody>\n",
       "    <tr>\n",
       "      <th id=\"T_26417_level0_row0\" class=\"row_heading level0 row0\" >0</th>\n",
       "      <td id=\"T_26417_row0_col0\" class=\"data row0 col0\" >0.5592</td>\n",
       "      <td id=\"T_26417_row0_col1\" class=\"data row0 col1\" >4309.4964</td>\n",
       "      <td id=\"T_26417_row0_col2\" class=\"data row0 col2\" >0.5983</td>\n",
       "      <td id=\"T_26417_row0_col3\" class=\"data row0 col3\" >0</td>\n",
       "      <td id=\"T_26417_row0_col4\" class=\"data row0 col4\" >0</td>\n",
       "      <td id=\"T_26417_row0_col5\" class=\"data row0 col5\" >0</td>\n",
       "    </tr>\n",
       "  </tbody>\n",
       "</table>\n"
      ],
      "text/plain": [
       "<pandas.io.formats.style.Styler at 0x1e8c1c03b90>"
      ]
     },
     "metadata": {},
     "output_type": "display_data"
    },
    {
     "data": {
      "text/html": [],
      "text/plain": [
       "<IPython.core.display.HTML object>"
      ]
     },
     "metadata": {},
     "output_type": "display_data"
    },
    {
     "name": "stdout",
     "output_type": "stream",
     "text": [
      "meanshift Using PCA 5\n"
     ]
    },
    {
     "data": {
      "text/html": [],
      "text/plain": [
       "<IPython.core.display.HTML object>"
      ]
     },
     "metadata": {},
     "output_type": "display_data"
    },
    {
     "data": {
      "text/html": [
       "<style type=\"text/css\">\n",
       "</style>\n",
       "<table id=\"T_f0f4d\">\n",
       "  <thead>\n",
       "    <tr>\n",
       "      <th class=\"blank level0\" >&nbsp;</th>\n",
       "      <th id=\"T_f0f4d_level0_col0\" class=\"col_heading level0 col0\" >Silhouette</th>\n",
       "      <th id=\"T_f0f4d_level0_col1\" class=\"col_heading level0 col1\" >Calinski-Harabasz</th>\n",
       "      <th id=\"T_f0f4d_level0_col2\" class=\"col_heading level0 col2\" >Davies-Bouldin</th>\n",
       "      <th id=\"T_f0f4d_level0_col3\" class=\"col_heading level0 col3\" >Homogeneity</th>\n",
       "      <th id=\"T_f0f4d_level0_col4\" class=\"col_heading level0 col4\" >Rand Index</th>\n",
       "      <th id=\"T_f0f4d_level0_col5\" class=\"col_heading level0 col5\" >Completeness</th>\n",
       "    </tr>\n",
       "  </thead>\n",
       "  <tbody>\n",
       "    <tr>\n",
       "      <th id=\"T_f0f4d_level0_row0\" class=\"row_heading level0 row0\" >0</th>\n",
       "      <td id=\"T_f0f4d_row0_col0\" class=\"data row0 col0\" >0.5592</td>\n",
       "      <td id=\"T_f0f4d_row0_col1\" class=\"data row0 col1\" >4309.4964</td>\n",
       "      <td id=\"T_f0f4d_row0_col2\" class=\"data row0 col2\" >0.5983</td>\n",
       "      <td id=\"T_f0f4d_row0_col3\" class=\"data row0 col3\" >0</td>\n",
       "      <td id=\"T_f0f4d_row0_col4\" class=\"data row0 col4\" >0</td>\n",
       "      <td id=\"T_f0f4d_row0_col5\" class=\"data row0 col5\" >0</td>\n",
       "    </tr>\n",
       "  </tbody>\n",
       "</table>\n"
      ],
      "text/plain": [
       "<pandas.io.formats.style.Styler at 0x1e8b1baf250>"
      ]
     },
     "metadata": {},
     "output_type": "display_data"
    },
    {
     "data": {
      "text/html": [],
      "text/plain": [
       "<IPython.core.display.HTML object>"
      ]
     },
     "metadata": {},
     "output_type": "display_data"
    },
    {
     "name": "stdout",
     "output_type": "stream",
     "text": [
      "meanshift Using T+N 3\n"
     ]
    },
    {
     "data": {
      "text/html": [],
      "text/plain": [
       "<IPython.core.display.HTML object>"
      ]
     },
     "metadata": {},
     "output_type": "display_data"
    },
    {
     "data": {
      "text/html": [
       "<style type=\"text/css\">\n",
       "</style>\n",
       "<table id=\"T_3839d\">\n",
       "  <thead>\n",
       "    <tr>\n",
       "      <th class=\"blank level0\" >&nbsp;</th>\n",
       "      <th id=\"T_3839d_level0_col0\" class=\"col_heading level0 col0\" >Silhouette</th>\n",
       "      <th id=\"T_3839d_level0_col1\" class=\"col_heading level0 col1\" >Calinski-Harabasz</th>\n",
       "      <th id=\"T_3839d_level0_col2\" class=\"col_heading level0 col2\" >Davies-Bouldin</th>\n",
       "      <th id=\"T_3839d_level0_col3\" class=\"col_heading level0 col3\" >Homogeneity</th>\n",
       "      <th id=\"T_3839d_level0_col4\" class=\"col_heading level0 col4\" >Rand Index</th>\n",
       "      <th id=\"T_3839d_level0_col5\" class=\"col_heading level0 col5\" >Completeness</th>\n",
       "    </tr>\n",
       "  </thead>\n",
       "  <tbody>\n",
       "    <tr>\n",
       "      <th id=\"T_3839d_level0_row0\" class=\"row_heading level0 row0\" >0</th>\n",
       "      <td id=\"T_3839d_row0_col0\" class=\"data row0 col0\" >0.3182</td>\n",
       "      <td id=\"T_3839d_row0_col1\" class=\"data row0 col1\" >36.0077</td>\n",
       "      <td id=\"T_3839d_row0_col2\" class=\"data row0 col2\" >0.7927</td>\n",
       "      <td id=\"T_3839d_row0_col3\" class=\"data row0 col3\" >0</td>\n",
       "      <td id=\"T_3839d_row0_col4\" class=\"data row0 col4\" >0</td>\n",
       "      <td id=\"T_3839d_row0_col5\" class=\"data row0 col5\" >0</td>\n",
       "    </tr>\n",
       "  </tbody>\n",
       "</table>\n"
      ],
      "text/plain": [
       "<pandas.io.formats.style.Styler at 0x1e8b1b7ee90>"
      ]
     },
     "metadata": {},
     "output_type": "display_data"
    },
    {
     "data": {
      "text/html": [],
      "text/plain": [
       "<IPython.core.display.HTML object>"
      ]
     },
     "metadata": {},
     "output_type": "display_data"
    },
    {
     "name": "stdout",
     "output_type": "stream",
     "text": [
      "meanshift Using T+N 4\n"
     ]
    },
    {
     "data": {
      "text/html": [],
      "text/plain": [
       "<IPython.core.display.HTML object>"
      ]
     },
     "metadata": {},
     "output_type": "display_data"
    },
    {
     "data": {
      "text/html": [
       "<style type=\"text/css\">\n",
       "</style>\n",
       "<table id=\"T_72007\">\n",
       "  <thead>\n",
       "    <tr>\n",
       "      <th class=\"blank level0\" >&nbsp;</th>\n",
       "      <th id=\"T_72007_level0_col0\" class=\"col_heading level0 col0\" >Silhouette</th>\n",
       "      <th id=\"T_72007_level0_col1\" class=\"col_heading level0 col1\" >Calinski-Harabasz</th>\n",
       "      <th id=\"T_72007_level0_col2\" class=\"col_heading level0 col2\" >Davies-Bouldin</th>\n",
       "      <th id=\"T_72007_level0_col3\" class=\"col_heading level0 col3\" >Homogeneity</th>\n",
       "      <th id=\"T_72007_level0_col4\" class=\"col_heading level0 col4\" >Rand Index</th>\n",
       "      <th id=\"T_72007_level0_col5\" class=\"col_heading level0 col5\" >Completeness</th>\n",
       "    </tr>\n",
       "  </thead>\n",
       "  <tbody>\n",
       "    <tr>\n",
       "      <th id=\"T_72007_level0_row0\" class=\"row_heading level0 row0\" >0</th>\n",
       "      <td id=\"T_72007_row0_col0\" class=\"data row0 col0\" >0.3182</td>\n",
       "      <td id=\"T_72007_row0_col1\" class=\"data row0 col1\" >36.0077</td>\n",
       "      <td id=\"T_72007_row0_col2\" class=\"data row0 col2\" >0.7927</td>\n",
       "      <td id=\"T_72007_row0_col3\" class=\"data row0 col3\" >0</td>\n",
       "      <td id=\"T_72007_row0_col4\" class=\"data row0 col4\" >0</td>\n",
       "      <td id=\"T_72007_row0_col5\" class=\"data row0 col5\" >0</td>\n",
       "    </tr>\n",
       "  </tbody>\n",
       "</table>\n"
      ],
      "text/plain": [
       "<pandas.io.formats.style.Styler at 0x1e8b1b25b90>"
      ]
     },
     "metadata": {},
     "output_type": "display_data"
    },
    {
     "data": {
      "text/html": [],
      "text/plain": [
       "<IPython.core.display.HTML object>"
      ]
     },
     "metadata": {},
     "output_type": "display_data"
    },
    {
     "name": "stdout",
     "output_type": "stream",
     "text": [
      "meanshift Using T+N 5\n"
     ]
    },
    {
     "data": {
      "text/html": [],
      "text/plain": [
       "<IPython.core.display.HTML object>"
      ]
     },
     "metadata": {},
     "output_type": "display_data"
    },
    {
     "data": {
      "text/html": [
       "<style type=\"text/css\">\n",
       "</style>\n",
       "<table id=\"T_a1ae3\">\n",
       "  <thead>\n",
       "    <tr>\n",
       "      <th class=\"blank level0\" >&nbsp;</th>\n",
       "      <th id=\"T_a1ae3_level0_col0\" class=\"col_heading level0 col0\" >Silhouette</th>\n",
       "      <th id=\"T_a1ae3_level0_col1\" class=\"col_heading level0 col1\" >Calinski-Harabasz</th>\n",
       "      <th id=\"T_a1ae3_level0_col2\" class=\"col_heading level0 col2\" >Davies-Bouldin</th>\n",
       "      <th id=\"T_a1ae3_level0_col3\" class=\"col_heading level0 col3\" >Homogeneity</th>\n",
       "      <th id=\"T_a1ae3_level0_col4\" class=\"col_heading level0 col4\" >Rand Index</th>\n",
       "      <th id=\"T_a1ae3_level0_col5\" class=\"col_heading level0 col5\" >Completeness</th>\n",
       "    </tr>\n",
       "  </thead>\n",
       "  <tbody>\n",
       "    <tr>\n",
       "      <th id=\"T_a1ae3_level0_row0\" class=\"row_heading level0 row0\" >0</th>\n",
       "      <td id=\"T_a1ae3_row0_col0\" class=\"data row0 col0\" >0.3182</td>\n",
       "      <td id=\"T_a1ae3_row0_col1\" class=\"data row0 col1\" >36.0077</td>\n",
       "      <td id=\"T_a1ae3_row0_col2\" class=\"data row0 col2\" >0.7927</td>\n",
       "      <td id=\"T_a1ae3_row0_col3\" class=\"data row0 col3\" >0</td>\n",
       "      <td id=\"T_a1ae3_row0_col4\" class=\"data row0 col4\" >0</td>\n",
       "      <td id=\"T_a1ae3_row0_col5\" class=\"data row0 col5\" >0</td>\n",
       "    </tr>\n",
       "  </tbody>\n",
       "</table>\n"
      ],
      "text/plain": [
       "<pandas.io.formats.style.Styler at 0x1e8b1be5d10>"
      ]
     },
     "metadata": {},
     "output_type": "display_data"
    },
    {
     "data": {
      "text/html": [],
      "text/plain": [
       "<IPython.core.display.HTML object>"
      ]
     },
     "metadata": {},
     "output_type": "display_data"
    },
    {
     "name": "stdout",
     "output_type": "stream",
     "text": [
      "meanshift Using T+N+PCA 3\n"
     ]
    },
    {
     "data": {
      "text/html": [],
      "text/plain": [
       "<IPython.core.display.HTML object>"
      ]
     },
     "metadata": {},
     "output_type": "display_data"
    },
    {
     "data": {
      "text/html": [
       "<style type=\"text/css\">\n",
       "</style>\n",
       "<table id=\"T_b0fdd\">\n",
       "  <thead>\n",
       "    <tr>\n",
       "      <th class=\"blank level0\" >&nbsp;</th>\n",
       "      <th id=\"T_b0fdd_level0_col0\" class=\"col_heading level0 col0\" >Silhouette</th>\n",
       "      <th id=\"T_b0fdd_level0_col1\" class=\"col_heading level0 col1\" >Calinski-Harabasz</th>\n",
       "      <th id=\"T_b0fdd_level0_col2\" class=\"col_heading level0 col2\" >Davies-Bouldin</th>\n",
       "      <th id=\"T_b0fdd_level0_col3\" class=\"col_heading level0 col3\" >Homogeneity</th>\n",
       "      <th id=\"T_b0fdd_level0_col4\" class=\"col_heading level0 col4\" >Rand Index</th>\n",
       "      <th id=\"T_b0fdd_level0_col5\" class=\"col_heading level0 col5\" >Completeness</th>\n",
       "    </tr>\n",
       "  </thead>\n",
       "  <tbody>\n",
       "    <tr>\n",
       "      <th id=\"T_b0fdd_level0_row0\" class=\"row_heading level0 row0\" >0</th>\n",
       "      <td id=\"T_b0fdd_row0_col0\" class=\"data row0 col0\" >0.3182</td>\n",
       "      <td id=\"T_b0fdd_row0_col1\" class=\"data row0 col1\" >36.0077</td>\n",
       "      <td id=\"T_b0fdd_row0_col2\" class=\"data row0 col2\" >0.7927</td>\n",
       "      <td id=\"T_b0fdd_row0_col3\" class=\"data row0 col3\" >0</td>\n",
       "      <td id=\"T_b0fdd_row0_col4\" class=\"data row0 col4\" >0</td>\n",
       "      <td id=\"T_b0fdd_row0_col5\" class=\"data row0 col5\" >0</td>\n",
       "    </tr>\n",
       "  </tbody>\n",
       "</table>\n"
      ],
      "text/plain": [
       "<pandas.io.formats.style.Styler at 0x1e8b1b27a10>"
      ]
     },
     "metadata": {},
     "output_type": "display_data"
    },
    {
     "data": {
      "text/html": [],
      "text/plain": [
       "<IPython.core.display.HTML object>"
      ]
     },
     "metadata": {},
     "output_type": "display_data"
    },
    {
     "name": "stdout",
     "output_type": "stream",
     "text": [
      "meanshift Using T+N+PCA 4\n"
     ]
    },
    {
     "data": {
      "text/html": [],
      "text/plain": [
       "<IPython.core.display.HTML object>"
      ]
     },
     "metadata": {},
     "output_type": "display_data"
    },
    {
     "data": {
      "text/html": [
       "<style type=\"text/css\">\n",
       "</style>\n",
       "<table id=\"T_e14bb\">\n",
       "  <thead>\n",
       "    <tr>\n",
       "      <th class=\"blank level0\" >&nbsp;</th>\n",
       "      <th id=\"T_e14bb_level0_col0\" class=\"col_heading level0 col0\" >Silhouette</th>\n",
       "      <th id=\"T_e14bb_level0_col1\" class=\"col_heading level0 col1\" >Calinski-Harabasz</th>\n",
       "      <th id=\"T_e14bb_level0_col2\" class=\"col_heading level0 col2\" >Davies-Bouldin</th>\n",
       "      <th id=\"T_e14bb_level0_col3\" class=\"col_heading level0 col3\" >Homogeneity</th>\n",
       "      <th id=\"T_e14bb_level0_col4\" class=\"col_heading level0 col4\" >Rand Index</th>\n",
       "      <th id=\"T_e14bb_level0_col5\" class=\"col_heading level0 col5\" >Completeness</th>\n",
       "    </tr>\n",
       "  </thead>\n",
       "  <tbody>\n",
       "    <tr>\n",
       "      <th id=\"T_e14bb_level0_row0\" class=\"row_heading level0 row0\" >0</th>\n",
       "      <td id=\"T_e14bb_row0_col0\" class=\"data row0 col0\" >0.3182</td>\n",
       "      <td id=\"T_e14bb_row0_col1\" class=\"data row0 col1\" >36.0077</td>\n",
       "      <td id=\"T_e14bb_row0_col2\" class=\"data row0 col2\" >0.7927</td>\n",
       "      <td id=\"T_e14bb_row0_col3\" class=\"data row0 col3\" >0</td>\n",
       "      <td id=\"T_e14bb_row0_col4\" class=\"data row0 col4\" >0</td>\n",
       "      <td id=\"T_e14bb_row0_col5\" class=\"data row0 col5\" >0</td>\n",
       "    </tr>\n",
       "  </tbody>\n",
       "</table>\n"
      ],
      "text/plain": [
       "<pandas.io.formats.style.Styler at 0x1e8c1ddec10>"
      ]
     },
     "metadata": {},
     "output_type": "display_data"
    },
    {
     "data": {
      "text/html": [],
      "text/plain": [
       "<IPython.core.display.HTML object>"
      ]
     },
     "metadata": {},
     "output_type": "display_data"
    },
    {
     "name": "stdout",
     "output_type": "stream",
     "text": [
      "meanshift Using T+N+PCA 5\n"
     ]
    },
    {
     "data": {
      "text/html": [],
      "text/plain": [
       "<IPython.core.display.HTML object>"
      ]
     },
     "metadata": {},
     "output_type": "display_data"
    },
    {
     "data": {
      "text/html": [
       "<style type=\"text/css\">\n",
       "</style>\n",
       "<table id=\"T_a7839\">\n",
       "  <thead>\n",
       "    <tr>\n",
       "      <th class=\"blank level0\" >&nbsp;</th>\n",
       "      <th id=\"T_a7839_level0_col0\" class=\"col_heading level0 col0\" >Silhouette</th>\n",
       "      <th id=\"T_a7839_level0_col1\" class=\"col_heading level0 col1\" >Calinski-Harabasz</th>\n",
       "      <th id=\"T_a7839_level0_col2\" class=\"col_heading level0 col2\" >Davies-Bouldin</th>\n",
       "      <th id=\"T_a7839_level0_col3\" class=\"col_heading level0 col3\" >Homogeneity</th>\n",
       "      <th id=\"T_a7839_level0_col4\" class=\"col_heading level0 col4\" >Rand Index</th>\n",
       "      <th id=\"T_a7839_level0_col5\" class=\"col_heading level0 col5\" >Completeness</th>\n",
       "    </tr>\n",
       "  </thead>\n",
       "  <tbody>\n",
       "    <tr>\n",
       "      <th id=\"T_a7839_level0_row0\" class=\"row_heading level0 row0\" >0</th>\n",
       "      <td id=\"T_a7839_row0_col0\" class=\"data row0 col0\" >0.3182</td>\n",
       "      <td id=\"T_a7839_row0_col1\" class=\"data row0 col1\" >36.0077</td>\n",
       "      <td id=\"T_a7839_row0_col2\" class=\"data row0 col2\" >0.7927</td>\n",
       "      <td id=\"T_a7839_row0_col3\" class=\"data row0 col3\" >0</td>\n",
       "      <td id=\"T_a7839_row0_col4\" class=\"data row0 col4\" >0</td>\n",
       "      <td id=\"T_a7839_row0_col5\" class=\"data row0 col5\" >0</td>\n",
       "    </tr>\n",
       "  </tbody>\n",
       "</table>\n"
      ],
      "text/plain": [
       "<pandas.io.formats.style.Styler at 0x1e8c1c36710>"
      ]
     },
     "metadata": {},
     "output_type": "display_data"
    },
    {
     "data": {
      "text/html": [],
      "text/plain": [
       "<IPython.core.display.HTML object>"
      ]
     },
     "metadata": {},
     "output_type": "display_data"
    }
   ],
   "source": [
    "models = ['kmeans', 'hclust', 'meanshift']\n",
    "for model in models:\n",
    "    result_dict[model] = run_clustering_model(model_name=model, setup_args=setup_args, num_clusters_range=num_clusters_range, data=X)"
   ]
  },
  {
   "cell_type": "markdown",
   "metadata": {},
   "source": [
    "### Results\n",
    "*Kmeans Clustering*"
   ]
  },
  {
   "cell_type": "code",
   "execution_count": 15,
   "metadata": {},
   "outputs": [
    {
     "data": {
      "text/html": [
       "<div>\n",
       "<style scoped>\n",
       "    .dataframe tbody tr th:only-of-type {\n",
       "        vertical-align: middle;\n",
       "    }\n",
       "\n",
       "    .dataframe tbody tr th {\n",
       "        vertical-align: top;\n",
       "    }\n",
       "\n",
       "    .dataframe thead tr th {\n",
       "        text-align: left;\n",
       "    }\n",
       "</style>\n",
       "<table border=\"1\" class=\"dataframe\">\n",
       "  <thead>\n",
       "    <tr>\n",
       "      <th></th>\n",
       "      <th colspan=\"3\" halign=\"left\">No Data Preprocessing</th>\n",
       "      <th colspan=\"3\" halign=\"left\">Using Normalization</th>\n",
       "      <th colspan=\"3\" halign=\"left\">Using Transform</th>\n",
       "      <th colspan=\"3\" halign=\"left\">Using PCA</th>\n",
       "      <th colspan=\"3\" halign=\"left\">Using T+N</th>\n",
       "      <th colspan=\"3\" halign=\"left\">Using T+N+PCA</th>\n",
       "    </tr>\n",
       "    <tr>\n",
       "      <th></th>\n",
       "      <th>c=3</th>\n",
       "      <th>c=4</th>\n",
       "      <th>c=5</th>\n",
       "      <th>c=3</th>\n",
       "      <th>c=4</th>\n",
       "      <th>c=5</th>\n",
       "      <th>c=3</th>\n",
       "      <th>c=4</th>\n",
       "      <th>c=5</th>\n",
       "      <th>c=3</th>\n",
       "      <th>c=4</th>\n",
       "      <th>c=5</th>\n",
       "      <th>c=3</th>\n",
       "      <th>c=4</th>\n",
       "      <th>c=5</th>\n",
       "      <th>c=3</th>\n",
       "      <th>c=4</th>\n",
       "      <th>c=5</th>\n",
       "    </tr>\n",
       "  </thead>\n",
       "  <tbody>\n",
       "    <tr>\n",
       "      <th>Silhouette</th>\n",
       "      <td>0.503127</td>\n",
       "      <td>0.475092</td>\n",
       "      <td>0.431226</td>\n",
       "      <td>0.155356</td>\n",
       "      <td>-0.039229</td>\n",
       "      <td>-0.007025</td>\n",
       "      <td>0.062337</td>\n",
       "      <td>-0.098254</td>\n",
       "      <td>-0.128453</td>\n",
       "      <td>0.503127</td>\n",
       "      <td>0.475092</td>\n",
       "      <td>0.431226</td>\n",
       "      <td>0.146546</td>\n",
       "      <td>-0.026773</td>\n",
       "      <td>-0.005986</td>\n",
       "      <td>0.148261</td>\n",
       "      <td>-0.040432</td>\n",
       "      <td>-0.050791</td>\n",
       "    </tr>\n",
       "    <tr>\n",
       "      <th>Calinski-Harabasz</th>\n",
       "      <td>4729.250305</td>\n",
       "      <td>4818.286402</td>\n",
       "      <td>4599.036346</td>\n",
       "      <td>838.228756</td>\n",
       "      <td>444.686679</td>\n",
       "      <td>446.775732</td>\n",
       "      <td>384.602450</td>\n",
       "      <td>277.110536</td>\n",
       "      <td>216.554677</td>\n",
       "      <td>4729.250305</td>\n",
       "      <td>4818.286402</td>\n",
       "      <td>4599.036346</td>\n",
       "      <td>808.964756</td>\n",
       "      <td>438.170403</td>\n",
       "      <td>439.472583</td>\n",
       "      <td>818.502893</td>\n",
       "      <td>433.653896</td>\n",
       "      <td>312.546238</td>\n",
       "    </tr>\n",
       "    <tr>\n",
       "      <th>Davies-Bouldin</th>\n",
       "      <td>0.667549</td>\n",
       "      <td>0.700300</td>\n",
       "      <td>0.756829</td>\n",
       "      <td>1.854982</td>\n",
       "      <td>4.365204</td>\n",
       "      <td>2.319714</td>\n",
       "      <td>2.814921</td>\n",
       "      <td>3.757068</td>\n",
       "      <td>8.267418</td>\n",
       "      <td>0.667549</td>\n",
       "      <td>0.700300</td>\n",
       "      <td>0.756829</td>\n",
       "      <td>1.830030</td>\n",
       "      <td>4.735321</td>\n",
       "      <td>2.458323</td>\n",
       "      <td>1.816003</td>\n",
       "      <td>4.575594</td>\n",
       "      <td>6.332252</td>\n",
       "    </tr>\n",
       "  </tbody>\n",
       "</table>\n",
       "</div>"
      ],
      "text/plain": [
       "                  No Data Preprocessing                            \\\n",
       "                                    c=3          c=4          c=5   \n",
       "Silhouette                     0.503127     0.475092     0.431226   \n",
       "Calinski-Harabasz           4729.250305  4818.286402  4599.036346   \n",
       "Davies-Bouldin                 0.667549     0.700300     0.756829   \n",
       "\n",
       "                  Using Normalization                         Using Transform  \\\n",
       "                                  c=3         c=4         c=5             c=3   \n",
       "Silhouette                   0.155356   -0.039229   -0.007025        0.062337   \n",
       "Calinski-Harabasz          838.228756  444.686679  446.775732      384.602450   \n",
       "Davies-Bouldin               1.854982    4.365204    2.319714        2.814921   \n",
       "\n",
       "                                             Using PCA               \\\n",
       "                          c=4         c=5          c=3          c=4   \n",
       "Silhouette          -0.098254   -0.128453     0.503127     0.475092   \n",
       "Calinski-Harabasz  277.110536  216.554677  4729.250305  4818.286402   \n",
       "Davies-Bouldin       3.757068    8.267418     0.667549     0.700300   \n",
       "\n",
       "                                 Using T+N                          \\\n",
       "                           c=5         c=3         c=4         c=5   \n",
       "Silhouette            0.431226    0.146546   -0.026773   -0.005986   \n",
       "Calinski-Harabasz  4599.036346  808.964756  438.170403  439.472583   \n",
       "Davies-Bouldin        0.756829    1.830030    4.735321    2.458323   \n",
       "\n",
       "                  Using T+N+PCA                          \n",
       "                            c=3         c=4         c=5  \n",
       "Silhouette             0.148261   -0.040432   -0.050791  \n",
       "Calinski-Harabasz    818.502893  433.653896  312.546238  \n",
       "Davies-Bouldin         1.816003    4.575594    6.332252  "
      ]
     },
     "execution_count": 15,
     "metadata": {},
     "output_type": "execute_result"
    }
   ],
   "source": [
    "result_dict['kmeans']"
   ]
  },
  {
   "cell_type": "markdown",
   "metadata": {},
   "source": [
    "*Hierarchial Clustering*"
   ]
  },
  {
   "cell_type": "code",
   "execution_count": 16,
   "metadata": {},
   "outputs": [
    {
     "data": {
      "text/html": [
       "<div>\n",
       "<style scoped>\n",
       "    .dataframe tbody tr th:only-of-type {\n",
       "        vertical-align: middle;\n",
       "    }\n",
       "\n",
       "    .dataframe tbody tr th {\n",
       "        vertical-align: top;\n",
       "    }\n",
       "\n",
       "    .dataframe thead tr th {\n",
       "        text-align: left;\n",
       "    }\n",
       "</style>\n",
       "<table border=\"1\" class=\"dataframe\">\n",
       "  <thead>\n",
       "    <tr>\n",
       "      <th></th>\n",
       "      <th colspan=\"3\" halign=\"left\">No Data Preprocessing</th>\n",
       "      <th colspan=\"3\" halign=\"left\">Using Normalization</th>\n",
       "      <th colspan=\"3\" halign=\"left\">Using Transform</th>\n",
       "      <th colspan=\"3\" halign=\"left\">Using PCA</th>\n",
       "      <th colspan=\"3\" halign=\"left\">Using T+N</th>\n",
       "      <th colspan=\"3\" halign=\"left\">Using T+N+PCA</th>\n",
       "    </tr>\n",
       "    <tr>\n",
       "      <th></th>\n",
       "      <th>c=3</th>\n",
       "      <th>c=4</th>\n",
       "      <th>c=5</th>\n",
       "      <th>c=3</th>\n",
       "      <th>c=4</th>\n",
       "      <th>c=5</th>\n",
       "      <th>c=3</th>\n",
       "      <th>c=4</th>\n",
       "      <th>c=5</th>\n",
       "      <th>c=3</th>\n",
       "      <th>c=4</th>\n",
       "      <th>c=5</th>\n",
       "      <th>c=3</th>\n",
       "      <th>c=4</th>\n",
       "      <th>c=5</th>\n",
       "      <th>c=3</th>\n",
       "      <th>c=4</th>\n",
       "      <th>c=5</th>\n",
       "    </tr>\n",
       "  </thead>\n",
       "  <tbody>\n",
       "    <tr>\n",
       "      <th>Silhouette</th>\n",
       "      <td>0.475726</td>\n",
       "      <td>0.467548</td>\n",
       "      <td>0.415117</td>\n",
       "      <td>0.060391</td>\n",
       "      <td>-0.029765</td>\n",
       "      <td>-0.042453</td>\n",
       "      <td>0.062337</td>\n",
       "      <td>-0.099628</td>\n",
       "      <td>-0.129376</td>\n",
       "      <td>0.475726</td>\n",
       "      <td>0.467548</td>\n",
       "      <td>0.415117</td>\n",
       "      <td>0.098841</td>\n",
       "      <td>-0.014811</td>\n",
       "      <td>-0.029596</td>\n",
       "      <td>0.098841</td>\n",
       "      <td>-0.014811</td>\n",
       "      <td>-0.029596</td>\n",
       "    </tr>\n",
       "    <tr>\n",
       "      <th>Calinski-Harabasz</th>\n",
       "      <td>4302.495839</td>\n",
       "      <td>4346.043925</td>\n",
       "      <td>4114.637298</td>\n",
       "      <td>436.363741</td>\n",
       "      <td>309.647539</td>\n",
       "      <td>232.338639</td>\n",
       "      <td>384.602450</td>\n",
       "      <td>276.709678</td>\n",
       "      <td>216.276108</td>\n",
       "      <td>4302.495839</td>\n",
       "      <td>4346.043925</td>\n",
       "      <td>4114.637298</td>\n",
       "      <td>392.483965</td>\n",
       "      <td>266.722296</td>\n",
       "      <td>200.142280</td>\n",
       "      <td>392.483965</td>\n",
       "      <td>266.722296</td>\n",
       "      <td>200.142280</td>\n",
       "    </tr>\n",
       "    <tr>\n",
       "      <th>Davies-Bouldin</th>\n",
       "      <td>0.700061</td>\n",
       "      <td>0.666997</td>\n",
       "      <td>0.731406</td>\n",
       "      <td>2.471153</td>\n",
       "      <td>2.976022</td>\n",
       "      <td>3.615776</td>\n",
       "      <td>2.814921</td>\n",
       "      <td>3.737062</td>\n",
       "      <td>8.253889</td>\n",
       "      <td>0.700061</td>\n",
       "      <td>0.666997</td>\n",
       "      <td>0.731406</td>\n",
       "      <td>4.727314</td>\n",
       "      <td>4.503711</td>\n",
       "      <td>4.842121</td>\n",
       "      <td>4.727314</td>\n",
       "      <td>4.503711</td>\n",
       "      <td>4.842121</td>\n",
       "    </tr>\n",
       "  </tbody>\n",
       "</table>\n",
       "</div>"
      ],
      "text/plain": [
       "                  No Data Preprocessing                            \\\n",
       "                                    c=3          c=4          c=5   \n",
       "Silhouette                     0.475726     0.467548     0.415117   \n",
       "Calinski-Harabasz           4302.495839  4346.043925  4114.637298   \n",
       "Davies-Bouldin                 0.700061     0.666997     0.731406   \n",
       "\n",
       "                  Using Normalization                         Using Transform  \\\n",
       "                                  c=3         c=4         c=5             c=3   \n",
       "Silhouette                   0.060391   -0.029765   -0.042453        0.062337   \n",
       "Calinski-Harabasz          436.363741  309.647539  232.338639      384.602450   \n",
       "Davies-Bouldin               2.471153    2.976022    3.615776        2.814921   \n",
       "\n",
       "                                             Using PCA               \\\n",
       "                          c=4         c=5          c=3          c=4   \n",
       "Silhouette          -0.099628   -0.129376     0.475726     0.467548   \n",
       "Calinski-Harabasz  276.709678  216.276108  4302.495839  4346.043925   \n",
       "Davies-Bouldin       3.737062    8.253889     0.700061     0.666997   \n",
       "\n",
       "                                 Using T+N                          \\\n",
       "                           c=5         c=3         c=4         c=5   \n",
       "Silhouette            0.415117    0.098841   -0.014811   -0.029596   \n",
       "Calinski-Harabasz  4114.637298  392.483965  266.722296  200.142280   \n",
       "Davies-Bouldin        0.731406    4.727314    4.503711    4.842121   \n",
       "\n",
       "                  Using T+N+PCA                          \n",
       "                            c=3         c=4         c=5  \n",
       "Silhouette             0.098841   -0.014811   -0.029596  \n",
       "Calinski-Harabasz    392.483965  266.722296  200.142280  \n",
       "Davies-Bouldin         4.727314    4.503711    4.842121  "
      ]
     },
     "execution_count": 16,
     "metadata": {},
     "output_type": "execute_result"
    }
   ],
   "source": [
    "result_dict['hclust']"
   ]
  },
  {
   "cell_type": "markdown",
   "metadata": {},
   "source": [
    "*Kmeans Shift*"
   ]
  },
  {
   "cell_type": "code",
   "execution_count": 17,
   "metadata": {},
   "outputs": [
    {
     "data": {
      "text/html": [
       "<div>\n",
       "<style scoped>\n",
       "    .dataframe tbody tr th:only-of-type {\n",
       "        vertical-align: middle;\n",
       "    }\n",
       "\n",
       "    .dataframe tbody tr th {\n",
       "        vertical-align: top;\n",
       "    }\n",
       "\n",
       "    .dataframe thead tr th {\n",
       "        text-align: left;\n",
       "    }\n",
       "</style>\n",
       "<table border=\"1\" class=\"dataframe\">\n",
       "  <thead>\n",
       "    <tr>\n",
       "      <th></th>\n",
       "      <th colspan=\"3\" halign=\"left\">No Data Preprocessing</th>\n",
       "      <th colspan=\"3\" halign=\"left\">Using Normalization</th>\n",
       "      <th colspan=\"3\" halign=\"left\">Using Transform</th>\n",
       "      <th colspan=\"3\" halign=\"left\">Using PCA</th>\n",
       "      <th colspan=\"3\" halign=\"left\">Using T+N</th>\n",
       "      <th colspan=\"3\" halign=\"left\">Using T+N+PCA</th>\n",
       "    </tr>\n",
       "    <tr>\n",
       "      <th></th>\n",
       "      <th>c=3</th>\n",
       "      <th>c=4</th>\n",
       "      <th>c=5</th>\n",
       "      <th>c=3</th>\n",
       "      <th>c=4</th>\n",
       "      <th>c=5</th>\n",
       "      <th>c=3</th>\n",
       "      <th>c=4</th>\n",
       "      <th>c=5</th>\n",
       "      <th>c=3</th>\n",
       "      <th>c=4</th>\n",
       "      <th>c=5</th>\n",
       "      <th>c=3</th>\n",
       "      <th>c=4</th>\n",
       "      <th>c=5</th>\n",
       "      <th>c=3</th>\n",
       "      <th>c=4</th>\n",
       "      <th>c=5</th>\n",
       "    </tr>\n",
       "  </thead>\n",
       "  <tbody>\n",
       "    <tr>\n",
       "      <th>Silhouette</th>\n",
       "      <td>0.559179</td>\n",
       "      <td>0.559179</td>\n",
       "      <td>0.559179</td>\n",
       "      <td>-0.740924</td>\n",
       "      <td>-0.740924</td>\n",
       "      <td>-0.740924</td>\n",
       "      <td>0.019492</td>\n",
       "      <td>0.019492</td>\n",
       "      <td>0.019492</td>\n",
       "      <td>0.559179</td>\n",
       "      <td>0.559179</td>\n",
       "      <td>0.559179</td>\n",
       "      <td>-0.742555</td>\n",
       "      <td>-0.742555</td>\n",
       "      <td>-0.742555</td>\n",
       "      <td>-0.742555</td>\n",
       "      <td>-0.742555</td>\n",
       "      <td>-0.742555</td>\n",
       "    </tr>\n",
       "    <tr>\n",
       "      <th>Calinski-Harabasz</th>\n",
       "      <td>4309.498187</td>\n",
       "      <td>4309.498187</td>\n",
       "      <td>4309.498187</td>\n",
       "      <td>4.867212</td>\n",
       "      <td>4.867212</td>\n",
       "      <td>4.867212</td>\n",
       "      <td>158.963052</td>\n",
       "      <td>158.963052</td>\n",
       "      <td>158.963052</td>\n",
       "      <td>4309.498187</td>\n",
       "      <td>4309.498187</td>\n",
       "      <td>4309.498187</td>\n",
       "      <td>5.356018</td>\n",
       "      <td>5.356018</td>\n",
       "      <td>5.356018</td>\n",
       "      <td>5.356018</td>\n",
       "      <td>5.356018</td>\n",
       "      <td>5.356018</td>\n",
       "    </tr>\n",
       "    <tr>\n",
       "      <th>Davies-Bouldin</th>\n",
       "      <td>0.598328</td>\n",
       "      <td>0.598328</td>\n",
       "      <td>0.598328</td>\n",
       "      <td>2.757867</td>\n",
       "      <td>2.757867</td>\n",
       "      <td>2.757867</td>\n",
       "      <td>1.720077</td>\n",
       "      <td>1.720077</td>\n",
       "      <td>1.720077</td>\n",
       "      <td>0.598328</td>\n",
       "      <td>0.598328</td>\n",
       "      <td>0.598328</td>\n",
       "      <td>3.614551</td>\n",
       "      <td>3.614551</td>\n",
       "      <td>3.614551</td>\n",
       "      <td>3.614551</td>\n",
       "      <td>3.614551</td>\n",
       "      <td>3.614551</td>\n",
       "    </tr>\n",
       "  </tbody>\n",
       "</table>\n",
       "</div>"
      ],
      "text/plain": [
       "                  No Data Preprocessing                            \\\n",
       "                                    c=3          c=4          c=5   \n",
       "Silhouette                     0.559179     0.559179     0.559179   \n",
       "Calinski-Harabasz           4309.498187  4309.498187  4309.498187   \n",
       "Davies-Bouldin                 0.598328     0.598328     0.598328   \n",
       "\n",
       "                  Using Normalization                     Using Transform  \\\n",
       "                                  c=3       c=4       c=5             c=3   \n",
       "Silhouette                  -0.740924 -0.740924 -0.740924        0.019492   \n",
       "Calinski-Harabasz            4.867212  4.867212  4.867212      158.963052   \n",
       "Davies-Bouldin               2.757867  2.757867  2.757867        1.720077   \n",
       "\n",
       "                                             Using PCA               \\\n",
       "                          c=4         c=5          c=3          c=4   \n",
       "Silhouette           0.019492    0.019492     0.559179     0.559179   \n",
       "Calinski-Harabasz  158.963052  158.963052  4309.498187  4309.498187   \n",
       "Davies-Bouldin       1.720077    1.720077     0.598328     0.598328   \n",
       "\n",
       "                               Using T+N                     Using T+N+PCA  \\\n",
       "                           c=5       c=3       c=4       c=5           c=3   \n",
       "Silhouette            0.559179 -0.742555 -0.742555 -0.742555     -0.742555   \n",
       "Calinski-Harabasz  4309.498187  5.356018  5.356018  5.356018      5.356018   \n",
       "Davies-Bouldin        0.598328  3.614551  3.614551  3.614551      3.614551   \n",
       "\n",
       "                                       \n",
       "                        c=4       c=5  \n",
       "Silhouette        -0.742555 -0.742555  \n",
       "Calinski-Harabasz  5.356018  5.356018  \n",
       "Davies-Bouldin     3.614551  3.614551  "
      ]
     },
     "execution_count": 17,
     "metadata": {},
     "output_type": "execute_result"
    }
   ],
   "source": [
    "result_dict['meanshift']"
   ]
  }
 ],
 "metadata": {
  "kernelspec": {
   "display_name": "Python 3",
   "language": "python",
   "name": "python3"
  },
  "language_info": {
   "codemirror_mode": {
    "name": "ipython",
    "version": 3
   },
   "file_extension": ".py",
   "mimetype": "text/x-python",
   "name": "python",
   "nbconvert_exporter": "python",
   "pygments_lexer": "ipython3",
   "version": "3.11.4"
  }
 },
 "nbformat": 4,
 "nbformat_minor": 2
}
